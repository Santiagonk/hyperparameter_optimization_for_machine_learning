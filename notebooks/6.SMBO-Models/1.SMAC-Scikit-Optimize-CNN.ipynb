{
 "cells": [
  {
   "cell_type": "markdown",
   "metadata": {},
   "source": [
    "# Bayesian Optimization with Random Forests (SMAC)"
   ]
  },
  {
   "cell_type": "markdown",
   "metadata": {},
   "source": [
    "#### Optimizing a CNN with Scikit-Optimize\n",
    "In this notebook, we will use **Bayesian Optimization** to select the best **hyperparameters** for a CNN that recognizes digits in images, using the MNIST dataset and the open source Python package Scikit-Optimize.\n",
    "\n",
    "We will use Random Forests as the surrogate function to approximate f(x)\n",
    "\n",
    "The MNIST dataset is availale in Kaggle.\n",
    "\n",
    "#### Download dataset\n",
    "* Navigate to the MNIST website in Kaggle\n",
    "* Download the train.csv file\n",
    "* Unzip and copy the train.csv file to where you see the SAVE_DATASETS-HERE.txt file\n",
    "* Rename to mnist.csv\n",
    "\n",
    "**Remember that you need to be logged in to be able to download the dataset**\n",
    "\n",
    "#### Notebook content\n",
    "* Data Preparation\n",
    "* Set up a simple CNN\n",
    "* Set up the hyperparameter search shape\n",
    "* Set up the objective function\n",
    "* Perform Bayesian Optimization\n",
    "* Evaluate Model Performance"
   ]
  },
  {
   "cell_type": "code",
   "execution_count": 1,
   "metadata": {},
   "outputs": [],
   "source": [
    "# For reproducible results.\n",
    "# See: \n",
    "# https://keras.io/getting_started/faq/#how-can-i-obtain-reproducible-results-using-keras-during-development\n",
    "\n",
    "import os\n",
    "os.environ['PYTHONHASHSEED'] = '0'\n",
    "\n",
    "import numpy as np\n",
    "import tensorflow as tf\n",
    "import random as python_random\n",
    "\n",
    "# The below is necessary for starting Numpy generated random numbers\n",
    "# in a well-defined initial state.\n",
    "np.random.seed(123)\n",
    "\n",
    "# The below is necessary for starting core Python generated random numbers\n",
    "# in a well-defined state.\n",
    "python_random.seed(123)\n",
    "\n",
    "# The below set_seed() will make random number generation\n",
    "# in the TensorFlow backend have a well-defined initial state.\n",
    "# For further details, see:\n",
    "# https://www.tensorflow.org/api_docs/python/tf/random/set_seed\n",
    "tf.random.set_seed(1234)"
   ]
  },
  {
   "cell_type": "code",
   "execution_count": 1,
   "metadata": {},
   "outputs": [],
   "source": [
    "import itertools\n",
    "\n",
    "import pandas as pd\n",
    "import matplotlib.pyplot as plt\n",
    "import seaborn as sns\n",
    "\n",
    "from sklearn.model_selection import train_test_split\n",
    "from sklearn.metrics import confusion_matrix\n",
    "\n",
    "from keras.utils.np_utils import to_categorical\n",
    "from keras.models import Sequential, load_model\n",
    "from keras.layers import Dense, Flatten, Conv2D, MaxPool2D\n",
    "from tensorflow.keras.optimizers import Adam\n",
    "from keras.callbacks import ReduceLROnPlateau\n",
    "\n",
    "from skopt import forest_minimize, gbrt_minimize\n",
    "from skopt.space import Real, Categorical, Integer\n",
    "from skopt.plots import plot_convergence\n",
    "from skopt.plots import plot_objective, plot_evaluations\n",
    "from skopt.utils import use_named_args"
   ]
  },
  {
   "cell_type": "markdown",
   "metadata": {},
   "source": [
    "## Data Preparation"
   ]
  },
  {
   "cell_type": "markdown",
   "metadata": {},
   "source": [
    "The dataset contains information about images, each image is a hand-written digit. The aim is to have the computer predict which digit was written by the person, automatically, by \"looking\" at the image.\n",
    "\n",
    "Each image is 28 pixels in height and 28 pixels in width (28 x 28), making a total of 784 pixels. Each pixel value is an integer between 0 and 255, indicating the darkness in a gray-scale of that pixel.\n",
    "\n",
    "The data is stored in a dataframe where each each pixel is a column (so it is flattened and not in the 28 x 28 format).\n",
    "\n",
    "The data set the has 785 columns. The first column, called \"label\", is the digit that was drawn by the user. The rest of the columns contain the pixel-values of the associated image."
   ]
  },
  {
   "cell_type": "code",
   "execution_count": 2,
   "metadata": {},
   "outputs": [
    {
     "data": {
      "text/html": [
       "<div>\n",
       "<style scoped>\n",
       "    .dataframe tbody tr th:only-of-type {\n",
       "        vertical-align: middle;\n",
       "    }\n",
       "\n",
       "    .dataframe tbody tr th {\n",
       "        vertical-align: top;\n",
       "    }\n",
       "\n",
       "    .dataframe thead th {\n",
       "        text-align: right;\n",
       "    }\n",
       "</style>\n",
       "<table border=\"1\" class=\"dataframe\">\n",
       "  <thead>\n",
       "    <tr style=\"text-align: right;\">\n",
       "      <th></th>\n",
       "      <th>label</th>\n",
       "      <th>pixel0</th>\n",
       "      <th>pixel1</th>\n",
       "      <th>pixel2</th>\n",
       "      <th>pixel3</th>\n",
       "      <th>pixel4</th>\n",
       "      <th>pixel5</th>\n",
       "      <th>pixel6</th>\n",
       "      <th>pixel7</th>\n",
       "      <th>pixel8</th>\n",
       "      <th>...</th>\n",
       "      <th>pixel774</th>\n",
       "      <th>pixel775</th>\n",
       "      <th>pixel776</th>\n",
       "      <th>pixel777</th>\n",
       "      <th>pixel778</th>\n",
       "      <th>pixel779</th>\n",
       "      <th>pixel780</th>\n",
       "      <th>pixel781</th>\n",
       "      <th>pixel782</th>\n",
       "      <th>pixel783</th>\n",
       "    </tr>\n",
       "  </thead>\n",
       "  <tbody>\n",
       "    <tr>\n",
       "      <th>0</th>\n",
       "      <td>1</td>\n",
       "      <td>0</td>\n",
       "      <td>0</td>\n",
       "      <td>0</td>\n",
       "      <td>0</td>\n",
       "      <td>0</td>\n",
       "      <td>0</td>\n",
       "      <td>0</td>\n",
       "      <td>0</td>\n",
       "      <td>0</td>\n",
       "      <td>...</td>\n",
       "      <td>0</td>\n",
       "      <td>0</td>\n",
       "      <td>0</td>\n",
       "      <td>0</td>\n",
       "      <td>0</td>\n",
       "      <td>0</td>\n",
       "      <td>0</td>\n",
       "      <td>0</td>\n",
       "      <td>0</td>\n",
       "      <td>0</td>\n",
       "    </tr>\n",
       "    <tr>\n",
       "      <th>1</th>\n",
       "      <td>0</td>\n",
       "      <td>0</td>\n",
       "      <td>0</td>\n",
       "      <td>0</td>\n",
       "      <td>0</td>\n",
       "      <td>0</td>\n",
       "      <td>0</td>\n",
       "      <td>0</td>\n",
       "      <td>0</td>\n",
       "      <td>0</td>\n",
       "      <td>...</td>\n",
       "      <td>0</td>\n",
       "      <td>0</td>\n",
       "      <td>0</td>\n",
       "      <td>0</td>\n",
       "      <td>0</td>\n",
       "      <td>0</td>\n",
       "      <td>0</td>\n",
       "      <td>0</td>\n",
       "      <td>0</td>\n",
       "      <td>0</td>\n",
       "    </tr>\n",
       "    <tr>\n",
       "      <th>2</th>\n",
       "      <td>1</td>\n",
       "      <td>0</td>\n",
       "      <td>0</td>\n",
       "      <td>0</td>\n",
       "      <td>0</td>\n",
       "      <td>0</td>\n",
       "      <td>0</td>\n",
       "      <td>0</td>\n",
       "      <td>0</td>\n",
       "      <td>0</td>\n",
       "      <td>...</td>\n",
       "      <td>0</td>\n",
       "      <td>0</td>\n",
       "      <td>0</td>\n",
       "      <td>0</td>\n",
       "      <td>0</td>\n",
       "      <td>0</td>\n",
       "      <td>0</td>\n",
       "      <td>0</td>\n",
       "      <td>0</td>\n",
       "      <td>0</td>\n",
       "    </tr>\n",
       "    <tr>\n",
       "      <th>3</th>\n",
       "      <td>4</td>\n",
       "      <td>0</td>\n",
       "      <td>0</td>\n",
       "      <td>0</td>\n",
       "      <td>0</td>\n",
       "      <td>0</td>\n",
       "      <td>0</td>\n",
       "      <td>0</td>\n",
       "      <td>0</td>\n",
       "      <td>0</td>\n",
       "      <td>...</td>\n",
       "      <td>0</td>\n",
       "      <td>0</td>\n",
       "      <td>0</td>\n",
       "      <td>0</td>\n",
       "      <td>0</td>\n",
       "      <td>0</td>\n",
       "      <td>0</td>\n",
       "      <td>0</td>\n",
       "      <td>0</td>\n",
       "      <td>0</td>\n",
       "    </tr>\n",
       "    <tr>\n",
       "      <th>4</th>\n",
       "      <td>0</td>\n",
       "      <td>0</td>\n",
       "      <td>0</td>\n",
       "      <td>0</td>\n",
       "      <td>0</td>\n",
       "      <td>0</td>\n",
       "      <td>0</td>\n",
       "      <td>0</td>\n",
       "      <td>0</td>\n",
       "      <td>0</td>\n",
       "      <td>...</td>\n",
       "      <td>0</td>\n",
       "      <td>0</td>\n",
       "      <td>0</td>\n",
       "      <td>0</td>\n",
       "      <td>0</td>\n",
       "      <td>0</td>\n",
       "      <td>0</td>\n",
       "      <td>0</td>\n",
       "      <td>0</td>\n",
       "      <td>0</td>\n",
       "    </tr>\n",
       "  </tbody>\n",
       "</table>\n",
       "<p>5 rows × 785 columns</p>\n",
       "</div>"
      ],
      "text/plain": [
       "   label  pixel0  pixel1  pixel2  pixel3  pixel4  pixel5  pixel6  pixel7  \\\n",
       "0      1       0       0       0       0       0       0       0       0   \n",
       "1      0       0       0       0       0       0       0       0       0   \n",
       "2      1       0       0       0       0       0       0       0       0   \n",
       "3      4       0       0       0       0       0       0       0       0   \n",
       "4      0       0       0       0       0       0       0       0       0   \n",
       "\n",
       "   pixel8  ...  pixel774  pixel775  pixel776  pixel777  pixel778  pixel779  \\\n",
       "0       0  ...         0         0         0         0         0         0   \n",
       "1       0  ...         0         0         0         0         0         0   \n",
       "2       0  ...         0         0         0         0         0         0   \n",
       "3       0  ...         0         0         0         0         0         0   \n",
       "4       0  ...         0         0         0         0         0         0   \n",
       "\n",
       "   pixel780  pixel781  pixel782  pixel783  \n",
       "0         0         0         0         0  \n",
       "1         0         0         0         0  \n",
       "2         0         0         0         0  \n",
       "3         0         0         0         0  \n",
       "4         0         0         0         0  \n",
       "\n",
       "[5 rows x 785 columns]"
      ]
     },
     "execution_count": 2,
     "metadata": {},
     "output_type": "execute_result"
    }
   ],
   "source": [
    "# Load the data\n",
    "\n",
    "data = pd.read_csv(\"../../data/processed/mnist.csv\")\n",
    "\n",
    "# first column is the target, the rest of the columns\n",
    "# are the pixels of the image\n",
    "\n",
    "# each row is 1 image\n",
    "data.head()"
   ]
  },
  {
   "cell_type": "code",
   "execution_count": 3,
   "metadata": {},
   "outputs": [
    {
     "data": {
      "text/plain": [
       "((37800, 784), (4200, 784))"
      ]
     },
     "execution_count": 3,
     "metadata": {},
     "output_type": "execute_result"
    }
   ],
   "source": [
    "# split dataset into a train and test set\n",
    "\n",
    "X_train, X_test, y_train, y_test = train_test_split(\n",
    "    data.drop(['label'], axis=1), # the images\n",
    "    data['label'], # the target\n",
    "    test_size = 0.1,\n",
    "    random_state=0)\n",
    "\n",
    "X_train.shape, X_test.shape"
   ]
  },
  {
   "cell_type": "code",
   "execution_count": 4,
   "metadata": {},
   "outputs": [
    {
     "data": {
      "text/plain": [
       "Text(0, 0.5, 'Number of images')"
      ]
     },
     "execution_count": 4,
     "metadata": {},
     "output_type": "execute_result"
    },
    {
     "data": {
      "image/png": "[encoded data removed]",
      "text/plain": [
       "<Figure size 432x288 with 1 Axes>"
      ]
     },
     "metadata": {
      "needs_background": "light"
     },
     "output_type": "display_data"
    }
   ],
   "source": [
    "# number of images for each digit\n",
    "\n",
    "g = sns.countplot(x=y_train)\n",
    "plt.xlabel('Digits')\n",
    "plt.ylabel('Number of images')"
   ]
  },
  {
   "cell_type": "markdown",
   "metadata": {},
   "source": [
    "There are roughly the same amount of images for each of the 10 digits."
   ]
  },
  {
   "cell_type": "markdown",
   "metadata": {},
   "source": [
    "### Image re-scaling"
   ]
  },
  {
   "cell_type": "markdown",
   "metadata": {},
   "source": [
    "We re-scale data for the CNN, between 0 and 1."
   ]
  },
  {
   "cell_type": "code",
   "execution_count": 5,
   "metadata": {},
   "outputs": [],
   "source": [
    "# Re-scale the data\n",
    "\n",
    "# 255 is the maximum value a pixel can take\n",
    "\n",
    "X_train = X_train / 255\n",
    "X_test = X_test / 255"
   ]
  },
  {
   "cell_type": "markdown",
   "metadata": {},
   "source": [
    "### Reshape"
   ]
  },
  {
   "cell_type": "markdown",
   "metadata": {},
   "source": [
    "The images were stored in a pandas dataframe as 1-D vectors of 784 values. For a CNN with Keras, we need tensors with the following dimensions: width x height x channel.\n",
    "\n",
    "Thus, we reshape all data to 28 x 2 8 x 1, 3-D matrices.\n",
    "\n",
    "The 3rd dimension corresponds to the channel. RGB images have 3 channels. MNIST images are in gray-scale, thus they have only one channel in the 3rd dimension."
   ]
  },
  {
   "cell_type": "code",
   "execution_count": 6,
   "metadata": {},
   "outputs": [],
   "source": [
    "# Reshape image in 3 dimensions:\n",
    "# height: 28px X width: 28px X channel: 1 \n",
    "\n",
    "X_train = X_train.values.reshape(-1,28,28,1)\n",
    "X_test = X_test.values.reshape(-1,28,28,1)"
   ]
  },
  {
   "cell_type": "markdown",
   "metadata": {},
   "source": [
    "### Target encoding"
   ]
  },
  {
   "cell_type": "code",
   "execution_count": 7,
   "metadata": {},
   "outputs": [
    {
     "data": {
      "text/plain": [
       "array([2, 0, 7, 4, 3, 5, 9, 6, 8, 1])"
      ]
     },
     "execution_count": 7,
     "metadata": {},
     "output_type": "execute_result"
    }
   ],
   "source": [
    "# the target is 1 variable with the 9 different digits\n",
    "# as values\n",
    "\n",
    "y_train.unique()"
   ]
  },
  {
   "cell_type": "code",
   "execution_count": 8,
   "metadata": {},
   "outputs": [
    {
     "data": {
      "text/plain": [
       "array([[0., 0., 1., ..., 0., 0., 0.],\n",
       "       [0., 0., 1., ..., 0., 0., 0.],\n",
       "       [1., 0., 0., ..., 0., 0., 0.],\n",
       "       ...,\n",
       "       [0., 0., 0., ..., 0., 0., 1.],\n",
       "       [1., 0., 0., ..., 0., 0., 0.],\n",
       "       [0., 0., 0., ..., 0., 0., 1.]], dtype=float32)"
      ]
     },
     "execution_count": 8,
     "metadata": {},
     "output_type": "execute_result"
    }
   ],
   "source": [
    "# For Keras, we need to create 10 dummy variables,\n",
    "# one for each digit\n",
    "\n",
    "# Encode labels to one hot vectors (ex : digit 2 -> [0,0,1,0,0,0,0,0,0,0])\n",
    "\n",
    "y_train = to_categorical(y_train, num_classes = 10)\n",
    "y_test = to_categorical(y_test, num_classes = 10)\n",
    "\n",
    "# the new target\n",
    "y_train"
   ]
  },
  {
   "cell_type": "code",
   "execution_count": 9,
   "metadata": {},
   "outputs": [
    {
     "data": {
      "image/png": "[encoded data removed]",
      "text/plain": [
       "<Figure size 432x288 with 1 Axes>"
      ]
     },
     "metadata": {
      "needs_background": "light"
     },
     "output_type": "display_data"
    }
   ],
   "source": [
    "# Some image examples \n",
    "\n",
    "g = plt.imshow(X_train[0][:,:,0])"
   ]
  },
  {
   "cell_type": "code",
   "execution_count": 10,
   "metadata": {},
   "outputs": [
    {
     "data": {
      "image/png": "[encoded data removed]",
      "text/plain": [
       "<Figure size 432x288 with 1 Axes>"
      ]
     },
     "metadata": {
      "needs_background": "light"
     },
     "output_type": "display_data"
    }
   ],
   "source": [
    "# Some image examples \n",
    "\n",
    "g = plt.imshow(X_train[10][:,:,0])"
   ]
  },
  {
   "cell_type": "markdown",
   "metadata": {},
   "source": [
    "### Define the CNN"
   ]
  },
  {
   "cell_type": "markdown",
   "metadata": {},
   "source": [
    "We will create a CNN, with 2 Convolutional layers followed by Pooling, and varying number of fully-connected Dense We will create a CNN, with 2 Convolutional layers followed by Pooling, and varying number of fully-connected Dense layers. Each Convlutional layer, can itself have more than 1 conv layer."
   ]
  },
  {
   "cell_type": "code",
   "execution_count": 11,
   "metadata": {},
   "outputs": [],
   "source": [
    "# function to create the CNN\n",
    "\n",
    "def create_cnn(\n",
    "    # the hyperparam to optimize are passed\n",
    "    # as arguments\n",
    "    learning_rate,\n",
    "    num_conv_layers,\n",
    "    num_dense_layers,\n",
    "    num_dense_nodes,\n",
    "    activation,\n",
    "):\n",
    "    \"\"\"\n",
    "    Hyper-parameters:\n",
    "    learning_rate:        Learning-rate for the optimizer.\n",
    "    convolutional layers: Number of conv layers.\n",
    "    num_dense_layers:     Number of dense layers.\n",
    "    num_dense_nodes:      Number of nodes in each dense layer.\n",
    "    activation:           Activation function for all layers.\n",
    "    \"\"\"\n",
    "\n",
    "    # Start construction of a Keras Sequential model.\n",
    "    model = Sequential()\n",
    "\n",
    "    # First convolutional layer.\n",
    "    # There are many hyper-parameters in this layer\n",
    "    # For this demo, we will optimize the activation function and\n",
    "    # the number of convolutional layers that it can take.\n",
    "    \n",
    "    # We add the different number of conv layers in the following loop:\n",
    "    \n",
    "    for i in range(num_conv_layers):\n",
    "        model.add(Conv2D(kernel_size=5, strides=1, filters=16, padding='same',\n",
    "                         activation=activation))\n",
    "    model.add(MaxPool2D(pool_size=2, strides=2))\n",
    "\n",
    "    # Second convolutional layer.\n",
    "    # Same hyperparameters to optimize as previous layer.\n",
    "    for i in range(num_conv_layers):\n",
    "        model.add(Conv2D(kernel_size=5, strides=1, filters=36, padding='same',\n",
    "                         activation=activation))\n",
    "    model.add(MaxPool2D(pool_size=2, strides=2))\n",
    "\n",
    "    # Flatten the 4-rank output of the convolutional layers\n",
    "    # to 2-rank that can be input to a fully-connected Dense layer.\n",
    "    model.add(Flatten())\n",
    "\n",
    "    # Add fully-connected Dense layers.\n",
    "    # The number of layers is a hyper-parameter we want to optimize.\n",
    "    # We add the different number of layers in the following loop:\n",
    "    \n",
    "    for i in range(num_dense_layers):\n",
    "        \n",
    "        # Add the dense fully-connected layer to the model.\n",
    "        # This has two hyper-parameters we want to optimize:\n",
    "        # The number of nodes (neurons) and the activation function.\n",
    "        model.add(Dense(num_dense_nodes,\n",
    "                        activation=activation,\n",
    "                        ))\n",
    "\n",
    "    # Last fully-connected dense layer with softmax-activation\n",
    "    # for use in classification.\n",
    "    model.add(Dense(10, activation='softmax'))\n",
    "\n",
    "    # Use the Adam method for training the network.\n",
    "    # We want to find the best learning-rate for the Adam method.\n",
    "    optimizer = Adam(lr=learning_rate)\n",
    "\n",
    "    # In Keras we need to compile the model so it can be trained.\n",
    "    model.compile(optimizer=optimizer,\n",
    "                  loss='categorical_crossentropy',\n",
    "                  metrics=['accuracy'])\n",
    "\n",
    "    return model"
   ]
  },
  {
   "cell_type": "markdown",
   "metadata": {},
   "source": [
    "### Define the Hyperparameter Space"
   ]
  },
  {
   "cell_type": "markdown",
   "metadata": {},
   "source": [
    "Scikit-optimize provides an utility function to create the range of values to examine for each hyperparameters. More details in skopt.Space\n",
    "\n",
    "We want to find the following hyper-parameters:\n",
    "\n",
    "* The learning rate of the optimizer.\n",
    "* The number of convolutional layers.\n",
    "* The number of fully-connected Dense layers.\n",
    "* The number of nodes (neurons) for each of the dense layers.\n",
    "* Whether to use 'sigmoid' or 'relu' activation in all the layers."
   ]
  },
  {
   "cell_type": "code",
   "execution_count": 12,
   "metadata": {},
   "outputs": [],
   "source": [
    "dim_learning_rate = Real(\n",
    "    low=1e-6, high=1e-2, prior='log-uniform', name='learning_rate',\n",
    ")\n",
    "\n",
    "dim_num_conv_layers = Integer(low=1, high=3, name='num_conv_layers')\n",
    "\n",
    "dim_num_dense_layers = Integer(low=1, high=5, name='num_dense_layers')\n",
    "\n",
    "dim_num_dense_nodes = Integer(low=5, high=512, name='num_dense_nodes')\n",
    "\n",
    "\n",
    "dim_activation = Categorical(\n",
    "    categories=['relu', 'sigmoid'], name='activation',\n",
    ")"
   ]
  },
  {
   "cell_type": "code",
   "execution_count": 13,
   "metadata": {},
   "outputs": [],
   "source": [
    "dim_learning_rate = Real(\n",
    "    low=1e-6, high=1e-2, prior='log-uniform', name='learning_rate',\n",
    ")\n",
    "\n",
    "dim_num_conv_layers = Integer(low=1, high=3, name='num_conv_layers')\n",
    "\n",
    "dim_num_dense_layers = Integer(low=1, high=5, name='num_dense_layers')\n",
    "\n",
    "dim_num_dense_nodes = Integer(low=5, high=512, name='num_dense_nodes')\n",
    "\n",
    "\n",
    "dim_activation = Categorical(\n",
    "    categories=['relu', 'sigmoid'], name='activation',\n",
    ")"
   ]
  },
  {
   "cell_type": "code",
   "execution_count": 16,
   "metadata": {},
   "outputs": [],
   "source": [
    "# the hyperparameter space grid\n",
    "\n",
    "param_grid = [dim_learning_rate,\n",
    "              dim_num_conv_layers,\n",
    "              dim_num_dense_layers,\n",
    "              dim_num_dense_nodes,\n",
    "              dim_activation]"
   ]
  },
  {
   "cell_type": "markdown",
   "metadata": {},
   "source": [
    "### Define the Objective Function"
   ]
  },
  {
   "cell_type": "code",
   "execution_count": 17,
   "metadata": {},
   "outputs": [],
   "source": [
    "# we will save the model with this name\n",
    "path_best_model = 'cnn_model.h5'\n",
    "\n",
    "# starting point for the optimization\n",
    "best_accuracy = 0"
   ]
  },
  {
   "cell_type": "code",
   "execution_count": 18,
   "metadata": {},
   "outputs": [],
   "source": [
    "@use_named_args(param_grid)\n",
    "def objective(\n",
    "    learning_rate,\n",
    "    num_conv_layers,\n",
    "    num_dense_layers,\n",
    "    num_dense_nodes,\n",
    "    activation,\n",
    "):\n",
    "    \n",
    "    \"\"\"\n",
    "    Hyper-parameters:\n",
    "    learning_rate:        Learning-rate for the optimizer.\n",
    "    convolutional layers: Number of conv layers.\n",
    "    num_dense_layers:     Number of dense layers.\n",
    "    num_dense_nodes:      Number of nodes in each dense layer.\n",
    "    activation:           Activation function for all layers.\n",
    "    \"\"\"\n",
    "\n",
    "    # Print the hyper-parameters.\n",
    "    print('learning rate: {0:.1e}'.format(learning_rate))\n",
    "    print('num_conv_layers:', num_conv_layers)\n",
    "    print('num_dense_layers:', num_dense_layers)\n",
    "    print('num_dense_nodes:', num_dense_nodes)\n",
    "    print('activation:', activation)\n",
    "    print()\n",
    "    \n",
    "    # Create the neural network with the hyper-parameters.\n",
    "    # We call the function we created previously.\n",
    "    model = create_cnn(learning_rate=learning_rate,\n",
    "                       num_conv_layers=num_conv_layers,\n",
    "                       num_dense_layers=num_dense_layers,\n",
    "                       num_dense_nodes=num_dense_nodes,\n",
    "                       activation=activation)\n",
    "\n",
    "   \n",
    "    # Set a learning rate annealer\n",
    "    # this reduces the learning rate if learning does not improve\n",
    "    # for a certain number of epochs\n",
    "    learning_rate_reduction = ReduceLROnPlateau(monitor='val_accuracy', \n",
    "                                                patience=2, \n",
    "                                                verbose=1, \n",
    "                                                factor=0.5, \n",
    "                                                min_lr=0.00001)\n",
    "   \n",
    "    # train the model\n",
    "    # we use 3 epochs to be able to run the notebook in a \"reasonable\"\n",
    "    # time. If we increase the epochs, we will have better performance\n",
    "    # this could be another parameter to optimize in fact.\n",
    "    history = model.fit(x=X_train,\n",
    "                        y=y_train,\n",
    "                        epochs=3,\n",
    "                        batch_size=128,\n",
    "                        validation_split=0.1,\n",
    "                        callbacks=learning_rate_reduction)\n",
    "\n",
    "    # Get the classification accuracy on the validation-set\n",
    "    # after the last training-epoch.\n",
    "    accuracy = history.history['val_accuracy'][-1]\n",
    "\n",
    "    # Print the classification accuracy.\n",
    "    print()\n",
    "    print(\"Accuracy: {0:.2%}\".format(accuracy))\n",
    "    print()\n",
    "\n",
    "    # Save the model if it improves on the best-found performance.\n",
    "    # We use the global keyword so we update the variable outside\n",
    "    # of this function.\n",
    "    global best_accuracy\n",
    "\n",
    "    # If the classification accuracy of the saved model is improved ...\n",
    "    if accuracy > best_accuracy:\n",
    "        # Save the new model to harddisk.\n",
    "        # Training CNNs is costly, so we want to avoid having to re-train\n",
    "        # the network with the best found parameters. We save it instead\n",
    "        # as we search for the best hyperparam space.\n",
    "        model.save(path_best_model)\n",
    "        \n",
    "        # Update the classification accuracy.\n",
    "        best_accuracy = accuracy\n",
    "\n",
    "    # Delete the Keras model with these hyper-parameters from memory.\n",
    "    del model\n",
    "\n",
    "    \n",
    "    # Remember that Scikit-optimize always minimizes the objective\n",
    "    # function, so we need to negate the accuracy (because we want\n",
    "    # the maximum accuracy)\n",
    "    return -accuracy"
   ]
  },
  {
   "cell_type": "markdown",
   "metadata": {},
   "source": [
    "### Test run"
   ]
  },
  {
   "cell_type": "code",
   "execution_count": 19,
   "metadata": {},
   "outputs": [
    {
     "name": "stdout",
     "output_type": "stream",
     "text": [
      "learning rate: 1.0e-05\n",
      "num_conv_layers: 1\n",
      "num_dense_layers: 1\n",
      "num_dense_nodes: 16\n",
      "activation: relu\n",
      "\n"
     ]
    },
    {
     "name": "stderr",
     "output_type": "stream",
     "text": [
      "2022-09-07 06:24:07.230323: I tensorflow/core/platform/cpu_feature_guard.cc:151] This TensorFlow binary is optimized with oneAPI Deep Neural Network Library (oneDNN) to use the following CPU instructions in performance-critical operations:  SSE4.1 SSE4.2 AVX AVX2 AVX512F FMA\n",
      "To enable them in other operations, rebuild TensorFlow with the appropriate compiler flags.\n",
      "/home/santiago/anaconda3/envs/hyperparameter_optimization_for_machine_learning/lib/python3.9/site-packages/keras/optimizer_v2/adam.py:105: UserWarning: The `lr` argument is deprecated, use `learning_rate` instead.\n",
      "  super(Adam, self).__init__(name, **kwargs)\n"
     ]
    },
    {
     "name": "stdout",
     "output_type": "stream",
     "text": [
      "Epoch 1/3\n",
      "266/266 [==============================] - 21s 76ms/step - loss: 2.2682 - accuracy: 0.2181 - val_loss: 2.2198 - val_accuracy: 0.3963 - lr: 1.0000e-05\n",
      "Epoch 2/3\n",
      "266/266 [==============================] - 26s 98ms/step - loss: 2.1471 - accuracy: 0.4848 - val_loss: 2.0588 - val_accuracy: 0.5317 - lr: 1.0000e-05\n",
      "Epoch 3/3\n",
      "266/266 [==============================] - 25s 95ms/step - loss: 1.9333 - accuracy: 0.5471 - val_loss: 1.7911 - val_accuracy: 0.5579 - lr: 1.0000e-05\n",
      "\n",
      "Accuracy: 55.79%\n",
      "\n"
     ]
    },
    {
     "data": {
      "text/plain": [
       "-0.5579364895820618"
      ]
     },
     "execution_count": 19,
     "metadata": {},
     "output_type": "execute_result"
    }
   ],
   "source": [
    "# Before we run the hyper-parameter optimization, \n",
    "# let's first check that the everything is working\n",
    "# by passing some default hyper-parameters.\n",
    "\n",
    "default_parameters = [1e-5, 1, 1, 16, 'relu']\n",
    "\n",
    "objective(x=default_parameters)"
   ]
  },
  {
   "cell_type": "markdown",
   "metadata": {},
   "source": [
    "We obtained a mediocre accuracy, but all our code is working. So let's get started with the Optimization now!!"
   ]
  },
  {
   "cell_type": "markdown",
   "metadata": {},
   "source": [
    "### Bayesian Optimization with Random Forests"
   ]
  },
  {
   "cell_type": "markdown",
   "metadata": {},
   "source": [
    "* forest_minimize\n",
    "* gbrt_minimize"
   ]
  },
  {
   "cell_type": "code",
   "execution_count": 20,
   "metadata": {},
   "outputs": [
    {
     "name": "stdout",
     "output_type": "stream",
     "text": [
      "learning rate: 1.0e-05\n",
      "num_conv_layers: 1\n",
      "num_dense_layers: 1\n",
      "num_dense_nodes: 16\n",
      "activation: relu\n",
      "\n",
      "Epoch 1/3\n",
      "266/266 [==============================] - 25s 89ms/step - loss: 2.2664 - accuracy: 0.2312 - val_loss: 2.2187 - val_accuracy: 0.3950 - lr: 1.0000e-05\n",
      "Epoch 2/3\n",
      "266/266 [==============================] - 25s 93ms/step - loss: 2.1416 - accuracy: 0.4844 - val_loss: 2.0523 - val_accuracy: 0.5093 - lr: 1.0000e-05\n",
      "Epoch 3/3\n",
      "266/266 [==============================] - 23s 87ms/step - loss: 1.9355 - accuracy: 0.5447 - val_loss: 1.8069 - val_accuracy: 0.5632 - lr: 1.0000e-05\n",
      "\n",
      "Accuracy: 56.32%\n",
      "\n",
      "learning rate: 2.4e-04\n",
      "num_conv_layers: 1\n",
      "num_dense_layers: 4\n",
      "num_dense_nodes: 256\n",
      "activation: sigmoid\n",
      "\n",
      "Epoch 1/3\n",
      "266/266 [==============================] - 29s 105ms/step - loss: 2.3111 - accuracy: 0.1004 - val_loss: 2.3035 - val_accuracy: 0.1037 - lr: 2.3517e-04\n",
      "Epoch 2/3\n",
      "266/266 [==============================] - 26s 98ms/step - loss: 2.2105 - accuracy: 0.1807 - val_loss: 1.6648 - val_accuracy: 0.4825 - lr: 2.3517e-04\n",
      "Epoch 3/3\n",
      "266/266 [==============================] - 26s 99ms/step - loss: 1.0214 - accuracy: 0.6954 - val_loss: 0.7210 - val_accuracy: 0.7894 - lr: 2.3517e-04\n",
      "\n",
      "Accuracy: 78.94%\n",
      "\n",
      "learning rate: 5.0e-05\n",
      "num_conv_layers: 2\n",
      "num_dense_layers: 3\n",
      "num_dense_nodes: 297\n",
      "activation: relu\n",
      "\n",
      "Epoch 1/3\n",
      "266/266 [==============================] - 68s 253ms/step - loss: 1.0669 - accuracy: 0.6749 - val_loss: 0.4099 - val_accuracy: 0.8725 - lr: 4.9502e-05\n",
      "Epoch 2/3\n",
      "266/266 [==============================] - 62s 232ms/step - loss: 0.2917 - accuracy: 0.9106 - val_loss: 0.2385 - val_accuracy: 0.9280 - lr: 4.9502e-05\n",
      "Epoch 3/3\n",
      "266/266 [==============================] - 61s 228ms/step - loss: 0.1987 - accuracy: 0.9376 - val_loss: 0.1928 - val_accuracy: 0.9421 - lr: 4.9502e-05\n",
      "\n",
      "Accuracy: 94.21%\n",
      "\n",
      "learning rate: 1.7e-06\n",
      "num_conv_layers: 1\n",
      "num_dense_layers: 3\n",
      "num_dense_nodes: 198\n",
      "activation: sigmoid\n",
      "\n",
      "Epoch 1/3\n",
      "266/266 [==============================] - 24s 87ms/step - loss: 2.4825 - accuracy: 0.1043 - val_loss: 2.4660 - val_accuracy: 0.0997 - lr: 1.6860e-06\n",
      "Epoch 2/3\n",
      "266/266 [==============================] - 22s 81ms/step - loss: 2.4322 - accuracy: 0.1043 - val_loss: 2.4214 - val_accuracy: 0.0997 - lr: 1.6860e-06\n",
      "Epoch 3/3\n",
      "266/266 [==============================] - 22s 83ms/step - loss: 2.3943 - accuracy: 0.1043 - val_loss: 2.3872 - val_accuracy: 0.0997 - lr: 1.6860e-06\n",
      "\n",
      "Accuracy: 9.97%\n",
      "\n",
      "learning rate: 1.3e-04\n",
      "num_conv_layers: 1\n",
      "num_dense_layers: 2\n",
      "num_dense_nodes: 170\n",
      "activation: sigmoid\n",
      "\n",
      "Epoch 1/3\n",
      "266/266 [==============================] - 23s 86ms/step - loss: 2.3074 - accuracy: 0.1079 - val_loss: 2.3021 - val_accuracy: 0.1146 - lr: 1.3049e-04\n",
      "Epoch 2/3\n",
      "266/266 [==============================] - 22s 82ms/step - loss: 2.2936 - accuracy: 0.1347 - val_loss: 2.2508 - val_accuracy: 0.3201 - lr: 1.3049e-04\n",
      "Epoch 3/3\n",
      "266/266 [==============================] - 21s 80ms/step - loss: 1.7644 - accuracy: 0.5412 - val_loss: 1.2213 - val_accuracy: 0.6958 - lr: 1.3049e-04\n",
      "\n",
      "Accuracy: 69.58%\n",
      "\n",
      "learning rate: 2.2e-05\n",
      "num_conv_layers: 1\n",
      "num_dense_layers: 4\n",
      "num_dense_nodes: 469\n",
      "activation: sigmoid\n",
      "\n",
      "Epoch 1/3\n",
      "266/266 [==============================] - 26s 98ms/step - loss: 2.3281 - accuracy: 0.1071 - val_loss: 2.3015 - val_accuracy: 0.1146 - lr: 2.2366e-05\n",
      "Epoch 2/3\n",
      "266/266 [==============================] - 25s 95ms/step - loss: 2.3027 - accuracy: 0.1085 - val_loss: 2.3018 - val_accuracy: 0.1037 - lr: 2.2366e-05\n",
      "Epoch 3/3\n",
      "266/266 [==============================] - ETA: 0s - loss: 2.3024 - accuracy: 0.1102\n",
      "Epoch 00003: ReduceLROnPlateau reducing learning rate to 1.1182904927409254e-05.\n",
      "266/266 [==============================] - 25s 92ms/step - loss: 2.3024 - accuracy: 0.1102 - val_loss: 2.3007 - val_accuracy: 0.1146 - lr: 2.2366e-05\n",
      "\n",
      "Accuracy: 11.46%\n",
      "\n",
      "learning rate: 1.3e-03\n",
      "num_conv_layers: 1\n",
      "num_dense_layers: 3\n",
      "num_dense_nodes: 104\n",
      "activation: sigmoid\n",
      "\n",
      "Epoch 1/3\n",
      "266/266 [==============================] - 24s 86ms/step - loss: 2.3108 - accuracy: 0.1033 - val_loss: 2.3027 - val_accuracy: 0.0937 - lr: 0.0013\n",
      "Epoch 2/3\n",
      "266/266 [==============================] - 22s 84ms/step - loss: 1.1477 - accuracy: 0.6504 - val_loss: 0.3204 - val_accuracy: 0.9225 - lr: 0.0013\n",
      "Epoch 3/3\n",
      "266/266 [==============================] - 22s 84ms/step - loss: 0.1962 - accuracy: 0.9478 - val_loss: 0.1544 - val_accuracy: 0.9590 - lr: 0.0013\n",
      "\n",
      "Accuracy: 95.90%\n",
      "\n",
      "learning rate: 7.0e-05\n",
      "num_conv_layers: 3\n",
      "num_dense_layers: 1\n",
      "num_dense_nodes: 454\n",
      "activation: relu\n",
      "\n",
      "Epoch 1/3\n",
      "266/266 [==============================] - 104s 389ms/step - loss: 0.7583 - accuracy: 0.7765 - val_loss: 0.2626 - val_accuracy: 0.9220 - lr: 7.0132e-05\n",
      "Epoch 2/3\n",
      "266/266 [==============================] - 102s 385ms/step - loss: 0.1872 - accuracy: 0.9428 - val_loss: 0.1653 - val_accuracy: 0.9479 - lr: 7.0132e-05\n",
      "Epoch 3/3\n",
      "266/266 [==============================] - 101s 381ms/step - loss: 0.1188 - accuracy: 0.9629 - val_loss: 0.1267 - val_accuracy: 0.9611 - lr: 7.0132e-05\n",
      "\n",
      "Accuracy: 96.11%\n",
      "\n",
      "learning rate: 6.0e-03\n",
      "num_conv_layers: 3\n",
      "num_dense_layers: 5\n",
      "num_dense_nodes: 156\n",
      "activation: relu\n",
      "\n",
      "Epoch 1/3\n",
      "266/266 [==============================] - 96s 358ms/step - loss: 2.3023 - accuracy: 0.1095 - val_loss: 2.3012 - val_accuracy: 0.1146 - lr: 0.0060\n",
      "Epoch 2/3\n",
      "266/266 [==============================] - 91s 342ms/step - loss: 2.3017 - accuracy: 0.1111 - val_loss: 2.3012 - val_accuracy: 0.1146 - lr: 0.0060\n",
      "Epoch 3/3\n",
      "266/266 [==============================] - ETA: 0s - loss: 2.3017 - accuracy: 0.1084\n",
      "Epoch 00003: ReduceLROnPlateau reducing learning rate to 0.0030036247335374355.\n",
      "266/266 [==============================] - 91s 342ms/step - loss: 2.3017 - accuracy: 0.1084 - val_loss: 2.3012 - val_accuracy: 0.1146 - lr: 0.0060\n",
      "\n",
      "Accuracy: 11.46%\n",
      "\n",
      "learning rate: 1.3e-03\n",
      "num_conv_layers: 1\n",
      "num_dense_layers: 3\n",
      "num_dense_nodes: 133\n",
      "activation: relu\n",
      "\n",
      "Epoch 1/3\n",
      "266/266 [==============================] - 23s 83ms/step - loss: 0.2945 - accuracy: 0.9069 - val_loss: 0.1174 - val_accuracy: 0.9624 - lr: 0.0013\n",
      "Epoch 2/3\n",
      "266/266 [==============================] - 21s 78ms/step - loss: 0.0702 - accuracy: 0.9774 - val_loss: 0.0824 - val_accuracy: 0.9759 - lr: 0.0013\n",
      "Epoch 3/3\n",
      "266/266 [==============================] - 19s 73ms/step - loss: 0.0479 - accuracy: 0.9847 - val_loss: 0.0617 - val_accuracy: 0.9820 - lr: 0.0013\n",
      "\n",
      "Accuracy: 98.20%\n",
      "\n",
      "learning rate: 3.0e-04\n",
      "num_conv_layers: 3\n",
      "num_dense_layers: 1\n",
      "num_dense_nodes: 249\n",
      "activation: relu\n",
      "\n",
      "Epoch 1/3\n",
      "266/266 [==============================] - 98s 366ms/step - loss: 0.3693 - accuracy: 0.8847 - val_loss: 0.1402 - val_accuracy: 0.9585 - lr: 2.9549e-04\n",
      "Epoch 2/3\n",
      "266/266 [==============================] - 96s 359ms/step - loss: 0.0854 - accuracy: 0.9721 - val_loss: 0.0831 - val_accuracy: 0.9783 - lr: 2.9549e-04\n",
      "Epoch 3/3\n",
      "266/266 [==============================] - 100s 377ms/step - loss: 0.0527 - accuracy: 0.9838 - val_loss: 0.0676 - val_accuracy: 0.9823 - lr: 2.9549e-04\n",
      "\n",
      "Accuracy: 98.23%\n",
      "\n",
      "learning rate: 1.4e-03\n",
      "num_conv_layers: 3\n",
      "num_dense_layers: 3\n",
      "num_dense_nodes: 440\n",
      "activation: relu\n",
      "\n",
      "Epoch 1/3\n"
     ]
    },
    {
     "name": "stderr",
     "output_type": "stream",
     "text": [
      "/home/santiago/anaconda3/envs/hyperparameter_optimization_for_machine_learning/lib/python3.9/site-packages/keras/optimizer_v2/adam.py:105: UserWarning: The `lr` argument is deprecated, use `learning_rate` instead.\n",
      "  super(Adam, self).__init__(name, **kwargs)\n"
     ]
    },
    {
     "name": "stdout",
     "output_type": "stream",
     "text": [
      "266/266 [==============================] - 146s 547ms/step - loss: 0.2503 - accuracy: 0.9175 - val_loss: 0.1190 - val_accuracy: 0.9677 - lr: 0.0014\n",
      "Epoch 2/3\n",
      "266/266 [==============================] - 139s 523ms/step - loss: 0.0595 - accuracy: 0.9819 - val_loss: 0.0620 - val_accuracy: 0.9831 - lr: 0.0014\n",
      "Epoch 3/3\n",
      "266/266 [==============================] - 135s 507ms/step - loss: 0.0464 - accuracy: 0.9871 - val_loss: 0.0490 - val_accuracy: 0.9857 - lr: 0.0014\n",
      "\n",
      "Accuracy: 98.57%\n",
      "\n",
      "learning rate: 3.4e-03\n",
      "num_conv_layers: 3\n",
      "num_dense_layers: 3\n",
      "num_dense_nodes: 264\n",
      "activation: relu\n",
      "\n"
     ]
    },
    {
     "name": "stderr",
     "output_type": "stream",
     "text": [
      "/home/santiago/anaconda3/envs/hyperparameter_optimization_for_machine_learning/lib/python3.9/site-packages/keras/optimizer_v2/adam.py:105: UserWarning: The `lr` argument is deprecated, use `learning_rate` instead.\n",
      "  super(Adam, self).__init__(name, **kwargs)\n"
     ]
    },
    {
     "name": "stdout",
     "output_type": "stream",
     "text": [
      "Epoch 1/3\n",
      "266/266 [==============================] - 130s 475ms/step - loss: 0.4106 - accuracy: 0.8578 - val_loss: 0.1016 - val_accuracy: 0.9709 - lr: 0.0034\n",
      "Epoch 2/3\n",
      "266/266 [==============================] - 115s 433ms/step - loss: 0.0876 - accuracy: 0.9744 - val_loss: 0.0715 - val_accuracy: 0.9778 - lr: 0.0034\n",
      "Epoch 3/3\n",
      "266/266 [==============================] - 126s 472ms/step - loss: 0.0656 - accuracy: 0.9813 - val_loss: 0.0894 - val_accuracy: 0.9746 - lr: 0.0034\n",
      "\n",
      "Accuracy: 97.46%\n",
      "\n",
      "learning rate: 2.5e-03\n",
      "num_conv_layers: 3\n",
      "num_dense_layers: 3\n",
      "num_dense_nodes: 255\n",
      "activation: relu\n",
      "\n"
     ]
    },
    {
     "name": "stderr",
     "output_type": "stream",
     "text": [
      "/home/santiago/anaconda3/envs/hyperparameter_optimization_for_machine_learning/lib/python3.9/site-packages/keras/optimizer_v2/adam.py:105: UserWarning: The `lr` argument is deprecated, use `learning_rate` instead.\n",
      "  super(Adam, self).__init__(name, **kwargs)\n"
     ]
    },
    {
     "name": "stdout",
     "output_type": "stream",
     "text": [
      "Epoch 1/3\n",
      "266/266 [==============================] - 117s 439ms/step - loss: 2.3023 - accuracy: 0.1100 - val_loss: 2.3009 - val_accuracy: 0.1146 - lr: 0.0025\n",
      "Epoch 2/3\n",
      "266/266 [==============================] - 108s 405ms/step - loss: 2.3017 - accuracy: 0.1111 - val_loss: 2.3008 - val_accuracy: 0.1146 - lr: 0.0025\n",
      "Epoch 3/3\n",
      "266/266 [==============================] - ETA: 0s - loss: 2.3015 - accuracy: 0.1111\n",
      "Epoch 00003: ReduceLROnPlateau reducing learning rate to 0.0012450312497094274.\n",
      "266/266 [==============================] - 113s 426ms/step - loss: 2.3015 - accuracy: 0.1111 - val_loss: 2.3010 - val_accuracy: 0.1146 - lr: 0.0025\n",
      "\n",
      "Accuracy: 11.46%\n",
      "\n",
      "learning rate: 1.4e-03\n",
      "num_conv_layers: 3\n",
      "num_dense_layers: 3\n",
      "num_dense_nodes: 510\n",
      "activation: relu\n",
      "\n",
      "Epoch 1/3\n"
     ]
    },
    {
     "name": "stderr",
     "output_type": "stream",
     "text": [
      "/home/santiago/anaconda3/envs/hyperparameter_optimization_for_machine_learning/lib/python3.9/site-packages/keras/optimizer_v2/adam.py:105: UserWarning: The `lr` argument is deprecated, use `learning_rate` instead.\n",
      "  super(Adam, self).__init__(name, **kwargs)\n"
     ]
    },
    {
     "name": "stdout",
     "output_type": "stream",
     "text": [
      "266/266 [==============================] - 135s 505ms/step - loss: 0.2460 - accuracy: 0.9215 - val_loss: 0.0923 - val_accuracy: 0.9714 - lr: 0.0014\n",
      "Epoch 2/3\n",
      "266/266 [==============================] - 119s 447ms/step - loss: 0.0632 - accuracy: 0.9811 - val_loss: 0.0744 - val_accuracy: 0.9802 - lr: 0.0014\n",
      "Epoch 3/3\n",
      "266/266 [==============================] - 112s 420ms/step - loss: 0.0461 - accuracy: 0.9865 - val_loss: 0.0750 - val_accuracy: 0.9802 - lr: 0.0014\n",
      "\n",
      "Accuracy: 98.02%\n",
      "\n",
      "learning rate: 4.0e-03\n",
      "num_conv_layers: 3\n",
      "num_dense_layers: 3\n",
      "num_dense_nodes: 415\n",
      "activation: relu\n",
      "\n",
      "Epoch 1/3\n"
     ]
    },
    {
     "name": "stderr",
     "output_type": "stream",
     "text": [
      "/home/santiago/anaconda3/envs/hyperparameter_optimization_for_machine_learning/lib/python3.9/site-packages/keras/optimizer_v2/adam.py:105: UserWarning: The `lr` argument is deprecated, use `learning_rate` instead.\n",
      "  super(Adam, self).__init__(name, **kwargs)\n"
     ]
    },
    {
     "name": "stdout",
     "output_type": "stream",
     "text": [
      "266/266 [==============================] - 104s 389ms/step - loss: 0.5981 - accuracy: 0.7925 - val_loss: 0.1115 - val_accuracy: 0.9661 - lr: 0.0040\n",
      "Epoch 2/3\n",
      "266/266 [==============================] - 101s 380ms/step - loss: 0.1120 - accuracy: 0.9669 - val_loss: 0.0981 - val_accuracy: 0.9738 - lr: 0.0040\n",
      "Epoch 3/3\n",
      "266/266 [==============================] - 100s 376ms/step - loss: 0.0845 - accuracy: 0.9757 - val_loss: 0.0787 - val_accuracy: 0.9780 - lr: 0.0040\n",
      "\n",
      "Accuracy: 97.80%\n",
      "\n",
      "learning rate: 4.1e-03\n",
      "num_conv_layers: 3\n",
      "num_dense_layers: 3\n",
      "num_dense_nodes: 385\n",
      "activation: relu\n",
      "\n",
      "Epoch 1/3\n"
     ]
    },
    {
     "name": "stderr",
     "output_type": "stream",
     "text": [
      "/home/santiago/anaconda3/envs/hyperparameter_optimization_for_machine_learning/lib/python3.9/site-packages/keras/optimizer_v2/adam.py:105: UserWarning: The `lr` argument is deprecated, use `learning_rate` instead.\n",
      "  super(Adam, self).__init__(name, **kwargs)\n"
     ]
    },
    {
     "name": "stdout",
     "output_type": "stream",
     "text": [
      "266/266 [==============================] - 103s 384ms/step - loss: 0.5399 - accuracy: 0.8128 - val_loss: 0.1269 - val_accuracy: 0.9632 - lr: 0.0041\n",
      "Epoch 2/3\n",
      "266/266 [==============================] - 102s 382ms/step - loss: 0.0933 - accuracy: 0.9718 - val_loss: 0.0792 - val_accuracy: 0.9754 - lr: 0.0041\n",
      "Epoch 3/3\n",
      "266/266 [==============================] - 101s 378ms/step - loss: 0.0742 - accuracy: 0.9786 - val_loss: 0.1111 - val_accuracy: 0.9714 - lr: 0.0041\n",
      "\n",
      "Accuracy: 97.14%\n",
      "\n",
      "learning rate: 5.9e-03\n",
      "num_conv_layers: 3\n",
      "num_dense_layers: 3\n",
      "num_dense_nodes: 345\n",
      "activation: relu\n",
      "\n",
      "Epoch 1/3\n"
     ]
    },
    {
     "name": "stderr",
     "output_type": "stream",
     "text": [
      "/home/santiago/anaconda3/envs/hyperparameter_optimization_for_machine_learning/lib/python3.9/site-packages/keras/optimizer_v2/adam.py:105: UserWarning: The `lr` argument is deprecated, use `learning_rate` instead.\n",
      "  super(Adam, self).__init__(name, **kwargs)\n"
     ]
    },
    {
     "name": "stdout",
     "output_type": "stream",
     "text": [
      "266/266 [==============================] - 95s 355ms/step - loss: 2.3124 - accuracy: 0.1094 - val_loss: 2.3017 - val_accuracy: 0.0997 - lr: 0.0059\n",
      "Epoch 2/3\n",
      "266/266 [==============================] - 100s 375ms/step - loss: 2.3018 - accuracy: 0.1079 - val_loss: 2.3015 - val_accuracy: 0.1146 - lr: 0.0059\n",
      "Epoch 3/3\n",
      "266/266 [==============================] - 86s 323ms/step - loss: 2.3018 - accuracy: 0.1108 - val_loss: 2.3018 - val_accuracy: 0.1146 - lr: 0.0059\n",
      "\n",
      "Accuracy: 11.46%\n",
      "\n",
      "learning rate: 2.4e-03\n",
      "num_conv_layers: 3\n",
      "num_dense_layers: 3\n",
      "num_dense_nodes: 427\n",
      "activation: relu\n",
      "\n"
     ]
    },
    {
     "name": "stderr",
     "output_type": "stream",
     "text": [
      "/home/santiago/anaconda3/envs/hyperparameter_optimization_for_machine_learning/lib/python3.9/site-packages/keras/optimizer_v2/adam.py:105: UserWarning: The `lr` argument is deprecated, use `learning_rate` instead.\n",
      "  super(Adam, self).__init__(name, **kwargs)\n"
     ]
    },
    {
     "name": "stdout",
     "output_type": "stream",
     "text": [
      "Epoch 1/3\n",
      "266/266 [==============================] - 120s 450ms/step - loss: 0.3043 - accuracy: 0.9033 - val_loss: 0.1041 - val_accuracy: 0.9725 - lr: 0.0024\n",
      "Epoch 2/3\n",
      "266/266 [==============================] - 144s 543ms/step - loss: 0.0694 - accuracy: 0.9803 - val_loss: 0.0955 - val_accuracy: 0.9754 - lr: 0.0024\n",
      "Epoch 3/3\n",
      "266/266 [==============================] - 113s 424ms/step - loss: 0.0557 - accuracy: 0.9839 - val_loss: 0.0895 - val_accuracy: 0.9847 - lr: 0.0024\n",
      "\n",
      "Accuracy: 98.47%\n",
      "\n",
      "learning rate: 9.9e-03\n",
      "num_conv_layers: 3\n",
      "num_dense_layers: 3\n",
      "num_dense_nodes: 430\n",
      "activation: relu\n",
      "\n"
     ]
    },
    {
     "name": "stderr",
     "output_type": "stream",
     "text": [
      "/home/santiago/anaconda3/envs/hyperparameter_optimization_for_machine_learning/lib/python3.9/site-packages/keras/optimizer_v2/adam.py:105: UserWarning: The `lr` argument is deprecated, use `learning_rate` instead.\n",
      "  super(Adam, self).__init__(name, **kwargs)\n"
     ]
    },
    {
     "name": "stdout",
     "output_type": "stream",
     "text": [
      "Epoch 1/3\n",
      "266/266 [==============================] - 97s 364ms/step - loss: 2.3094 - accuracy: 0.1084 - val_loss: 2.3010 - val_accuracy: 0.1146 - lr: 0.0099\n",
      "Epoch 2/3\n",
      "266/266 [==============================] - 99s 371ms/step - loss: 2.3020 - accuracy: 0.1085 - val_loss: 2.3018 - val_accuracy: 0.1146 - lr: 0.0099\n",
      "Epoch 3/3\n",
      "266/266 [==============================] - ETA: 0s - loss: 2.3019 - accuracy: 0.1095\n",
      "Epoch 00003: ReduceLROnPlateau reducing learning rate to 0.004929480142891407.\n",
      "266/266 [==============================] - 92s 346ms/step - loss: 2.3019 - accuracy: 0.1095 - val_loss: 2.3011 - val_accuracy: 0.1146 - lr: 0.0099\n",
      "\n",
      "Accuracy: 11.46%\n",
      "\n",
      "learning rate: 1.9e-03\n",
      "num_conv_layers: 3\n",
      "num_dense_layers: 3\n",
      "num_dense_nodes: 438\n",
      "activation: relu\n",
      "\n",
      "Epoch 1/3\n"
     ]
    },
    {
     "name": "stderr",
     "output_type": "stream",
     "text": [
      "/home/santiago/anaconda3/envs/hyperparameter_optimization_for_machine_learning/lib/python3.9/site-packages/keras/optimizer_v2/adam.py:105: UserWarning: The `lr` argument is deprecated, use `learning_rate` instead.\n",
      "  super(Adam, self).__init__(name, **kwargs)\n"
     ]
    },
    {
     "name": "stdout",
     "output_type": "stream",
     "text": [
      "266/266 [==============================] - 111s 413ms/step - loss: 0.2823 - accuracy: 0.9075 - val_loss: 0.0805 - val_accuracy: 0.9783 - lr: 0.0019\n",
      "Epoch 2/3\n",
      "266/266 [==============================] - 102s 383ms/step - loss: 0.0670 - accuracy: 0.9804 - val_loss: 0.0866 - val_accuracy: 0.9772 - lr: 0.0019\n",
      "Epoch 3/3\n",
      "266/266 [==============================] - 110s 413ms/step - loss: 0.0525 - accuracy: 0.9841 - val_loss: 0.0652 - val_accuracy: 0.9833 - lr: 0.0019\n",
      "\n",
      "Accuracy: 98.33%\n",
      "\n",
      "learning rate: 2.8e-03\n",
      "num_conv_layers: 3\n",
      "num_dense_layers: 3\n",
      "num_dense_nodes: 477\n",
      "activation: relu\n",
      "\n"
     ]
    },
    {
     "name": "stderr",
     "output_type": "stream",
     "text": [
      "/home/santiago/anaconda3/envs/hyperparameter_optimization_for_machine_learning/lib/python3.9/site-packages/keras/optimizer_v2/adam.py:105: UserWarning: The `lr` argument is deprecated, use `learning_rate` instead.\n",
      "  super(Adam, self).__init__(name, **kwargs)\n"
     ]
    },
    {
     "name": "stdout",
     "output_type": "stream",
     "text": [
      "Epoch 1/3\n",
      "266/266 [==============================] - 112s 419ms/step - loss: 0.4226 - accuracy: 0.8519 - val_loss: 0.0948 - val_accuracy: 0.9730 - lr: 0.0028\n",
      "Epoch 2/3\n",
      "266/266 [==============================] - 103s 389ms/step - loss: 0.0771 - accuracy: 0.9777 - val_loss: 0.0764 - val_accuracy: 0.9799 - lr: 0.0028\n",
      "Epoch 3/3\n",
      "266/266 [==============================] - 104s 392ms/step - loss: 0.0653 - accuracy: 0.9820 - val_loss: 0.0661 - val_accuracy: 0.9786 - lr: 0.0028\n",
      "\n",
      "Accuracy: 97.86%\n",
      "\n",
      "learning rate: 2.2e-03\n",
      "num_conv_layers: 3\n",
      "num_dense_layers: 3\n",
      "num_dense_nodes: 432\n",
      "activation: relu\n",
      "\n"
     ]
    },
    {
     "name": "stderr",
     "output_type": "stream",
     "text": [
      "/home/santiago/anaconda3/envs/hyperparameter_optimization_for_machine_learning/lib/python3.9/site-packages/keras/optimizer_v2/adam.py:105: UserWarning: The `lr` argument is deprecated, use `learning_rate` instead.\n",
      "  super(Adam, self).__init__(name, **kwargs)\n"
     ]
    },
    {
     "name": "stdout",
     "output_type": "stream",
     "text": [
      "Epoch 1/3\n",
      "266/266 [==============================] - 104s 388ms/step - loss: 0.3538 - accuracy: 0.8796 - val_loss: 0.1144 - val_accuracy: 0.9667 - lr: 0.0022\n",
      "Epoch 2/3\n",
      "266/266 [==============================] - 103s 386ms/step - loss: 0.0641 - accuracy: 0.9812 - val_loss: 0.0706 - val_accuracy: 0.9817 - lr: 0.0022\n",
      "Epoch 3/3\n",
      "266/266 [==============================] - 101s 378ms/step - loss: 0.0507 - accuracy: 0.9850 - val_loss: 0.0818 - val_accuracy: 0.9820 - lr: 0.0022\n",
      "\n",
      "Accuracy: 98.20%\n",
      "\n",
      "learning rate: 3.2e-03\n",
      "num_conv_layers: 3\n",
      "num_dense_layers: 3\n",
      "num_dense_nodes: 422\n",
      "activation: relu\n",
      "\n"
     ]
    },
    {
     "name": "stderr",
     "output_type": "stream",
     "text": [
      "/home/santiago/anaconda3/envs/hyperparameter_optimization_for_machine_learning/lib/python3.9/site-packages/keras/optimizer_v2/adam.py:105: UserWarning: The `lr` argument is deprecated, use `learning_rate` instead.\n",
      "  super(Adam, self).__init__(name, **kwargs)\n"
     ]
    },
    {
     "name": "stdout",
     "output_type": "stream",
     "text": [
      "Epoch 1/3\n",
      "266/266 [==============================] - 99s 369ms/step - loss: 0.3953 - accuracy: 0.8639 - val_loss: 0.1127 - val_accuracy: 0.9664 - lr: 0.0032\n",
      "Epoch 2/3\n",
      "266/266 [==============================] - 97s 366ms/step - loss: 0.0817 - accuracy: 0.9760 - val_loss: 0.0959 - val_accuracy: 0.9757 - lr: 0.0032\n",
      "Epoch 3/3\n",
      "266/266 [==============================] - 96s 362ms/step - loss: 0.0612 - accuracy: 0.9820 - val_loss: 0.0884 - val_accuracy: 0.9765 - lr: 0.0032\n",
      "\n",
      "Accuracy: 97.65%\n",
      "\n",
      "learning rate: 3.8e-03\n",
      "num_conv_layers: 3\n",
      "num_dense_layers: 3\n",
      "num_dense_nodes: 451\n",
      "activation: relu\n",
      "\n",
      "Epoch 1/3\n"
     ]
    },
    {
     "name": "stderr",
     "output_type": "stream",
     "text": [
      "/home/santiago/anaconda3/envs/hyperparameter_optimization_for_machine_learning/lib/python3.9/site-packages/keras/optimizer_v2/adam.py:105: UserWarning: The `lr` argument is deprecated, use `learning_rate` instead.\n",
      "  super(Adam, self).__init__(name, **kwargs)\n"
     ]
    },
    {
     "name": "stdout",
     "output_type": "stream",
     "text": [
      "266/266 [==============================] - 99s 371ms/step - loss: 0.4177 - accuracy: 0.8555 - val_loss: 0.1034 - val_accuracy: 0.9709 - lr: 0.0038\n",
      "Epoch 2/3\n",
      "266/266 [==============================] - 95s 357ms/step - loss: 0.0863 - accuracy: 0.9732 - val_loss: 0.0780 - val_accuracy: 0.9767 - lr: 0.0038\n",
      "Epoch 3/3\n",
      "266/266 [==============================] - 96s 360ms/step - loss: 0.0774 - accuracy: 0.9781 - val_loss: 0.0735 - val_accuracy: 0.9810 - lr: 0.0038\n",
      "\n",
      "Accuracy: 98.10%\n",
      "\n",
      "learning rate: 2.9e-03\n",
      "num_conv_layers: 3\n",
      "num_dense_layers: 3\n",
      "num_dense_nodes: 409\n",
      "activation: relu\n",
      "\n",
      "Epoch 1/3\n"
     ]
    },
    {
     "name": "stderr",
     "output_type": "stream",
     "text": [
      "/home/santiago/anaconda3/envs/hyperparameter_optimization_for_machine_learning/lib/python3.9/site-packages/keras/optimizer_v2/adam.py:105: UserWarning: The `lr` argument is deprecated, use `learning_rate` instead.\n",
      "  super(Adam, self).__init__(name, **kwargs)\n"
     ]
    },
    {
     "name": "stdout",
     "output_type": "stream",
     "text": [
      "266/266 [==============================] - 100s 373ms/step - loss: 0.4805 - accuracy: 0.8318 - val_loss: 0.0870 - val_accuracy: 0.9738 - lr: 0.0029\n",
      "Epoch 2/3\n",
      "266/266 [==============================] - 104s 390ms/step - loss: 0.0829 - accuracy: 0.9745 - val_loss: 0.0797 - val_accuracy: 0.9775 - lr: 0.0029\n",
      "Epoch 3/3\n",
      "266/266 [==============================] - 102s 384ms/step - loss: 0.0600 - accuracy: 0.9823 - val_loss: 0.0559 - val_accuracy: 0.9852 - lr: 0.0029\n",
      "\n",
      "Accuracy: 98.52%\n",
      "\n",
      "learning rate: 4.7e-03\n",
      "num_conv_layers: 3\n",
      "num_dense_layers: 3\n",
      "num_dense_nodes: 446\n",
      "activation: relu\n",
      "\n",
      "Epoch 1/3\n"
     ]
    },
    {
     "name": "stderr",
     "output_type": "stream",
     "text": [
      "/home/santiago/anaconda3/envs/hyperparameter_optimization_for_machine_learning/lib/python3.9/site-packages/keras/optimizer_v2/adam.py:105: UserWarning: The `lr` argument is deprecated, use `learning_rate` instead.\n",
      "  super(Adam, self).__init__(name, **kwargs)\n"
     ]
    },
    {
     "name": "stdout",
     "output_type": "stream",
     "text": [
      "266/266 [==============================] - 102s 381ms/step - loss: 2.3050 - accuracy: 0.1084 - val_loss: 2.3007 - val_accuracy: 0.1146 - lr: 0.0047\n",
      "Epoch 2/3\n",
      "266/266 [==============================] - 92s 345ms/step - loss: 2.3017 - accuracy: 0.1111 - val_loss: 2.3012 - val_accuracy: 0.1146 - lr: 0.0047\n",
      "Epoch 3/3\n",
      "266/266 [==============================] - ETA: 0s - loss: 2.3015 - accuracy: 0.1111\n",
      "Epoch 00003: ReduceLROnPlateau reducing learning rate to 0.0023435279726982117.\n",
      "266/266 [==============================] - 93s 348ms/step - loss: 2.3015 - accuracy: 0.1111 - val_loss: 2.3014 - val_accuracy: 0.1146 - lr: 0.0047\n",
      "\n",
      "Accuracy: 11.46%\n",
      "\n",
      "learning rate: 3.5e-03\n",
      "num_conv_layers: 3\n",
      "num_dense_layers: 3\n",
      "num_dense_nodes: 428\n",
      "activation: relu\n",
      "\n",
      "Epoch 1/3\n"
     ]
    },
    {
     "name": "stderr",
     "output_type": "stream",
     "text": [
      "/home/santiago/anaconda3/envs/hyperparameter_optimization_for_machine_learning/lib/python3.9/site-packages/keras/optimizer_v2/adam.py:105: UserWarning: The `lr` argument is deprecated, use `learning_rate` instead.\n",
      "  super(Adam, self).__init__(name, **kwargs)\n"
     ]
    },
    {
     "name": "stdout",
     "output_type": "stream",
     "text": [
      "266/266 [==============================] - 97s 363ms/step - loss: 0.5966 - accuracy: 0.7858 - val_loss: 0.1927 - val_accuracy: 0.9458 - lr: 0.0035\n",
      "Epoch 2/3\n",
      "266/266 [==============================] - 98s 369ms/step - loss: 0.1086 - accuracy: 0.9673 - val_loss: 0.1242 - val_accuracy: 0.9622 - lr: 0.0035\n",
      "Epoch 3/3\n",
      "266/266 [==============================] - 96s 362ms/step - loss: 0.0753 - accuracy: 0.9772 - val_loss: 0.0951 - val_accuracy: 0.9728 - lr: 0.0035\n",
      "\n",
      "Accuracy: 97.28%\n",
      "\n",
      "learning rate: 2.3e-03\n",
      "num_conv_layers: 3\n",
      "num_dense_layers: 3\n",
      "num_dense_nodes: 395\n",
      "activation: relu\n",
      "\n",
      "Epoch 1/3\n"
     ]
    },
    {
     "name": "stderr",
     "output_type": "stream",
     "text": [
      "/home/santiago/anaconda3/envs/hyperparameter_optimization_for_machine_learning/lib/python3.9/site-packages/keras/optimizer_v2/adam.py:105: UserWarning: The `lr` argument is deprecated, use `learning_rate` instead.\n",
      "  super(Adam, self).__init__(name, **kwargs)\n"
     ]
    },
    {
     "name": "stdout",
     "output_type": "stream",
     "text": [
      "266/266 [==============================] - 102s 384ms/step - loss: 0.3027 - accuracy: 0.8977 - val_loss: 0.0897 - val_accuracy: 0.9746 - lr: 0.0023\n",
      "Epoch 2/3\n",
      "266/266 [==============================] - 102s 385ms/step - loss: 0.0690 - accuracy: 0.9797 - val_loss: 0.0627 - val_accuracy: 0.9817 - lr: 0.0023\n",
      "Epoch 3/3\n",
      "266/266 [==============================] - 109s 411ms/step - loss: 0.0549 - accuracy: 0.9844 - val_loss: 0.0568 - val_accuracy: 0.9849 - lr: 0.0023\n",
      "\n",
      "Accuracy: 98.49%\n",
      "\n",
      "learning rate: 3.5e-03\n",
      "num_conv_layers: 3\n",
      "num_dense_layers: 3\n",
      "num_dense_nodes: 455\n",
      "activation: relu\n",
      "\n",
      "Epoch 1/3\n"
     ]
    },
    {
     "name": "stderr",
     "output_type": "stream",
     "text": [
      "/home/santiago/anaconda3/envs/hyperparameter_optimization_for_machine_learning/lib/python3.9/site-packages/keras/optimizer_v2/adam.py:105: UserWarning: The `lr` argument is deprecated, use `learning_rate` instead.\n",
      "  super(Adam, self).__init__(name, **kwargs)\n"
     ]
    },
    {
     "name": "stdout",
     "output_type": "stream",
     "text": [
      "266/266 [==============================] - 105s 394ms/step - loss: 0.6591 - accuracy: 0.7645 - val_loss: 0.1208 - val_accuracy: 0.9683 - lr: 0.0035\n",
      "Epoch 2/3\n",
      "266/266 [==============================] - 99s 373ms/step - loss: 0.0907 - accuracy: 0.9735 - val_loss: 0.0961 - val_accuracy: 0.9746 - lr: 0.0035\n",
      "Epoch 3/3\n",
      "266/266 [==============================] - 103s 388ms/step - loss: 0.0697 - accuracy: 0.9796 - val_loss: 0.0622 - val_accuracy: 0.9823 - lr: 0.0035\n",
      "\n",
      "Accuracy: 98.23%\n",
      "\n"
     ]
    }
   ],
   "source": [
    "# we approximate f(x) using Random Forests, we could\n",
    "# also approximate it with gradient boosting machines\n",
    "# using gbrt_minimize instead.\n",
    "\n",
    "fm_ = forest_minimize(\n",
    "    objective,  # the objective function to minimize\n",
    "    param_grid,  # the hyperparameter space\n",
    "    x0=default_parameters,  # the initial parameters to test\n",
    "    acq_func='EI',  # the acquisition function\n",
    "    n_calls=30,  # the number of subsequent evaluations of f(x)\n",
    "    random_state=0,\n",
    ")"
   ]
  },
  {
   "cell_type": "markdown",
   "metadata": {},
   "source": [
    "### Analyze results"
   ]
  },
  {
   "cell_type": "code",
   "execution_count": 21,
   "metadata": {},
   "outputs": [
    {
     "data": {
      "text/plain": [
       "'Best score=-0.9857'"
      ]
     },
     "execution_count": 21,
     "metadata": {},
     "output_type": "execute_result"
    }
   ],
   "source": [
    "# function value at the minimum.\n",
    "# note that it is the negative of the accuracy\n",
    "\n",
    "\"Best score=%.4f\" % fm_.fun"
   ]
  },
  {
   "cell_type": "code",
   "execution_count": 22,
   "metadata": {},
   "outputs": [
    {
     "data": {
      "text/plain": [
       "[0.0013632546295566314, 3, 3, 440, 'relu']"
      ]
     },
     "execution_count": 22,
     "metadata": {},
     "output_type": "execute_result"
    }
   ],
   "source": [
    "fm_.x"
   ]
  },
  {
   "cell_type": "code",
   "execution_count": 23,
   "metadata": {},
   "outputs": [
    {
     "data": {
      "text/plain": [
       "Space([Real(low=1e-06, high=0.01, prior='log-uniform', transform='identity'),\n",
       "       Integer(low=1, high=3, prior='uniform', transform='identity'),\n",
       "       Integer(low=1, high=5, prior='uniform', transform='identity'),\n",
       "       Integer(low=5, high=512, prior='uniform', transform='identity'),\n",
       "       Categorical(categories=('relu', 'sigmoid'), prior=None)])"
      ]
     },
     "execution_count": 23,
     "metadata": {},
     "output_type": "execute_result"
    }
   ],
   "source": [
    "fm_.space"
   ]
  },
  {
   "cell_type": "code",
   "execution_count": 24,
   "metadata": {},
   "outputs": [
    {
     "name": "stdout",
     "output_type": "stream",
     "text": [
      "Best parameters:\n",
      "=========================\n",
      "- learning rate=0.001363\n",
      "- num_conv_laayers=3\n",
      "- num_dense_layers=3\n",
      "- num_nodes=440\n",
      "- activation = relu\n"
     ]
    }
   ],
   "source": [
    "print(\"\"\"Best parameters:\n",
    "=========================\n",
    "- learning rate=%.6f\n",
    "- num_conv_laayers=%d\n",
    "- num_dense_layers=%d\n",
    "- num_nodes=%d\n",
    "- activation = %s\"\"\" %(\n",
    "    fm_.x[0], \n",
    "    fm_.x[1],\n",
    "    fm_.x[2],\n",
    "    fm_.x[3],\n",
    "    fm_.x[4],\n",
    "))"
   ]
  },
  {
   "cell_type": "markdown",
   "metadata": {},
   "source": [
    "### Convergence"
   ]
  },
  {
   "cell_type": "code",
   "execution_count": 25,
   "metadata": {},
   "outputs": [
    {
     "data": {
      "text/plain": [
       "<AxesSubplot:title={'center':'Convergence plot'}, xlabel='Number of calls $n$', ylabel='$\\\\min f(x)$ after $n$ calls'>"
      ]
     },
     "execution_count": 25,
     "metadata": {},
     "output_type": "execute_result"
    },
    {
     "data": {
      "image/png": "[encoded data removed]",
      "text/plain": [
       "<Figure size 432x288 with 1 Axes>"
      ]
     },
     "metadata": {
      "needs_background": "light"
     },
     "output_type": "display_data"
    }
   ],
   "source": [
    "plot_convergence(fm_)"
   ]
  },
  {
   "cell_type": "markdown",
   "metadata": {},
   "source": [
    "### Partially dependency plots"
   ]
  },
  {
   "cell_type": "code",
   "execution_count": 26,
   "metadata": {},
   "outputs": [],
   "source": [
    "dim_names = ['learning_rate', 'num_conv_layers', 'num_dense_layers', 'num_dense_nodes', 'activation']"
   ]
  },
  {
   "cell_type": "code",
   "execution_count": 27,
   "metadata": {},
   "outputs": [
    {
     "data": {
      "image/png": "[encoded data removed]",
      "text/plain": [
       "<Figure size 720x720 with 25 Axes>"
      ]
     },
     "metadata": {
      "needs_background": "light"
     },
     "output_type": "display_data"
    }
   ],
   "source": [
    "plot_objective(result=fm_, plot_dims=dim_names)\n",
    "plt.show()"
   ]
  },
  {
   "cell_type": "markdown",
   "metadata": {},
   "source": [
    "### Evaluation order"
   ]
  },
  {
   "cell_type": "code",
   "execution_count": 28,
   "metadata": {},
   "outputs": [
    {
     "data": {
      "image/png": "[encoded data removed]",
      "text/plain": [
       "<Figure size 720x720 with 25 Axes>"
      ]
     },
     "metadata": {
      "needs_background": "light"
     },
     "output_type": "display_data"
    }
   ],
   "source": [
    "plot_evaluations(result=fm_, plot_dims=dim_names)\n",
    "plt.show()"
   ]
  },
  {
   "cell_type": "markdown",
   "metadata": {},
   "source": [
    "### Evaluate the model"
   ]
  },
  {
   "cell_type": "code",
   "execution_count": 29,
   "metadata": {},
   "outputs": [],
   "source": [
    "# load best model\n",
    "\n",
    "model = load_model(path_best_model)"
   ]
  },
  {
   "cell_type": "code",
   "execution_count": 30,
   "metadata": {},
   "outputs": [
    {
     "name": "stdout",
     "output_type": "stream",
     "text": [
      "132/132 [==============================] - 4s 29ms/step - loss: 0.0474 - accuracy: 0.9864\n"
     ]
    }
   ],
   "source": [
    "# make predictions in test set\n",
    "\n",
    "result = model.evaluate(x=X_test,\n",
    "                        y=y_test)"
   ]
  },
  {
   "cell_type": "code",
   "execution_count": 31,
   "metadata": {},
   "outputs": [
    {
     "name": "stdout",
     "output_type": "stream",
     "text": [
      "loss 0.04738698527216911\n",
      "accuracy 0.9864285588264465\n"
     ]
    }
   ],
   "source": [
    "# print evaluation metrics\n",
    "\n",
    "for name, value in zip(model.metrics_names, result):\n",
    "    print(name, value)"
   ]
  },
  {
   "cell_type": "markdown",
   "metadata": {},
   "source": [
    "### Confusion matrix"
   ]
  },
  {
   "cell_type": "code",
   "execution_count": 33,
   "metadata": {},
   "outputs": [],
   "source": [
    "import numpy as np"
   ]
  },
  {
   "cell_type": "code",
   "execution_count": 34,
   "metadata": {},
   "outputs": [
    {
     "data": {
      "text/plain": [
       "array([[421,   0,   1,   0,   0,   0,   0,   0,   0,   0],\n",
       "       [  0, 471,   0,   0,   0,   0,   1,   0,   1,   0],\n",
       "       [  0,   0, 406,   0,   0,   0,   0,   3,   0,   0],\n",
       "       [  2,   0,   4, 416,   0,   2,   0,   1,   0,   1],\n",
       "       [  1,   0,   0,   0, 426,   0,   1,   0,   0,   1],\n",
       "       [  0,   0,   0,   2,   0, 376,   3,   0,   0,   1],\n",
       "       [  0,   0,   0,   0,   2,   0, 410,   0,   0,   0],\n",
       "       [  0,   2,   5,   0,   0,   0,   0, 461,   0,   1],\n",
       "       [  0,   1,   3,   0,   0,   0,   4,   0, 376,   0],\n",
       "       [  3,   1,   1,   0,   8,   0,   0,   0,   1, 380]])"
      ]
     },
     "execution_count": 34,
     "metadata": {},
     "output_type": "execute_result"
    }
   ],
   "source": [
    "# Predict the values from the validation dataset\n",
    "y_pred = model.predict(X_test)\n",
    "\n",
    "# Convert predictions classes to one hot vectors \n",
    "y_pred_classes = np.argmax(y_pred, axis = 1)\n",
    "\n",
    "# Convert validation observations to one hot vectors\n",
    "y_true = np.argmax(y_test, axis = 1)\n",
    "\n",
    "# compute the confusion matrix\n",
    "cm = confusion_matrix(y_true, y_pred_classes) \n",
    "\n",
    "cm"
   ]
  },
  {
   "cell_type": "code",
   "execution_count": 35,
   "metadata": {},
   "outputs": [
    {
     "data": {
      "text/plain": [
       "Text(0.5, 13.421126458070283, 'Predicted label')"
      ]
     },
     "execution_count": 35,
     "metadata": {},
     "output_type": "execute_result"
    },
    {
     "data": {
      "image/png": "[encoded data removed]",
      "text/plain": [
       "<Figure size 432x288 with 2 Axes>"
      ]
     },
     "metadata": {
      "needs_background": "light"
     },
     "output_type": "display_data"
    }
   ],
   "source": [
    "# let's make it more colourful\n",
    "classes = 10\n",
    "\n",
    "plt.imshow(cm, interpolation='nearest', cmap=plt.cm.Blues)\n",
    "plt.title('Confusion matrix')\n",
    "plt.colorbar()\n",
    "tick_marks = np.arange(classes)\n",
    "plt.xticks(tick_marks, range(classes), rotation=45)\n",
    "plt.yticks(tick_marks, range(classes))\n",
    "\n",
    "for i, j in itertools.product(range(cm.shape[0]), range(cm.shape[1])):\n",
    "    plt.text(j, i, cm[i, j],\n",
    "             horizontalalignment=\"center\",\n",
    "             color=\"white\" if cm[i, j] > 100 else \"black\",\n",
    "            )\n",
    "\n",
    "plt.tight_layout()\n",
    "plt.ylabel('True label')\n",
    "plt.xlabel('Predicted label')"
   ]
  },
  {
   "cell_type": "markdown",
   "metadata": {},
   "source": [
    "Here we can see that our CNN performs very well on all digits."
   ]
  },
  {
   "cell_type": "markdown",
   "metadata": {},
   "source": [
    "### Exploring the Scikit-Optimize minimizer"
   ]
  },
  {
   "cell_type": "code",
   "execution_count": 36,
   "metadata": {},
   "outputs": [
    {
     "data": {
      "text/plain": [
       "          fun: -0.9857142567634583\n",
       "    func_vals: array([-0.56322753, -0.78941798, -0.94206351, -0.09973545, -0.69576722,\n",
       "       -0.11455026, -0.95899469, -0.96111113, -0.11455026, -0.9820106 ,\n",
       "       -0.98227513, -0.98571426, -0.97460318, -0.11455026, -0.98015875,\n",
       "       -0.9780423 , -0.97142857, -0.11455026, -0.9846561 , -0.11455026,\n",
       "       -0.98333335, -0.97857141, -0.9820106 , -0.97645503, -0.98095238,\n",
       "       -0.98518521, -0.11455026, -0.97275132, -0.98492062, -0.98227513])\n",
       "       models: [ExtraTreesRegressor(min_samples_leaf=3, n_estimators=100,\n",
       "                    random_state=209652396), ExtraTreesRegressor(min_samples_leaf=3, n_estimators=100,\n",
       "                    random_state=209652396), ExtraTreesRegressor(min_samples_leaf=3, n_estimators=100,\n",
       "                    random_state=209652396), ExtraTreesRegressor(min_samples_leaf=3, n_estimators=100,\n",
       "                    random_state=209652396), ExtraTreesRegressor(min_samples_leaf=3, n_estimators=100,\n",
       "                    random_state=209652396), ExtraTreesRegressor(min_samples_leaf=3, n_estimators=100,\n",
       "                    random_state=209652396), ExtraTreesRegressor(min_samples_leaf=3, n_estimators=100,\n",
       "                    random_state=209652396), ExtraTreesRegressor(min_samples_leaf=3, n_estimators=100,\n",
       "                    random_state=209652396), ExtraTreesRegressor(min_samples_leaf=3, n_estimators=100,\n",
       "                    random_state=209652396), ExtraTreesRegressor(min_samples_leaf=3, n_estimators=100,\n",
       "                    random_state=209652396), ExtraTreesRegressor(min_samples_leaf=3, n_estimators=100,\n",
       "                    random_state=209652396), ExtraTreesRegressor(min_samples_leaf=3, n_estimators=100,\n",
       "                    random_state=209652396), ExtraTreesRegressor(min_samples_leaf=3, n_estimators=100,\n",
       "                    random_state=209652396), ExtraTreesRegressor(min_samples_leaf=3, n_estimators=100,\n",
       "                    random_state=209652396), ExtraTreesRegressor(min_samples_leaf=3, n_estimators=100,\n",
       "                    random_state=209652396), ExtraTreesRegressor(min_samples_leaf=3, n_estimators=100,\n",
       "                    random_state=209652396), ExtraTreesRegressor(min_samples_leaf=3, n_estimators=100,\n",
       "                    random_state=209652396), ExtraTreesRegressor(min_samples_leaf=3, n_estimators=100,\n",
       "                    random_state=209652396), ExtraTreesRegressor(min_samples_leaf=3, n_estimators=100,\n",
       "                    random_state=209652396), ExtraTreesRegressor(min_samples_leaf=3, n_estimators=100,\n",
       "                    random_state=209652396)]\n",
       " random_state: RandomState(MT19937) at 0x7F7190C2CC40\n",
       "        space: Space([Real(low=1e-06, high=0.01, prior='log-uniform', transform='identity'),\n",
       "       Integer(low=1, high=3, prior='uniform', transform='identity'),\n",
       "       Integer(low=1, high=5, prior='uniform', transform='identity'),\n",
       "       Integer(low=5, high=512, prior='uniform', transform='identity'),\n",
       "       Categorical(categories=('relu', 'sigmoid'), prior=None)])\n",
       "        specs: {'args': {'func': <function objective at 0x7f7190c2a700>, 'dimensions': [Real(low=1e-06, high=0.01, prior='log-uniform', transform='identity'), Integer(low=1, high=3, prior='uniform', transform='identity'), Integer(low=1, high=5, prior='uniform', transform='identity'), Integer(low=5, high=512, prior='uniform', transform='identity'), Categorical(categories=('relu', 'sigmoid'), prior=None)], 'base_estimator': 'ET', 'n_calls': 30, 'n_random_starts': None, 'n_initial_points': 10, 'initial_point_generator': 'random', 'acq_func': 'EI', 'acq_optimizer': 'sampling', 'x0': [1e-05, 1, 1, 16, 'relu'], 'y0': None, 'random_state': 0, 'verbose': False, 'callback': None, 'n_points': 10000, 'n_restarts_optimizer': 5, 'xi': 0.01, 'kappa': 1.96, 'n_jobs': 1, 'model_queue_size': None}, 'function': 'base_minimize'}\n",
       "            x: [0.0013632546295566314, 3, 3, 440, 'relu']\n",
       "      x_iters: [[1e-05, 1, 1, 16, 'relu'], [0.00023516813385771865, 1, 4, 256, 'sigmoid'], [4.950159553733197e-05, 2, 3, 297, 'relu'], [1.6859780231705853e-06, 1, 3, 198, 'sigmoid'], [0.00013049073550362405, 1, 2, 170, 'sigmoid'], [2.2365810539197545e-05, 1, 4, 469, 'sigmoid'], [0.0012960656597279748, 1, 3, 104, 'sigmoid'], [7.01321977994579e-05, 3, 1, 454, 'relu'], [0.006007249475906207, 3, 5, 156, 'relu'], [0.0012500712230836273, 1, 3, 133, 'relu'], [0.0002954894558726686, 3, 1, 249, 'relu'], [0.0013632546295566314, 3, 3, 440, 'relu'], [0.003413986150958144, 3, 3, 264, 'relu'], [0.0024900626005720516, 3, 3, 255, 'relu'], [0.001390303556782622, 3, 3, 510, 'relu'], [0.00401826295889157, 3, 3, 415, 'relu'], [0.0041051504973534285, 3, 3, 385, 'relu'], [0.005923968800474911, 3, 3, 345, 'relu'], [0.002436705352562109, 3, 3, 427, 'relu'], [0.009858960267281764, 3, 3, 430, 'relu'], [0.0018583009690171632, 3, 3, 438, 'relu'], [0.002818440353793694, 3, 3, 477, 'relu'], [0.002188642107858143, 3, 3, 432, 'relu'], [0.003220574055107706, 3, 3, 422, 'relu'], [0.003809462215048167, 3, 3, 451, 'relu'], [0.002907746617510045, 3, 3, 409, 'relu'], [0.0046870557652615875, 3, 3, 446, 'relu'], [0.0034740326616192014, 3, 3, 428, 'relu'], [0.002325367280928614, 3, 3, 395, 'relu'], [0.003542011675397217, 3, 3, 455, 'relu']]"
      ]
     },
     "execution_count": 36,
     "metadata": {},
     "output_type": "execute_result"
    }
   ],
   "source": [
    "fm_"
   ]
  },
  {
   "cell_type": "code",
   "execution_count": 38,
   "metadata": {},
   "outputs": [
    {
     "data": {
      "text/plain": [
       "array([-0.56322753, -0.78941798, -0.94206351, -0.09973545, -0.69576722,\n",
       "       -0.11455026, -0.95899469, -0.96111113, -0.11455026, -0.9820106 ,\n",
       "       -0.98227513, -0.98571426, -0.97460318, -0.11455026, -0.98015875,\n",
       "       -0.9780423 , -0.97142857, -0.11455026, -0.9846561 , -0.11455026,\n",
       "       -0.98333335, -0.97857141, -0.9820106 , -0.97645503, -0.98095238,\n",
       "       -0.98518521, -0.11455026, -0.97275132, -0.98492062, -0.98227513])"
      ]
     },
     "execution_count": 38,
     "metadata": {},
     "output_type": "execute_result"
    }
   ],
   "source": [
    "# the accuracy\n",
    "\n",
    "fm_.func_vals"
   ]
  },
  {
   "cell_type": "code",
   "execution_count": 39,
   "metadata": {},
   "outputs": [
    {
     "data": {
      "text/plain": [
       "[[1e-05, 1, 1, 16, 'relu'],\n",
       " [0.00023516813385771865, 1, 4, 256, 'sigmoid'],\n",
       " [4.950159553733197e-05, 2, 3, 297, 'relu'],\n",
       " [1.6859780231705853e-06, 1, 3, 198, 'sigmoid'],\n",
       " [0.00013049073550362405, 1, 2, 170, 'sigmoid'],\n",
       " [2.2365810539197545e-05, 1, 4, 469, 'sigmoid'],\n",
       " [0.0012960656597279748, 1, 3, 104, 'sigmoid'],\n",
       " [7.01321977994579e-05, 3, 1, 454, 'relu'],\n",
       " [0.006007249475906207, 3, 5, 156, 'relu'],\n",
       " [0.0012500712230836273, 1, 3, 133, 'relu'],\n",
       " [0.0002954894558726686, 3, 1, 249, 'relu'],\n",
       " [0.0013632546295566314, 3, 3, 440, 'relu'],\n",
       " [0.003413986150958144, 3, 3, 264, 'relu'],\n",
       " [0.0024900626005720516, 3, 3, 255, 'relu'],\n",
       " [0.001390303556782622, 3, 3, 510, 'relu'],\n",
       " [0.00401826295889157, 3, 3, 415, 'relu'],\n",
       " [0.0041051504973534285, 3, 3, 385, 'relu'],\n",
       " [0.005923968800474911, 3, 3, 345, 'relu'],\n",
       " [0.002436705352562109, 3, 3, 427, 'relu'],\n",
       " [0.009858960267281764, 3, 3, 430, 'relu'],\n",
       " [0.0018583009690171632, 3, 3, 438, 'relu'],\n",
       " [0.002818440353793694, 3, 3, 477, 'relu'],\n",
       " [0.002188642107858143, 3, 3, 432, 'relu'],\n",
       " [0.003220574055107706, 3, 3, 422, 'relu'],\n",
       " [0.003809462215048167, 3, 3, 451, 'relu'],\n",
       " [0.002907746617510045, 3, 3, 409, 'relu'],\n",
       " [0.0046870557652615875, 3, 3, 446, 'relu'],\n",
       " [0.0034740326616192014, 3, 3, 428, 'relu'],\n",
       " [0.002325367280928614, 3, 3, 395, 'relu'],\n",
       " [0.003542011675397217, 3, 3, 455, 'relu']]"
      ]
     },
     "execution_count": 39,
     "metadata": {},
     "output_type": "execute_result"
    }
   ],
   "source": [
    "# the hyperparameter combinations\n",
    "\n",
    "fm_.x_iters"
   ]
  },
  {
   "cell_type": "code",
   "execution_count": 40,
   "metadata": {},
   "outputs": [
    {
     "data": {
      "text/html": [
       "<div>\n",
       "<style scoped>\n",
       "    .dataframe tbody tr th:only-of-type {\n",
       "        vertical-align: middle;\n",
       "    }\n",
       "\n",
       "    .dataframe tbody tr th {\n",
       "        vertical-align: top;\n",
       "    }\n",
       "\n",
       "    .dataframe thead th {\n",
       "        text-align: right;\n",
       "    }\n",
       "</style>\n",
       "<table border=\"1\" class=\"dataframe\">\n",
       "  <thead>\n",
       "    <tr style=\"text-align: right;\">\n",
       "      <th></th>\n",
       "      <th>learning_rate</th>\n",
       "      <th>num_conv_layers</th>\n",
       "      <th>num_dense_layers</th>\n",
       "      <th>num_dense_nodes</th>\n",
       "      <th>activation</th>\n",
       "      <th>accuracy</th>\n",
       "    </tr>\n",
       "  </thead>\n",
       "  <tbody>\n",
       "    <tr>\n",
       "      <th>0</th>\n",
       "      <td>0.000010</td>\n",
       "      <td>1</td>\n",
       "      <td>1</td>\n",
       "      <td>16</td>\n",
       "      <td>relu</td>\n",
       "      <td>-0.563228</td>\n",
       "    </tr>\n",
       "    <tr>\n",
       "      <th>1</th>\n",
       "      <td>0.000235</td>\n",
       "      <td>1</td>\n",
       "      <td>4</td>\n",
       "      <td>256</td>\n",
       "      <td>sigmoid</td>\n",
       "      <td>-0.789418</td>\n",
       "    </tr>\n",
       "    <tr>\n",
       "      <th>2</th>\n",
       "      <td>0.000050</td>\n",
       "      <td>2</td>\n",
       "      <td>3</td>\n",
       "      <td>297</td>\n",
       "      <td>relu</td>\n",
       "      <td>-0.942064</td>\n",
       "    </tr>\n",
       "    <tr>\n",
       "      <th>3</th>\n",
       "      <td>0.000002</td>\n",
       "      <td>1</td>\n",
       "      <td>3</td>\n",
       "      <td>198</td>\n",
       "      <td>sigmoid</td>\n",
       "      <td>-0.099735</td>\n",
       "    </tr>\n",
       "    <tr>\n",
       "      <th>4</th>\n",
       "      <td>0.000130</td>\n",
       "      <td>1</td>\n",
       "      <td>2</td>\n",
       "      <td>170</td>\n",
       "      <td>sigmoid</td>\n",
       "      <td>-0.695767</td>\n",
       "    </tr>\n",
       "  </tbody>\n",
       "</table>\n",
       "</div>"
      ],
      "text/plain": [
       "   learning_rate  num_conv_layers  num_dense_layers  num_dense_nodes  \\\n",
       "0       0.000010                1                 1               16   \n",
       "1       0.000235                1                 4              256   \n",
       "2       0.000050                2                 3              297   \n",
       "3       0.000002                1                 3              198   \n",
       "4       0.000130                1                 2              170   \n",
       "\n",
       "  activation  accuracy  \n",
       "0       relu -0.563228  \n",
       "1    sigmoid -0.789418  \n",
       "2       relu -0.942064  \n",
       "3    sigmoid -0.099735  \n",
       "4    sigmoid -0.695767  "
      ]
     },
     "execution_count": 40,
     "metadata": {},
     "output_type": "execute_result"
    }
   ],
   "source": [
    "# all together in one dataframe, so we can investigate further\n",
    "\n",
    "tmp = pd.concat([\n",
    "    pd.DataFrame(fm_.x_iters),\n",
    "    pd.Series(fm_.func_vals),\n",
    "], axis=1)\n",
    "\n",
    "tmp.columns = dim_names + ['accuracy']\n",
    "tmp.head()"
   ]
  },
  {
   "cell_type": "code",
   "execution_count": 41,
   "metadata": {},
   "outputs": [
    {
     "data": {
      "text/html": [
       "<div>\n",
       "<style scoped>\n",
       "    .dataframe tbody tr th:only-of-type {\n",
       "        vertical-align: middle;\n",
       "    }\n",
       "\n",
       "    .dataframe tbody tr th {\n",
       "        vertical-align: top;\n",
       "    }\n",
       "\n",
       "    .dataframe thead th {\n",
       "        text-align: right;\n",
       "    }\n",
       "</style>\n",
       "<table border=\"1\" class=\"dataframe\">\n",
       "  <thead>\n",
       "    <tr style=\"text-align: right;\">\n",
       "      <th></th>\n",
       "      <th>learning_rate</th>\n",
       "      <th>num_conv_layers</th>\n",
       "      <th>num_dense_layers</th>\n",
       "      <th>num_dense_nodes</th>\n",
       "      <th>activation</th>\n",
       "      <th>accuracy</th>\n",
       "    </tr>\n",
       "  </thead>\n",
       "  <tbody>\n",
       "    <tr>\n",
       "      <th>11</th>\n",
       "      <td>0.001363</td>\n",
       "      <td>3</td>\n",
       "      <td>3</td>\n",
       "      <td>440</td>\n",
       "      <td>relu</td>\n",
       "      <td>-0.985714</td>\n",
       "    </tr>\n",
       "    <tr>\n",
       "      <th>25</th>\n",
       "      <td>0.002908</td>\n",
       "      <td>3</td>\n",
       "      <td>3</td>\n",
       "      <td>409</td>\n",
       "      <td>relu</td>\n",
       "      <td>-0.985185</td>\n",
       "    </tr>\n",
       "    <tr>\n",
       "      <th>28</th>\n",
       "      <td>0.002325</td>\n",
       "      <td>3</td>\n",
       "      <td>3</td>\n",
       "      <td>395</td>\n",
       "      <td>relu</td>\n",
       "      <td>-0.984921</td>\n",
       "    </tr>\n",
       "    <tr>\n",
       "      <th>18</th>\n",
       "      <td>0.002437</td>\n",
       "      <td>3</td>\n",
       "      <td>3</td>\n",
       "      <td>427</td>\n",
       "      <td>relu</td>\n",
       "      <td>-0.984656</td>\n",
       "    </tr>\n",
       "    <tr>\n",
       "      <th>20</th>\n",
       "      <td>0.001858</td>\n",
       "      <td>3</td>\n",
       "      <td>3</td>\n",
       "      <td>438</td>\n",
       "      <td>relu</td>\n",
       "      <td>-0.983333</td>\n",
       "    </tr>\n",
       "    <tr>\n",
       "      <th>29</th>\n",
       "      <td>0.003542</td>\n",
       "      <td>3</td>\n",
       "      <td>3</td>\n",
       "      <td>455</td>\n",
       "      <td>relu</td>\n",
       "      <td>-0.982275</td>\n",
       "    </tr>\n",
       "    <tr>\n",
       "      <th>10</th>\n",
       "      <td>0.000295</td>\n",
       "      <td>3</td>\n",
       "      <td>1</td>\n",
       "      <td>249</td>\n",
       "      <td>relu</td>\n",
       "      <td>-0.982275</td>\n",
       "    </tr>\n",
       "    <tr>\n",
       "      <th>22</th>\n",
       "      <td>0.002189</td>\n",
       "      <td>3</td>\n",
       "      <td>3</td>\n",
       "      <td>432</td>\n",
       "      <td>relu</td>\n",
       "      <td>-0.982011</td>\n",
       "    </tr>\n",
       "    <tr>\n",
       "      <th>9</th>\n",
       "      <td>0.001250</td>\n",
       "      <td>1</td>\n",
       "      <td>3</td>\n",
       "      <td>133</td>\n",
       "      <td>relu</td>\n",
       "      <td>-0.982011</td>\n",
       "    </tr>\n",
       "    <tr>\n",
       "      <th>24</th>\n",
       "      <td>0.003809</td>\n",
       "      <td>3</td>\n",
       "      <td>3</td>\n",
       "      <td>451</td>\n",
       "      <td>relu</td>\n",
       "      <td>-0.980952</td>\n",
       "    </tr>\n",
       "  </tbody>\n",
       "</table>\n",
       "</div>"
      ],
      "text/plain": [
       "    learning_rate  num_conv_layers  num_dense_layers  num_dense_nodes  \\\n",
       "11       0.001363                3                 3              440   \n",
       "25       0.002908                3                 3              409   \n",
       "28       0.002325                3                 3              395   \n",
       "18       0.002437                3                 3              427   \n",
       "20       0.001858                3                 3              438   \n",
       "29       0.003542                3                 3              455   \n",
       "10       0.000295                3                 1              249   \n",
       "22       0.002189                3                 3              432   \n",
       "9        0.001250                1                 3              133   \n",
       "24       0.003809                3                 3              451   \n",
       "\n",
       "   activation  accuracy  \n",
       "11       relu -0.985714  \n",
       "25       relu -0.985185  \n",
       "28       relu -0.984921  \n",
       "18       relu -0.984656  \n",
       "20       relu -0.983333  \n",
       "29       relu -0.982275  \n",
       "10       relu -0.982275  \n",
       "22       relu -0.982011  \n",
       "9        relu -0.982011  \n",
       "24       relu -0.980952  "
      ]
     },
     "execution_count": 41,
     "metadata": {},
     "output_type": "execute_result"
    }
   ],
   "source": [
    "tmp.sort_values(by='accuracy', ascending=True, inplace=True)\n",
    "tmp.head(10)"
   ]
  },
  {
   "cell_type": "code",
   "execution_count": null,
   "metadata": {},
   "outputs": [],
   "source": []
  }
 ],
 "metadata": {
  "kernelspec": {
   "display_name": "Python 3.9.13 ('hyperparameter_optimization_for_machine_learning')",
   "language": "python",
   "name": "python3"
  },
  "language_info": {
   "codemirror_mode": {
    "name": "ipython",
    "version": 3
   },
   "file_extension": ".py",
   "mimetype": "text/x-python",
   "name": "python",
   "nbconvert_exporter": "python",
   "pygments_lexer": "ipython3",
   "version": "3.9.13"
  },
  "orig_nbformat": 4,
  "vscode": {
   "interpreter": {
    "hash": "2f33e3a0ecdca2dfa9e05d6e5730c703bfe1984a713822542070e9abfcf88fe9"
   }
  }
 },
 "nbformat": 4,
 "nbformat_minor": 2
}
