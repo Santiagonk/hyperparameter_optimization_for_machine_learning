{
 "cells": [
  {
   "cell_type": "markdown",
   "metadata": {},
   "source": [
    "# Bayesian Optimization of CNN with Scikit-Optimize"
   ]
  },
  {
   "cell_type": "markdown",
   "metadata": {},
   "source": [
    "In this notebook, we will use Bayesian Optimization to select the best hyperparameters for a CNN that recognizes digits in images, using the MNIST dataset and the open source Python package Scikit-Optimize.\n",
    "\n",
    "The MNIST dataset is availale in Kaggle.\n",
    "\n",
    "#### Download dataset\n",
    "* Navigate to the MNIST website in Kaggle\n",
    "* Download the train.csv file\n",
    "* Unzip and copy the train.csv file to where you see the SAVE_DATASETS-HERE.txt file\n",
    "* Rename to mnist.csv\n",
    "\n",
    "#### Notebook content\n",
    "* Data Preparation\n",
    "* Set up a simple CNN\n",
    "* Set up the hyperparameter search shape\n",
    "* Set up the objective function\n",
    "* Perform Bayesian Optimization\n",
    "* Evaluate Model Performance"
   ]
  },
  {
   "cell_type": "code",
   "execution_count": 1,
   "metadata": {},
   "outputs": [],
   "source": [
    "import itertools\n",
    "\n",
    "import numpy as np\n",
    "import pandas as pd\n",
    "import matplotlib.pyplot as plt\n",
    "import seaborn as sns\n",
    "\n",
    "from sklearn.model_selection import train_test_split\n",
    "from sklearn.metrics import confusion_matrix"
   ]
  },
  {
   "cell_type": "code",
   "execution_count": 3,
   "metadata": {},
   "outputs": [],
   "source": [
    "from keras.utils.np_utils import to_categorical\n",
    "from keras.models import Sequential, load_model\n",
    "from keras.layers import Dense, Flatten, Conv2D, MaxPool2D\n",
    "from tensorflow.keras.optimizers import Adam\n",
    "from keras.callbacks import ReduceLROnPlateau"
   ]
  },
  {
   "cell_type": "code",
   "execution_count": 4,
   "metadata": {},
   "outputs": [],
   "source": [
    "from skopt import gp_minimize\n",
    "from skopt.space import Real, Categorical, Integer\n",
    "from skopt.plots import plot_convergence\n",
    "from skopt.plots import plot_objective, plot_evaluations\n",
    "from skopt.utils import use_named_args"
   ]
  },
  {
   "cell_type": "markdown",
   "metadata": {},
   "source": [
    "## Data Preparation"
   ]
  },
  {
   "cell_type": "markdown",
   "metadata": {},
   "source": [
    "The dataset contains information about images, each image is a hand-written digit. The aim is to have the computer predict which digit was written by the person, automatically, by \"looking\" at the image.\n",
    "\n",
    "Each image is 28 pixels in height and 28 pixels in width (28 x 28), making a total of 784 pixels. Each pixel value is an integer between 0 and 255, indicating the darkness in a gray-scale of that pixel.\n",
    "\n",
    "The data is stored in a dataframe where each each pixel is a column (so it is flattened and not in the 28 x 28 format).\n",
    "\n",
    "The data set the has 785 columns. The first column, called \"label\", is the digit that was drawn by the user. The rest of the columns contain the pixel-values of the associated image."
   ]
  },
  {
   "cell_type": "code",
   "execution_count": 5,
   "metadata": {},
   "outputs": [
    {
     "data": {
      "text/html": [
       "<div>\n",
       "<style scoped>\n",
       "    .dataframe tbody tr th:only-of-type {\n",
       "        vertical-align: middle;\n",
       "    }\n",
       "\n",
       "    .dataframe tbody tr th {\n",
       "        vertical-align: top;\n",
       "    }\n",
       "\n",
       "    .dataframe thead th {\n",
       "        text-align: right;\n",
       "    }\n",
       "</style>\n",
       "<table border=\"1\" class=\"dataframe\">\n",
       "  <thead>\n",
       "    <tr style=\"text-align: right;\">\n",
       "      <th></th>\n",
       "      <th>label</th>\n",
       "      <th>pixel0</th>\n",
       "      <th>pixel1</th>\n",
       "      <th>pixel2</th>\n",
       "      <th>pixel3</th>\n",
       "      <th>pixel4</th>\n",
       "      <th>pixel5</th>\n",
       "      <th>pixel6</th>\n",
       "      <th>pixel7</th>\n",
       "      <th>pixel8</th>\n",
       "      <th>...</th>\n",
       "      <th>pixel774</th>\n",
       "      <th>pixel775</th>\n",
       "      <th>pixel776</th>\n",
       "      <th>pixel777</th>\n",
       "      <th>pixel778</th>\n",
       "      <th>pixel779</th>\n",
       "      <th>pixel780</th>\n",
       "      <th>pixel781</th>\n",
       "      <th>pixel782</th>\n",
       "      <th>pixel783</th>\n",
       "    </tr>\n",
       "  </thead>\n",
       "  <tbody>\n",
       "    <tr>\n",
       "      <th>0</th>\n",
       "      <td>1</td>\n",
       "      <td>0</td>\n",
       "      <td>0</td>\n",
       "      <td>0</td>\n",
       "      <td>0</td>\n",
       "      <td>0</td>\n",
       "      <td>0</td>\n",
       "      <td>0</td>\n",
       "      <td>0</td>\n",
       "      <td>0</td>\n",
       "      <td>...</td>\n",
       "      <td>0</td>\n",
       "      <td>0</td>\n",
       "      <td>0</td>\n",
       "      <td>0</td>\n",
       "      <td>0</td>\n",
       "      <td>0</td>\n",
       "      <td>0</td>\n",
       "      <td>0</td>\n",
       "      <td>0</td>\n",
       "      <td>0</td>\n",
       "    </tr>\n",
       "    <tr>\n",
       "      <th>1</th>\n",
       "      <td>0</td>\n",
       "      <td>0</td>\n",
       "      <td>0</td>\n",
       "      <td>0</td>\n",
       "      <td>0</td>\n",
       "      <td>0</td>\n",
       "      <td>0</td>\n",
       "      <td>0</td>\n",
       "      <td>0</td>\n",
       "      <td>0</td>\n",
       "      <td>...</td>\n",
       "      <td>0</td>\n",
       "      <td>0</td>\n",
       "      <td>0</td>\n",
       "      <td>0</td>\n",
       "      <td>0</td>\n",
       "      <td>0</td>\n",
       "      <td>0</td>\n",
       "      <td>0</td>\n",
       "      <td>0</td>\n",
       "      <td>0</td>\n",
       "    </tr>\n",
       "    <tr>\n",
       "      <th>2</th>\n",
       "      <td>1</td>\n",
       "      <td>0</td>\n",
       "      <td>0</td>\n",
       "      <td>0</td>\n",
       "      <td>0</td>\n",
       "      <td>0</td>\n",
       "      <td>0</td>\n",
       "      <td>0</td>\n",
       "      <td>0</td>\n",
       "      <td>0</td>\n",
       "      <td>...</td>\n",
       "      <td>0</td>\n",
       "      <td>0</td>\n",
       "      <td>0</td>\n",
       "      <td>0</td>\n",
       "      <td>0</td>\n",
       "      <td>0</td>\n",
       "      <td>0</td>\n",
       "      <td>0</td>\n",
       "      <td>0</td>\n",
       "      <td>0</td>\n",
       "    </tr>\n",
       "    <tr>\n",
       "      <th>3</th>\n",
       "      <td>4</td>\n",
       "      <td>0</td>\n",
       "      <td>0</td>\n",
       "      <td>0</td>\n",
       "      <td>0</td>\n",
       "      <td>0</td>\n",
       "      <td>0</td>\n",
       "      <td>0</td>\n",
       "      <td>0</td>\n",
       "      <td>0</td>\n",
       "      <td>...</td>\n",
       "      <td>0</td>\n",
       "      <td>0</td>\n",
       "      <td>0</td>\n",
       "      <td>0</td>\n",
       "      <td>0</td>\n",
       "      <td>0</td>\n",
       "      <td>0</td>\n",
       "      <td>0</td>\n",
       "      <td>0</td>\n",
       "      <td>0</td>\n",
       "    </tr>\n",
       "    <tr>\n",
       "      <th>4</th>\n",
       "      <td>0</td>\n",
       "      <td>0</td>\n",
       "      <td>0</td>\n",
       "      <td>0</td>\n",
       "      <td>0</td>\n",
       "      <td>0</td>\n",
       "      <td>0</td>\n",
       "      <td>0</td>\n",
       "      <td>0</td>\n",
       "      <td>0</td>\n",
       "      <td>...</td>\n",
       "      <td>0</td>\n",
       "      <td>0</td>\n",
       "      <td>0</td>\n",
       "      <td>0</td>\n",
       "      <td>0</td>\n",
       "      <td>0</td>\n",
       "      <td>0</td>\n",
       "      <td>0</td>\n",
       "      <td>0</td>\n",
       "      <td>0</td>\n",
       "    </tr>\n",
       "  </tbody>\n",
       "</table>\n",
       "<p>5 rows × 785 columns</p>\n",
       "</div>"
      ],
      "text/plain": [
       "   label  pixel0  pixel1  pixel2  pixel3  pixel4  pixel5  pixel6  pixel7  \\\n",
       "0      1       0       0       0       0       0       0       0       0   \n",
       "1      0       0       0       0       0       0       0       0       0   \n",
       "2      1       0       0       0       0       0       0       0       0   \n",
       "3      4       0       0       0       0       0       0       0       0   \n",
       "4      0       0       0       0       0       0       0       0       0   \n",
       "\n",
       "   pixel8  ...  pixel774  pixel775  pixel776  pixel777  pixel778  pixel779  \\\n",
       "0       0  ...         0         0         0         0         0         0   \n",
       "1       0  ...         0         0         0         0         0         0   \n",
       "2       0  ...         0         0         0         0         0         0   \n",
       "3       0  ...         0         0         0         0         0         0   \n",
       "4       0  ...         0         0         0         0         0         0   \n",
       "\n",
       "   pixel780  pixel781  pixel782  pixel783  \n",
       "0         0         0         0         0  \n",
       "1         0         0         0         0  \n",
       "2         0         0         0         0  \n",
       "3         0         0         0         0  \n",
       "4         0         0         0         0  \n",
       "\n",
       "[5 rows x 785 columns]"
      ]
     },
     "execution_count": 5,
     "metadata": {},
     "output_type": "execute_result"
    }
   ],
   "source": [
    "# Load the data\n",
    "\n",
    "data = pd.read_csv(\"../../data/processed/mnist.csv\")\n",
    "\n",
    "# first column is the target, the rest of the columns\n",
    "# are the pixels of the image\n",
    "\n",
    "# each row is 1 image\n",
    "data.head()"
   ]
  },
  {
   "cell_type": "code",
   "execution_count": 6,
   "metadata": {},
   "outputs": [
    {
     "data": {
      "text/plain": [
       "((37800, 784), (4200, 784))"
      ]
     },
     "execution_count": 6,
     "metadata": {},
     "output_type": "execute_result"
    }
   ],
   "source": [
    "# split dataset into a train and test set\n",
    "\n",
    "X_train, X_test, y_train, y_test = train_test_split(\n",
    "    data.drop(['label'], axis=1), # the images\n",
    "    data['label'], # the target\n",
    "    test_size = 0.1,\n",
    "    random_state=0)\n",
    "\n",
    "X_train.shape, X_test.shape"
   ]
  },
  {
   "cell_type": "code",
   "execution_count": 7,
   "metadata": {},
   "outputs": [
    {
     "data": {
      "text/plain": [
       "Text(0, 0.5, 'Number of images')"
      ]
     },
     "execution_count": 7,
     "metadata": {},
     "output_type": "execute_result"
    },
    {
     "data": {
      "image/png": "[encoded data removed]",
      "text/plain": [
       "<Figure size 432x288 with 1 Axes>"
      ]
     },
     "metadata": {
      "needs_background": "light"
     },
     "output_type": "display_data"
    }
   ],
   "source": [
    "# number of images for each digit\n",
    "\n",
    "g = sns.countplot(x=y_train)\n",
    "plt.xlabel('Digits')\n",
    "plt.ylabel('Number of images')"
   ]
  },
  {
   "cell_type": "markdown",
   "metadata": {},
   "source": [
    "### Image re-scaling"
   ]
  },
  {
   "cell_type": "markdown",
   "metadata": {},
   "source": [
    "We re-scale data for the CNN, between 0 and 1."
   ]
  },
  {
   "cell_type": "code",
   "execution_count": 8,
   "metadata": {},
   "outputs": [],
   "source": [
    "# Re-scale the data\n",
    "\n",
    "# 255 is the maximum value a pixel can take\n",
    "\n",
    "X_train = X_train / 255\n",
    "X_test = X_test / 255"
   ]
  },
  {
   "cell_type": "markdown",
   "metadata": {},
   "source": [
    "### Reshape"
   ]
  },
  {
   "cell_type": "markdown",
   "metadata": {},
   "source": [
    "The images were stored in a pandas dataframe as 1-D vectors of 784 values. For a CNN with Keras, we need tensors with the following dimensions: width x height x channel.\n",
    "\n",
    "Thus, we reshape all data to 28 x 2 8 x 1, 3-D matrices.\n",
    "\n",
    "The 3rd dimension corresponds to the channel. RGB images have 3 channels. MNIST images are in gray-scale, thus they have only one channel in the 3rd dimension."
   ]
  },
  {
   "cell_type": "code",
   "execution_count": 9,
   "metadata": {},
   "outputs": [],
   "source": [
    "# Reshape image in 3 dimensions:\n",
    "# height: 28px X width: 28px X channel: 1 \n",
    "\n",
    "X_train = X_train.values.reshape(-1,28,28,1)\n",
    "X_test = X_test.values.reshape(-1,28,28,1)"
   ]
  },
  {
   "cell_type": "markdown",
   "metadata": {},
   "source": [
    "### Target encoding"
   ]
  },
  {
   "cell_type": "code",
   "execution_count": 10,
   "metadata": {},
   "outputs": [
    {
     "data": {
      "text/plain": [
       "array([2, 0, 7, 4, 3, 5, 9, 6, 8, 1])"
      ]
     },
     "execution_count": 10,
     "metadata": {},
     "output_type": "execute_result"
    }
   ],
   "source": [
    "# the target is 1 variable with the 9 different digits\n",
    "# as values\n",
    "\n",
    "y_train.unique()"
   ]
  },
  {
   "cell_type": "code",
   "execution_count": 11,
   "metadata": {},
   "outputs": [
    {
     "data": {
      "text/plain": [
       "array([[0., 0., 1., ..., 0., 0., 0.],\n",
       "       [0., 0., 1., ..., 0., 0., 0.],\n",
       "       [1., 0., 0., ..., 0., 0., 0.],\n",
       "       ...,\n",
       "       [0., 0., 0., ..., 0., 0., 1.],\n",
       "       [1., 0., 0., ..., 0., 0., 0.],\n",
       "       [0., 0., 0., ..., 0., 0., 1.]], dtype=float32)"
      ]
     },
     "execution_count": 11,
     "metadata": {},
     "output_type": "execute_result"
    }
   ],
   "source": [
    "# For Keras, we need to create 10 dummy variables,\n",
    "# one for each digit\n",
    "\n",
    "# Encode labels to one hot vectors (ex : digit 2 -> [0,0,1,0,0,0,0,0,0,0])\n",
    "\n",
    "y_train = to_categorical(y_train, num_classes = 10)\n",
    "y_test = to_categorical(y_test, num_classes = 10)\n",
    "\n",
    "# the new target\n",
    "y_train"
   ]
  },
  {
   "cell_type": "code",
   "execution_count": 12,
   "metadata": {},
   "outputs": [
    {
     "data": {
      "image/png": "[encoded data removed]",
      "text/plain": [
       "<Figure size 432x288 with 1 Axes>"
      ]
     },
     "metadata": {
      "needs_background": "light"
     },
     "output_type": "display_data"
    }
   ],
   "source": [
    "# Some image examples \n",
    "\n",
    "g = plt.imshow(X_train[0][:,:,0])"
   ]
  },
  {
   "cell_type": "code",
   "execution_count": 13,
   "metadata": {},
   "outputs": [
    {
     "data": {
      "image/png": "[encoded data removed]",
      "text/plain": [
       "<Figure size 432x288 with 1 Axes>"
      ]
     },
     "metadata": {
      "needs_background": "light"
     },
     "output_type": "display_data"
    }
   ],
   "source": [
    "# Some image examples \n",
    "\n",
    "g = plt.imshow(X_train[10][:,:,0])"
   ]
  },
  {
   "cell_type": "markdown",
   "metadata": {},
   "source": [
    "## Define the CNN"
   ]
  },
  {
   "cell_type": "markdown",
   "metadata": {},
   "source": [
    "We will create a CNN, with 2 Convolutional layers followed by Pooling, and varying number of fully-connected Dense layers.\n",
    "\n",
    "In fact, the number of fully-connected Dense layers and the number of Neurons in each one of the Dense layers, are some of the hyperparameters we want to optimize.\n",
    "\n",
    "We could also optimize the number of Convolutional layers. But we will keep that for later, and here we keep it a bit simpler."
   ]
  },
  {
   "cell_type": "code",
   "execution_count": 14,
   "metadata": {},
   "outputs": [],
   "source": [
    "# function to create the CNN\n",
    "\n",
    "def create_cnn(\n",
    "    learning_rate,\n",
    "    num_dense_layers,\n",
    "    num_dense_nodes,\n",
    "    activation,\n",
    "):\n",
    "    \"\"\"\n",
    "    Hyper-parameters:\n",
    "    learning_rate:     Learning-rate for the optimizer.\n",
    "    num_dense_layers:  Number of dense layers.\n",
    "    num_dense_nodes:   Number of nodes in each dense layer.\n",
    "    activation:        Activation function for all layers.\n",
    "    \"\"\"\n",
    "\n",
    "    # Start construction of a Keras Sequential model.\n",
    "    model = Sequential()\n",
    "\n",
    "    # First convolutional layer.\n",
    "    # There are many hyper-parameters in this layer\n",
    "    # For this demo, we will optimize the activation function only.\n",
    "    model.add(Conv2D(kernel_size=5, strides=1, filters=16, padding='same',\n",
    "                     activation=activation, name='layer_conv1'))\n",
    "    model.add(MaxPool2D(pool_size=2, strides=2))\n",
    "\n",
    "    # Second convolutional layer.\n",
    "    # Again, we will only optimize the activation function.\n",
    "    model.add(Conv2D(kernel_size=5, strides=1, filters=36, padding='same',\n",
    "                     activation=activation, name='layer_conv2'))\n",
    "    model.add(MaxPool2D(pool_size=2, strides=2))\n",
    "\n",
    "    # Flatten the 4-rank output of the convolutional layers\n",
    "    # to 2-rank that can be input to a fully-connected Dense layer.\n",
    "    model.add(Flatten())\n",
    "\n",
    "    # Add fully-connected Dense layers.\n",
    "    # The number of layers is a hyper-parameter we want to optimize.\n",
    "    # We add the different number of layers in the following loop:\n",
    "    \n",
    "    for i in range(num_dense_layers):\n",
    "        \n",
    "        # Add the dense fully-connected layer to the model.\n",
    "        # This has two hyper-parameters we want to optimize:\n",
    "        # The number of nodes (neurons) and the activation function.\n",
    "        model.add(Dense(num_dense_nodes,\n",
    "                        activation=activation,\n",
    "                        ))\n",
    "\n",
    "    # Last fully-connected dense layer with softmax-activation\n",
    "    # for use in classification.\n",
    "    model.add(Dense(10, activation='softmax'))\n",
    "\n",
    "    # Use the Adam method for training the network.\n",
    "    # We want to find the best learning-rate for the Adam method.\n",
    "    optimizer = Adam(lr=learning_rate)\n",
    "\n",
    "    # In Keras we need to compile the model so it can be trained.\n",
    "    model.compile(optimizer=optimizer,\n",
    "                  loss='categorical_crossentropy',\n",
    "                  metrics=['accuracy'])\n",
    "\n",
    "    return model"
   ]
  },
  {
   "cell_type": "markdown",
   "metadata": {},
   "source": [
    "## Define the Hyperparameter Space"
   ]
  },
  {
   "cell_type": "markdown",
   "metadata": {},
   "source": [
    "Scikit-optimize provides an utility function to create the range of values to examine for each hyperparameters. More details in skopt.Space\n",
    "\n",
    "We want to find the following hyper-parameters:\n",
    "\n",
    "* The learning rate of the optimizer.\n",
    "* The number of fully-connected Dense layers.\n",
    "* The number of nodes (neurons) for each of the dense layers.\n",
    "* Whether to use 'sigmoid' or 'relu' activation in all the layers."
   ]
  },
  {
   "cell_type": "code",
   "execution_count": 15,
   "metadata": {},
   "outputs": [],
   "source": [
    "dim_learning_rate = Real(\n",
    "    low=1e-6, high=1e-2, prior='log-uniform', name='learning_rate',\n",
    ")\n",
    "\n",
    "dim_num_dense_layers = Integer(low=1, high=5, name='num_dense_layers')\n",
    "\n",
    "dim_num_dense_nodes = Integer(low=5, high=512, name='num_dense_nodes')\n",
    "\n",
    "\n",
    "dim_activation = Categorical(\n",
    "    categories=['relu', 'sigmoid'], name='activation',\n",
    ")"
   ]
  },
  {
   "cell_type": "code",
   "execution_count": 16,
   "metadata": {},
   "outputs": [],
   "source": [
    "# the hyperparameter space grid\n",
    "\n",
    "param_grid = [dim_learning_rate,\n",
    "              dim_num_dense_layers,\n",
    "              dim_num_dense_nodes,\n",
    "              dim_activation]"
   ]
  },
  {
   "cell_type": "markdown",
   "metadata": {},
   "source": [
    "## Define the Objective Function"
   ]
  },
  {
   "cell_type": "code",
   "execution_count": 17,
   "metadata": {},
   "outputs": [],
   "source": [
    "# we will save the model with this name\n",
    "path_best_model = 'cnn_model.h5'\n",
    "\n",
    "# starting point for the optimization\n",
    "best_accuracy = 0"
   ]
  },
  {
   "cell_type": "code",
   "execution_count": 18,
   "metadata": {},
   "outputs": [],
   "source": [
    "@use_named_args(param_grid)\n",
    "def objective(\n",
    "    learning_rate,\n",
    "    num_dense_layers,\n",
    "    num_dense_nodes,\n",
    "    activation,\n",
    "):\n",
    "    \n",
    "    \"\"\"\n",
    "    Hyper-parameters:\n",
    "    learning_rate:     Learning-rate for the optimizer.\n",
    "    num_dense_layers:  Number of dense layers.\n",
    "    num_dense_nodes:   Number of nodes in each dense layer.\n",
    "    activation:        Activation function for all layers.\n",
    "    \"\"\"\n",
    "\n",
    "    # Print the hyper-parameters.\n",
    "    print('learning rate: {0:.1e}'.format(learning_rate))\n",
    "    print('num_dense_layers:', num_dense_layers)\n",
    "    print('num_dense_nodes:', num_dense_nodes)\n",
    "    print('activation:', activation)\n",
    "    print()\n",
    "    \n",
    "    # Create the neural network with the hyper-parameters.\n",
    "    # We call the function we created previously.\n",
    "    model = create_cnn(learning_rate=learning_rate,\n",
    "                       num_dense_layers=num_dense_layers,\n",
    "                       num_dense_nodes=num_dense_nodes,\n",
    "                       activation=activation)\n",
    "\n",
    "   \n",
    "    # Set a learning rate annealer\n",
    "    # this reduces the learning rate if learning does not improve\n",
    "    # for a certain number of epochs\n",
    "    learning_rate_reduction = ReduceLROnPlateau(monitor='val_accuracy', \n",
    "                                                patience=2, \n",
    "                                                verbose=1, \n",
    "                                                factor=0.5, \n",
    "                                                min_lr=0.00001)\n",
    "   \n",
    "    # train the model\n",
    "    # we use 3 epochs to be able to run the notebook in a \"reasonable\"\n",
    "    # time. If we increase the epochs, we will have better performance\n",
    "    # this could be another parameter to optimize in fact.\n",
    "    history = model.fit(x=X_train,\n",
    "                        y=y_train,\n",
    "                        epochs=3,\n",
    "                        batch_size=128,\n",
    "                        validation_split=0.1,\n",
    "                        callbacks=learning_rate_reduction)\n",
    "\n",
    "    # Get the classification accuracy on the validation-set\n",
    "    # after the last training-epoch.\n",
    "    accuracy = history.history['val_accuracy'][-1]\n",
    "\n",
    "    # Print the classification accuracy.\n",
    "    print()\n",
    "    print(\"Accuracy: {0:.2%}\".format(accuracy))\n",
    "    print()\n",
    "\n",
    "    # Save the model if it improves on the best-found performance.\n",
    "    # We use the global keyword so we update the variable outside\n",
    "    # of this function.\n",
    "    global best_accuracy\n",
    "\n",
    "    # If the classification accuracy of the saved model is improved ...\n",
    "    if accuracy > best_accuracy:\n",
    "        # Save the new model to harddisk.\n",
    "        # Training CNNs is costly, so we want to avoid having to re-train\n",
    "        # the network with the best found parameters. We save it instead\n",
    "        # as we search for the best hyperparam space.\n",
    "        model.save(path_best_model)\n",
    "        \n",
    "        # Update the classification accuracy.\n",
    "        best_accuracy = accuracy\n",
    "\n",
    "    # Delete the Keras model with these hyper-parameters from memory.\n",
    "    del model\n",
    "\n",
    "    \n",
    "    # Remember that Scikit-optimize always minimizes the objective\n",
    "    # function, so we need to negate the accuracy (because we want\n",
    "    # the maximum accuracy)\n",
    "    return -accuracy"
   ]
  },
  {
   "cell_type": "markdown",
   "metadata": {},
   "source": [
    "### Test run"
   ]
  },
  {
   "cell_type": "code",
   "execution_count": 19,
   "metadata": {},
   "outputs": [
    {
     "name": "stdout",
     "output_type": "stream",
     "text": [
      "learning rate: 1.0e-05\n",
      "num_dense_layers: 1\n",
      "num_dense_nodes: 16\n",
      "activation: relu\n",
      "\n"
     ]
    },
    {
     "name": "stderr",
     "output_type": "stream",
     "text": [
      "2022-10-06 05:33:07.854509: I tensorflow/core/platform/cpu_feature_guard.cc:151] This TensorFlow binary is optimized with oneAPI Deep Neural Network Library (oneDNN) to use the following CPU instructions in performance-critical operations:  SSE4.1 SSE4.2 AVX AVX2 AVX512F FMA\n",
      "To enable them in other operations, rebuild TensorFlow with the appropriate compiler flags.\n",
      "/home/santiago/anaconda3/envs/hyperparameter_optimization_for_machine_learning/lib/python3.9/site-packages/keras/optimizer_v2/adam.py:105: UserWarning: The `lr` argument is deprecated, use `learning_rate` instead.\n",
      "  super(Adam, self).__init__(name, **kwargs)\n"
     ]
    },
    {
     "name": "stdout",
     "output_type": "stream",
     "text": [
      "Epoch 1/3\n",
      "266/266 [==============================] - 34s 124ms/step - loss: 2.2653 - accuracy: 0.1880 - val_loss: 2.2053 - val_accuracy: 0.2749 - lr: 1.0000e-05\n",
      "Epoch 2/3\n",
      "266/266 [==============================] - 37s 139ms/step - loss: 2.1167 - accuracy: 0.3492 - val_loss: 2.0078 - val_accuracy: 0.4048 - lr: 1.0000e-05\n",
      "Epoch 3/3\n",
      "266/266 [==============================] - 39s 146ms/step - loss: 1.8844 - accuracy: 0.4659 - val_loss: 1.7482 - val_accuracy: 0.5034 - lr: 1.0000e-05\n",
      "\n",
      "Accuracy: 50.34%\n",
      "\n"
     ]
    },
    {
     "data": {
      "text/plain": [
       "-0.5034391283988953"
      ]
     },
     "execution_count": 19,
     "metadata": {},
     "output_type": "execute_result"
    }
   ],
   "source": [
    "# Before we run the hyper-parameter optimization, \n",
    "# let's first check that the everything is working\n",
    "# by passing some default hyper-parameters.\n",
    "\n",
    "default_parameters = [1e-5, 1, 16, 'relu']\n",
    "\n",
    "objective(x=default_parameters)"
   ]
  },
  {
   "cell_type": "markdown",
   "metadata": {},
   "source": [
    "### Bayesian Optimization"
   ]
  },
  {
   "cell_type": "code",
   "execution_count": 20,
   "metadata": {},
   "outputs": [
    {
     "name": "stdout",
     "output_type": "stream",
     "text": [
      "learning rate: 1.0e-05\n",
      "num_dense_layers: 1\n",
      "num_dense_nodes: 16\n",
      "activation: relu\n",
      "\n",
      "Epoch 1/3\n",
      "266/266 [==============================] - 36s 133ms/step - loss: 2.2584 - accuracy: 0.1343 - val_loss: 2.2191 - val_accuracy: 0.1937 - lr: 1.0000e-05\n",
      "Epoch 2/3\n",
      "266/266 [==============================] - 37s 140ms/step - loss: 2.1581 - accuracy: 0.2688 - val_loss: 2.0888 - val_accuracy: 0.3537 - lr: 1.0000e-05\n",
      "Epoch 3/3\n",
      "266/266 [==============================] - 36s 135ms/step - loss: 1.9835 - accuracy: 0.4680 - val_loss: 1.8705 - val_accuracy: 0.5484 - lr: 1.0000e-05\n",
      "\n",
      "Accuracy: 54.84%\n",
      "\n",
      "learning rate: 2.4e-04\n",
      "num_dense_layers: 4\n",
      "num_dense_nodes: 440\n",
      "activation: sigmoid\n",
      "\n",
      "Epoch 1/3\n",
      "266/266 [==============================] - 32s 117ms/step - loss: 2.3108 - accuracy: 0.1030 - val_loss: 2.3105 - val_accuracy: 0.0960 - lr: 2.3517e-04\n",
      "Epoch 2/3\n",
      "266/266 [==============================] - 33s 124ms/step - loss: 1.6814 - accuracy: 0.4019 - val_loss: 0.8644 - val_accuracy: 0.7143 - lr: 2.3517e-04\n",
      "Epoch 3/3\n",
      "266/266 [==============================] - 30s 112ms/step - loss: 0.6913 - accuracy: 0.7738 - val_loss: 0.6071 - val_accuracy: 0.7905 - lr: 2.3517e-04\n",
      "\n",
      "Accuracy: 79.05%\n",
      "\n",
      "learning rate: 3.1e-04\n",
      "num_dense_layers: 3\n",
      "num_dense_nodes: 156\n",
      "activation: relu\n",
      "\n",
      "Epoch 1/3\n",
      "266/266 [==============================] - 29s 106ms/step - loss: 0.5289 - accuracy: 0.8470 - val_loss: 0.1950 - val_accuracy: 0.9439 - lr: 3.1207e-04\n",
      "Epoch 2/3\n",
      "266/266 [==============================] - 27s 103ms/step - loss: 0.1339 - accuracy: 0.9593 - val_loss: 0.1278 - val_accuracy: 0.9646 - lr: 3.1207e-04\n",
      "Epoch 3/3\n",
      "266/266 [==============================] - 29s 108ms/step - loss: 0.0856 - accuracy: 0.9742 - val_loss: 0.0853 - val_accuracy: 0.9767 - lr: 3.1207e-04\n",
      "\n",
      "Accuracy: 97.67%\n",
      "\n",
      "learning rate: 1.2e-05\n",
      "num_dense_layers: 3\n",
      "num_dense_nodes: 417\n",
      "activation: relu\n",
      "\n",
      "Epoch 1/3\n",
      "266/266 [==============================] - 31s 114ms/step - loss: 1.9705 - accuracy: 0.5069 - val_loss: 1.3362 - val_accuracy: 0.7418 - lr: 1.2320e-05\n",
      "Epoch 2/3\n",
      "266/266 [==============================] - 33s 124ms/step - loss: 0.8049 - accuracy: 0.8258 - val_loss: 0.5495 - val_accuracy: 0.8532 - lr: 1.2320e-05\n",
      "Epoch 3/3\n",
      "266/266 [==============================] - 40s 151ms/step - loss: 0.4327 - accuracy: 0.8864 - val_loss: 0.3846 - val_accuracy: 0.8897 - lr: 1.2320e-05\n",
      "\n",
      "Accuracy: 88.97%\n",
      "\n",
      "learning rate: 3.7e-05\n",
      "num_dense_layers: 4\n",
      "num_dense_nodes: 176\n",
      "activation: sigmoid\n",
      "\n",
      "Epoch 1/3\n",
      "266/266 [==============================] - 29s 103ms/step - loss: 2.3056 - accuracy: 0.1087 - val_loss: 2.3003 - val_accuracy: 0.1146 - lr: 3.7251e-05\n",
      "Epoch 2/3\n",
      "266/266 [==============================] - 24s 91ms/step - loss: 2.3020 - accuracy: 0.1105 - val_loss: 2.3011 - val_accuracy: 0.1146 - lr: 3.7251e-05\n",
      "Epoch 3/3\n",
      "266/266 [==============================] - ETA: 0s - loss: 2.3019 - accuracy: 0.1115\n",
      "Epoch 00003: ReduceLROnPlateau reducing learning rate to 1.862555291154422e-05.\n",
      "266/266 [==============================] - 28s 104ms/step - loss: 2.3019 - accuracy: 0.1115 - val_loss: 2.3014 - val_accuracy: 0.0997 - lr: 3.7251e-05\n",
      "\n",
      "Accuracy: 9.97%\n",
      "\n",
      "learning rate: 3.0e-05\n",
      "num_dense_layers: 5\n",
      "num_dense_nodes: 76\n",
      "activation: sigmoid\n",
      "\n",
      "Epoch 1/3\n",
      "266/266 [==============================] - 24s 87ms/step - loss: 2.3679 - accuracy: 0.0979 - val_loss: 2.3160 - val_accuracy: 0.1045 - lr: 2.9714e-05\n",
      "Epoch 2/3\n",
      "266/266 [==============================] - 20s 76ms/step - loss: 2.3081 - accuracy: 0.1003 - val_loss: 2.3012 - val_accuracy: 0.1146 - lr: 2.9714e-05\n",
      "Epoch 3/3\n",
      "266/266 [==============================] - 21s 77ms/step - loss: 2.3018 - accuracy: 0.1111 - val_loss: 2.3004 - val_accuracy: 0.1146 - lr: 2.9714e-05\n",
      "\n",
      "Accuracy: 11.46%\n",
      "\n",
      "learning rate: 7.8e-05\n",
      "num_dense_layers: 4\n",
      "num_dense_nodes: 269\n",
      "activation: sigmoid\n",
      "\n",
      "Epoch 1/3\n",
      "266/266 [==============================] - 25s 91ms/step - loss: 2.3161 - accuracy: 0.1053 - val_loss: 2.3033 - val_accuracy: 0.1146 - lr: 7.8421e-05\n",
      "Epoch 2/3\n",
      "266/266 [==============================] - 23s 86ms/step - loss: 2.3036 - accuracy: 0.1051 - val_loss: 2.3019 - val_accuracy: 0.0937 - lr: 7.8421e-05\n",
      "Epoch 3/3\n",
      "266/266 [==============================] - ETA: 0s - loss: 2.3032 - accuracy: 0.1058\n",
      "Epoch 00003: ReduceLROnPlateau reducing learning rate to 3.9210481190821156e-05.\n",
      "266/266 [==============================] - 23s 87ms/step - loss: 2.3032 - accuracy: 0.1058 - val_loss: 2.3023 - val_accuracy: 0.1146 - lr: 7.8421e-05\n",
      "\n",
      "Accuracy: 11.46%\n",
      "\n",
      "learning rate: 7.6e-04\n",
      "num_dense_layers: 3\n",
      "num_dense_nodes: 277\n",
      "activation: sigmoid\n",
      "\n",
      "Epoch 1/3\n",
      "266/266 [==============================] - 23s 85ms/step - loss: 2.2369 - accuracy: 0.1550 - val_loss: 1.3573 - val_accuracy: 0.5852 - lr: 7.6301e-04\n",
      "Epoch 2/3\n",
      "266/266 [==============================] - 22s 82ms/step - loss: 0.5984 - accuracy: 0.8177 - val_loss: 0.3293 - val_accuracy: 0.9021 - lr: 7.6301e-04\n",
      "Epoch 3/3\n",
      "266/266 [==============================] - 24s 89ms/step - loss: 0.2400 - accuracy: 0.9265 - val_loss: 0.2149 - val_accuracy: 0.9362 - lr: 7.6301e-04\n",
      "\n",
      "Accuracy: 93.62%\n",
      "\n",
      "learning rate: 2.7e-06\n",
      "num_dense_layers: 3\n",
      "num_dense_nodes: 99\n",
      "activation: sigmoid\n",
      "\n",
      "Epoch 1/3\n",
      "266/266 [==============================] - 22s 80ms/step - loss: 2.4584 - accuracy: 0.0907 - val_loss: 2.4416 - val_accuracy: 0.0868 - lr: 2.6523e-06\n",
      "Epoch 2/3\n",
      "266/266 [==============================] - 24s 90ms/step - loss: 2.4209 - accuracy: 0.0907 - val_loss: 2.4093 - val_accuracy: 0.0868 - lr: 2.6523e-06\n",
      "Epoch 3/3\n",
      "266/266 [==============================] - 22s 84ms/step - loss: 2.3932 - accuracy: 0.0907 - val_loss: 2.3853 - val_accuracy: 0.0868 - lr: 2.6523e-06\n",
      "\n",
      "Accuracy: 8.68%\n",
      "\n",
      "learning rate: 7.3e-06\n",
      "num_dense_layers: 2\n",
      "num_dense_nodes: 169\n",
      "activation: relu\n",
      "\n",
      "Epoch 1/3\n",
      "266/266 [==============================] - 22s 83ms/step - loss: 2.2165 - accuracy: 0.3333 - val_loss: 2.1126 - val_accuracy: 0.5040 - lr: 7.3485e-06\n",
      "Epoch 2/3\n",
      "266/266 [==============================] - 22s 83ms/step - loss: 1.9236 - accuracy: 0.6125 - val_loss: 1.7040 - val_accuracy: 0.7093 - lr: 7.3485e-06\n",
      "Epoch 3/3\n",
      "266/266 [==============================] - 22s 82ms/step - loss: 1.4308 - accuracy: 0.7729 - val_loss: 1.1859 - val_accuracy: 0.7905 - lr: 7.3485e-06\n",
      "\n",
      "Accuracy: 79.05%\n",
      "\n",
      "learning rate: 7.7e-06\n",
      "num_dense_layers: 3\n",
      "num_dense_nodes: 463\n",
      "activation: relu\n",
      "\n",
      "Epoch 1/3\n",
      "266/266 [==============================] - 24s 87ms/step - loss: 2.1814 - accuracy: 0.5749 - val_loss: 1.9451 - val_accuracy: 0.7542 - lr: 7.7497e-06\n",
      "Epoch 2/3\n",
      "266/266 [==============================] - 23s 87ms/step - loss: 1.4262 - accuracy: 0.7841 - val_loss: 0.9592 - val_accuracy: 0.7995 - lr: 7.7497e-06\n",
      "Epoch 3/3\n",
      "266/266 [==============================] - 25s 94ms/step - loss: 0.7239 - accuracy: 0.8374 - val_loss: 0.5933 - val_accuracy: 0.8434 - lr: 7.7497e-06\n",
      "\n",
      "Accuracy: 84.34%\n",
      "\n",
      "learning rate: 7.8e-04\n",
      "num_dense_layers: 4\n",
      "num_dense_nodes: 512\n",
      "activation: sigmoid\n",
      "\n"
     ]
    },
    {
     "name": "stderr",
     "output_type": "stream",
     "text": [
      "/home/santiago/anaconda3/envs/hyperparameter_optimization_for_machine_learning/lib/python3.9/site-packages/keras/optimizer_v2/adam.py:105: UserWarning: The `lr` argument is deprecated, use `learning_rate` instead.\n",
      "  super(Adam, self).__init__(name, **kwargs)\n"
     ]
    },
    {
     "name": "stdout",
     "output_type": "stream",
     "text": [
      "Epoch 1/3\n",
      "266/266 [==============================] - 25s 93ms/step - loss: 2.3125 - accuracy: 0.1148 - val_loss: 2.0141 - val_accuracy: 0.3521 - lr: 7.7830e-04\n",
      "Epoch 2/3\n",
      "266/266 [==============================] - 24s 89ms/step - loss: 0.7165 - accuracy: 0.7640 - val_loss: 0.4549 - val_accuracy: 0.8606 - lr: 7.7830e-04\n",
      "Epoch 3/3\n",
      "266/266 [==============================] - 25s 93ms/step - loss: 0.2917 - accuracy: 0.9091 - val_loss: 0.2308 - val_accuracy: 0.9304 - lr: 7.7830e-04\n",
      "\n",
      "Accuracy: 93.04%\n",
      "\n",
      "learning rate: 8.0e-05\n",
      "num_dense_layers: 5\n",
      "num_dense_nodes: 477\n",
      "activation: relu\n",
      "\n"
     ]
    },
    {
     "name": "stderr",
     "output_type": "stream",
     "text": [
      "/home/santiago/anaconda3/envs/hyperparameter_optimization_for_machine_learning/lib/python3.9/site-packages/keras/optimizer_v2/adam.py:105: UserWarning: The `lr` argument is deprecated, use `learning_rate` instead.\n",
      "  super(Adam, self).__init__(name, **kwargs)\n"
     ]
    },
    {
     "name": "stdout",
     "output_type": "stream",
     "text": [
      "Epoch 1/3\n",
      "266/266 [==============================] - 23s 87ms/step - loss: 0.6860 - accuracy: 0.8107 - val_loss: 0.2357 - val_accuracy: 0.9214 - lr: 8.0056e-05\n",
      "Epoch 2/3\n",
      "266/266 [==============================] - 25s 93ms/step - loss: 0.1712 - accuracy: 0.9462 - val_loss: 0.1383 - val_accuracy: 0.9608 - lr: 8.0056e-05\n",
      "Epoch 3/3\n",
      "266/266 [==============================] - 23s 87ms/step - loss: 0.1089 - accuracy: 0.9661 - val_loss: 0.1165 - val_accuracy: 0.9669 - lr: 8.0056e-05\n",
      "\n",
      "Accuracy: 96.69%\n",
      "\n",
      "learning rate: 3.4e-04\n",
      "num_dense_layers: 2\n",
      "num_dense_nodes: 464\n",
      "activation: relu\n",
      "\n"
     ]
    },
    {
     "name": "stderr",
     "output_type": "stream",
     "text": [
      "/home/santiago/anaconda3/envs/hyperparameter_optimization_for_machine_learning/lib/python3.9/site-packages/keras/optimizer_v2/adam.py:105: UserWarning: The `lr` argument is deprecated, use `learning_rate` instead.\n",
      "  super(Adam, self).__init__(name, **kwargs)\n"
     ]
    },
    {
     "name": "stdout",
     "output_type": "stream",
     "text": [
      "Epoch 1/3\n",
      "266/266 [==============================] - 21s 79ms/step - loss: 0.3799 - accuracy: 0.8912 - val_loss: 0.1359 - val_accuracy: 0.9619 - lr: 3.3537e-04\n",
      "Epoch 2/3\n",
      "266/266 [==============================] - 22s 83ms/step - loss: 0.0950 - accuracy: 0.9705 - val_loss: 0.0990 - val_accuracy: 0.9685 - lr: 3.3537e-04\n",
      "Epoch 3/3\n",
      "266/266 [==============================] - 20s 75ms/step - loss: 0.0643 - accuracy: 0.9795 - val_loss: 0.0721 - val_accuracy: 0.9786 - lr: 3.3537e-04\n",
      "\n",
      "Accuracy: 97.86%\n",
      "\n",
      "learning rate: 2.1e-05\n",
      "num_dense_layers: 5\n",
      "num_dense_nodes: 423\n",
      "activation: relu\n",
      "\n"
     ]
    },
    {
     "name": "stderr",
     "output_type": "stream",
     "text": [
      "/home/santiago/anaconda3/envs/hyperparameter_optimization_for_machine_learning/lib/python3.9/site-packages/keras/optimizer_v2/adam.py:105: UserWarning: The `lr` argument is deprecated, use `learning_rate` instead.\n",
      "  super(Adam, self).__init__(name, **kwargs)\n"
     ]
    },
    {
     "name": "stdout",
     "output_type": "stream",
     "text": [
      "Epoch 1/3\n",
      "266/266 [==============================] - 22s 82ms/step - loss: 1.4623 - accuracy: 0.6182 - val_loss: 0.5714 - val_accuracy: 0.8233 - lr: 2.1015e-05\n",
      "Epoch 2/3\n",
      "266/266 [==============================] - 23s 87ms/step - loss: 0.4102 - accuracy: 0.8790 - val_loss: 0.3407 - val_accuracy: 0.8952 - lr: 2.1015e-05\n",
      "Epoch 3/3\n",
      "266/266 [==============================] - 22s 81ms/step - loss: 0.2808 - accuracy: 0.9149 - val_loss: 0.2577 - val_accuracy: 0.9241 - lr: 2.1015e-05\n",
      "\n",
      "Accuracy: 92.41%\n",
      "\n",
      "learning rate: 6.7e-04\n",
      "num_dense_layers: 4\n",
      "num_dense_nodes: 318\n",
      "activation: relu\n",
      "\n",
      "Epoch 1/3\n"
     ]
    },
    {
     "name": "stderr",
     "output_type": "stream",
     "text": [
      "/home/santiago/anaconda3/envs/hyperparameter_optimization_for_machine_learning/lib/python3.9/site-packages/keras/optimizer_v2/adam.py:105: UserWarning: The `lr` argument is deprecated, use `learning_rate` instead.\n",
      "  super(Adam, self).__init__(name, **kwargs)\n"
     ]
    },
    {
     "name": "stdout",
     "output_type": "stream",
     "text": [
      "266/266 [==============================] - 22s 82ms/step - loss: 0.3106 - accuracy: 0.9001 - val_loss: 0.1119 - val_accuracy: 0.9690 - lr: 6.7159e-04\n",
      "Epoch 2/3\n",
      "266/266 [==============================] - 22s 82ms/step - loss: 0.0720 - accuracy: 0.9780 - val_loss: 0.0619 - val_accuracy: 0.9817 - lr: 6.7159e-04\n",
      "Epoch 3/3\n",
      "266/266 [==============================] - 20s 73ms/step - loss: 0.0488 - accuracy: 0.9838 - val_loss: 0.0548 - val_accuracy: 0.9860 - lr: 6.7159e-04\n",
      "\n",
      "Accuracy: 98.60%\n",
      "\n",
      "learning rate: 1.6e-03\n",
      "num_dense_layers: 4\n",
      "num_dense_nodes: 335\n",
      "activation: sigmoid\n",
      "\n"
     ]
    },
    {
     "name": "stderr",
     "output_type": "stream",
     "text": [
      "/home/santiago/anaconda3/envs/hyperparameter_optimization_for_machine_learning/lib/python3.9/site-packages/keras/optimizer_v2/adam.py:105: UserWarning: The `lr` argument is deprecated, use `learning_rate` instead.\n",
      "  super(Adam, self).__init__(name, **kwargs)\n"
     ]
    },
    {
     "name": "stdout",
     "output_type": "stream",
     "text": [
      "Epoch 1/3\n",
      "266/266 [==============================] - 21s 78ms/step - loss: 2.2105 - accuracy: 0.1394 - val_loss: 1.7051 - val_accuracy: 0.3212 - lr: 0.0016\n",
      "Epoch 2/3\n",
      "266/266 [==============================] - 22s 83ms/step - loss: 1.1051 - accuracy: 0.5788 - val_loss: 0.5345 - val_accuracy: 0.8317 - lr: 0.0016\n",
      "Epoch 3/3\n",
      "266/266 [==============================] - 21s 77ms/step - loss: 0.3670 - accuracy: 0.8860 - val_loss: 0.2769 - val_accuracy: 0.9167 - lr: 0.0016\n",
      "\n",
      "Accuracy: 91.67%\n",
      "\n",
      "learning rate: 2.3e-03\n",
      "num_dense_layers: 2\n",
      "num_dense_nodes: 5\n",
      "activation: relu\n",
      "\n"
     ]
    },
    {
     "name": "stderr",
     "output_type": "stream",
     "text": [
      "/home/santiago/anaconda3/envs/hyperparameter_optimization_for_machine_learning/lib/python3.9/site-packages/keras/optimizer_v2/adam.py:105: UserWarning: The `lr` argument is deprecated, use `learning_rate` instead.\n",
      "  super(Adam, self).__init__(name, **kwargs)\n"
     ]
    },
    {
     "name": "stdout",
     "output_type": "stream",
     "text": [
      "Epoch 1/3\n",
      "266/266 [==============================] - 18s 68ms/step - loss: 1.1875 - accuracy: 0.5442 - val_loss: 0.7144 - val_accuracy: 0.7489 - lr: 0.0023\n",
      "Epoch 2/3\n",
      "266/266 [==============================] - 17s 65ms/step - loss: 0.4498 - accuracy: 0.8632 - val_loss: 0.3377 - val_accuracy: 0.9172 - lr: 0.0023\n",
      "Epoch 3/3\n",
      "266/266 [==============================] - 18s 70ms/step - loss: 0.2537 - accuracy: 0.9347 - val_loss: 0.2200 - val_accuracy: 0.9386 - lr: 0.0023\n",
      "\n",
      "Accuracy: 93.86%\n",
      "\n",
      "learning rate: 1.0e-03\n",
      "num_dense_layers: 1\n",
      "num_dense_nodes: 338\n",
      "activation: relu\n",
      "\n",
      "Epoch 1/3\n"
     ]
    },
    {
     "name": "stderr",
     "output_type": "stream",
     "text": [
      "/home/santiago/anaconda3/envs/hyperparameter_optimization_for_machine_learning/lib/python3.9/site-packages/keras/optimizer_v2/adam.py:105: UserWarning: The `lr` argument is deprecated, use `learning_rate` instead.\n",
      "  super(Adam, self).__init__(name, **kwargs)\n"
     ]
    },
    {
     "name": "stdout",
     "output_type": "stream",
     "text": [
      "266/266 [==============================] - 19s 70ms/step - loss: 0.2517 - accuracy: 0.9230 - val_loss: 0.1070 - val_accuracy: 0.9701 - lr: 0.0010\n",
      "Epoch 2/3\n",
      "266/266 [==============================] - 19s 70ms/step - loss: 0.0642 - accuracy: 0.9796 - val_loss: 0.0735 - val_accuracy: 0.9767 - lr: 0.0010\n",
      "Epoch 3/3\n",
      "266/266 [==============================] - 20s 75ms/step - loss: 0.0419 - accuracy: 0.9870 - val_loss: 0.0542 - val_accuracy: 0.9847 - lr: 0.0010\n",
      "\n",
      "Accuracy: 98.47%\n",
      "\n",
      "learning rate: 1.0e-02\n",
      "num_dense_layers: 4\n",
      "num_dense_nodes: 389\n",
      "activation: relu\n",
      "\n"
     ]
    },
    {
     "name": "stderr",
     "output_type": "stream",
     "text": [
      "/home/santiago/anaconda3/envs/hyperparameter_optimization_for_machine_learning/lib/python3.9/site-packages/keras/optimizer_v2/adam.py:105: UserWarning: The `lr` argument is deprecated, use `learning_rate` instead.\n",
      "  super(Adam, self).__init__(name, **kwargs)\n"
     ]
    },
    {
     "name": "stdout",
     "output_type": "stream",
     "text": [
      "Epoch 1/3\n",
      "266/266 [==============================] - 20s 73ms/step - loss: 2.3114 - accuracy: 0.1071 - val_loss: 2.3008 - val_accuracy: 0.1146 - lr: 0.0100\n",
      "Epoch 2/3\n",
      "266/266 [==============================] - 19s 73ms/step - loss: 2.3021 - accuracy: 0.1097 - val_loss: 2.3018 - val_accuracy: 0.1146 - lr: 0.0100\n",
      "Epoch 3/3\n",
      "266/266 [==============================] - ETA: 0s - loss: 2.3019 - accuracy: 0.1092\n",
      "Epoch 00003: ReduceLROnPlateau reducing learning rate to 0.004999999888241291.\n",
      "266/266 [==============================] - 21s 79ms/step - loss: 2.3019 - accuracy: 0.1092 - val_loss: 2.3013 - val_accuracy: 0.1146 - lr: 0.0100\n",
      "\n",
      "Accuracy: 11.46%\n",
      "\n",
      "learning rate: 1.0e-03\n",
      "num_dense_layers: 3\n",
      "num_dense_nodes: 55\n",
      "activation: relu\n",
      "\n",
      "Epoch 1/3\n"
     ]
    },
    {
     "name": "stderr",
     "output_type": "stream",
     "text": [
      "/home/santiago/anaconda3/envs/hyperparameter_optimization_for_machine_learning/lib/python3.9/site-packages/keras/optimizer_v2/adam.py:105: UserWarning: The `lr` argument is deprecated, use `learning_rate` instead.\n",
      "  super(Adam, self).__init__(name, **kwargs)\n"
     ]
    },
    {
     "name": "stdout",
     "output_type": "stream",
     "text": [
      "266/266 [==============================] - 18s 66ms/step - loss: 0.4459 - accuracy: 0.8626 - val_loss: 0.1365 - val_accuracy: 0.9611 - lr: 0.0010\n",
      "Epoch 2/3\n",
      "266/266 [==============================] - 18s 66ms/step - loss: 0.1029 - accuracy: 0.9688 - val_loss: 0.0875 - val_accuracy: 0.9746 - lr: 0.0010\n",
      "Epoch 3/3\n",
      "266/266 [==============================] - 17s 65ms/step - loss: 0.0649 - accuracy: 0.9804 - val_loss: 0.0769 - val_accuracy: 0.9794 - lr: 0.0010\n",
      "\n",
      "Accuracy: 97.94%\n",
      "\n",
      "learning rate: 6.9e-04\n",
      "num_dense_layers: 1\n",
      "num_dense_nodes: 391\n",
      "activation: relu\n",
      "\n",
      "Epoch 1/3\n"
     ]
    },
    {
     "name": "stderr",
     "output_type": "stream",
     "text": [
      "/home/santiago/anaconda3/envs/hyperparameter_optimization_for_machine_learning/lib/python3.9/site-packages/keras/optimizer_v2/adam.py:105: UserWarning: The `lr` argument is deprecated, use `learning_rate` instead.\n",
      "  super(Adam, self).__init__(name, **kwargs)\n"
     ]
    },
    {
     "name": "stdout",
     "output_type": "stream",
     "text": [
      "266/266 [==============================] - 21s 77ms/step - loss: 0.2987 - accuracy: 0.9119 - val_loss: 0.0960 - val_accuracy: 0.9690 - lr: 6.8510e-04\n",
      "Epoch 2/3\n",
      "266/266 [==============================] - 19s 71ms/step - loss: 0.0712 - accuracy: 0.9794 - val_loss: 0.0687 - val_accuracy: 0.9812 - lr: 6.8510e-04\n",
      "Epoch 3/3\n",
      "266/266 [==============================] - 19s 71ms/step - loss: 0.0498 - accuracy: 0.9846 - val_loss: 0.0622 - val_accuracy: 0.9836 - lr: 6.8510e-04\n",
      "\n",
      "Accuracy: 98.36%\n",
      "\n",
      "learning rate: 3.3e-03\n",
      "num_dense_layers: 1\n",
      "num_dense_nodes: 5\n",
      "activation: sigmoid\n",
      "\n"
     ]
    },
    {
     "name": "stderr",
     "output_type": "stream",
     "text": [
      "/home/santiago/anaconda3/envs/hyperparameter_optimization_for_machine_learning/lib/python3.9/site-packages/keras/optimizer_v2/adam.py:105: UserWarning: The `lr` argument is deprecated, use `learning_rate` instead.\n",
      "  super(Adam, self).__init__(name, **kwargs)\n"
     ]
    },
    {
     "name": "stdout",
     "output_type": "stream",
     "text": [
      "Epoch 1/3\n",
      "266/266 [==============================] - 20s 73ms/step - loss: 2.3027 - accuracy: 0.1099 - val_loss: 2.3007 - val_accuracy: 0.1146 - lr: 0.0033\n",
      "Epoch 2/3\n",
      "266/266 [==============================] - 19s 71ms/step - loss: 2.3015 - accuracy: 0.1111 - val_loss: 2.3011 - val_accuracy: 0.1146 - lr: 0.0033\n",
      "Epoch 3/3\n",
      "266/266 [==============================] - ETA: 0s - loss: 2.3015 - accuracy: 0.1111\n",
      "Epoch 00003: ReduceLROnPlateau reducing learning rate to 0.001663293456658721.\n",
      "266/266 [==============================] - 18s 67ms/step - loss: 2.3015 - accuracy: 0.1111 - val_loss: 2.3011 - val_accuracy: 0.1146 - lr: 0.0033\n",
      "\n",
      "Accuracy: 11.46%\n",
      "\n",
      "learning rate: 1.0e-06\n",
      "num_dense_layers: 5\n",
      "num_dense_nodes: 283\n",
      "activation: relu\n",
      "\n"
     ]
    },
    {
     "name": "stderr",
     "output_type": "stream",
     "text": [
      "/home/santiago/anaconda3/envs/hyperparameter_optimization_for_machine_learning/lib/python3.9/site-packages/keras/optimizer_v2/adam.py:105: UserWarning: The `lr` argument is deprecated, use `learning_rate` instead.\n",
      "  super(Adam, self).__init__(name, **kwargs)\n"
     ]
    },
    {
     "name": "stdout",
     "output_type": "stream",
     "text": [
      "Epoch 1/3\n",
      "266/266 [==============================] - 21s 77ms/step - loss: 2.2976 - accuracy: 0.1566 - val_loss: 2.2947 - val_accuracy: 0.1788 - lr: 1.0000e-06\n",
      "Epoch 2/3\n",
      "266/266 [==============================] - 21s 78ms/step - loss: 2.2898 - accuracy: 0.2472 - val_loss: 2.2858 - val_accuracy: 0.2817 - lr: 1.0000e-06\n",
      "Epoch 3/3\n",
      "266/266 [==============================] - 21s 78ms/step - loss: 2.2786 - accuracy: 0.3457 - val_loss: 2.2725 - val_accuracy: 0.3601 - lr: 1.0000e-06\n",
      "\n",
      "Accuracy: 36.01%\n",
      "\n",
      "learning rate: 9.3e-05\n",
      "num_dense_layers: 1\n",
      "num_dense_nodes: 284\n",
      "activation: relu\n",
      "\n"
     ]
    },
    {
     "name": "stderr",
     "output_type": "stream",
     "text": [
      "/home/santiago/anaconda3/envs/hyperparameter_optimization_for_machine_learning/lib/python3.9/site-packages/keras/optimizer_v2/adam.py:105: UserWarning: The `lr` argument is deprecated, use `learning_rate` instead.\n",
      "  super(Adam, self).__init__(name, **kwargs)\n"
     ]
    },
    {
     "name": "stdout",
     "output_type": "stream",
     "text": [
      "Epoch 1/3\n",
      "266/266 [==============================] - 19s 69ms/step - loss: 0.8782 - accuracy: 0.7821 - val_loss: 0.3392 - val_accuracy: 0.9026 - lr: 9.2698e-05\n",
      "Epoch 2/3\n",
      "266/266 [==============================] - 20s 75ms/step - loss: 0.2539 - accuracy: 0.9269 - val_loss: 0.2400 - val_accuracy: 0.9267 - lr: 9.2698e-05\n",
      "Epoch 3/3\n",
      "266/266 [==============================] - 18s 69ms/step - loss: 0.1800 - accuracy: 0.9470 - val_loss: 0.1848 - val_accuracy: 0.9468 - lr: 9.2698e-05\n",
      "\n",
      "Accuracy: 94.68%\n",
      "\n",
      "learning rate: 6.8e-04\n",
      "num_dense_layers: 1\n",
      "num_dense_nodes: 405\n",
      "activation: sigmoid\n",
      "\n",
      "Epoch 1/3\n"
     ]
    },
    {
     "name": "stderr",
     "output_type": "stream",
     "text": [
      "/home/santiago/anaconda3/envs/hyperparameter_optimization_for_machine_learning/lib/python3.9/site-packages/keras/optimizer_v2/adam.py:105: UserWarning: The `lr` argument is deprecated, use `learning_rate` instead.\n",
      "  super(Adam, self).__init__(name, **kwargs)\n"
     ]
    },
    {
     "name": "stdout",
     "output_type": "stream",
     "text": [
      "266/266 [==============================] - 20s 74ms/step - loss: 2.0620 - accuracy: 0.2565 - val_loss: 0.7813 - val_accuracy: 0.7714 - lr: 6.7958e-04\n",
      "Epoch 2/3\n",
      "266/266 [==============================] - 21s 79ms/step - loss: 0.4781 - accuracy: 0.8572 - val_loss: 0.3565 - val_accuracy: 0.8897 - lr: 6.7958e-04\n",
      "Epoch 3/3\n",
      "266/266 [==============================] - 19s 72ms/step - loss: 0.2838 - accuracy: 0.9136 - val_loss: 0.2555 - val_accuracy: 0.9217 - lr: 6.7958e-04\n",
      "\n",
      "Accuracy: 92.17%\n",
      "\n",
      "learning rate: 2.6e-03\n",
      "num_dense_layers: 5\n",
      "num_dense_nodes: 512\n",
      "activation: sigmoid\n",
      "\n"
     ]
    },
    {
     "name": "stderr",
     "output_type": "stream",
     "text": [
      "/home/santiago/anaconda3/envs/hyperparameter_optimization_for_machine_learning/lib/python3.9/site-packages/keras/optimizer_v2/adam.py:105: UserWarning: The `lr` argument is deprecated, use `learning_rate` instead.\n",
      "  super(Adam, self).__init__(name, **kwargs)\n"
     ]
    },
    {
     "name": "stdout",
     "output_type": "stream",
     "text": [
      "Epoch 1/3\n",
      "266/266 [==============================] - 24s 87ms/step - loss: 2.3489 - accuracy: 0.0986 - val_loss: 2.3213 - val_accuracy: 0.1037 - lr: 0.0026\n",
      "Epoch 2/3\n",
      "266/266 [==============================] - 25s 93ms/step - loss: 2.3198 - accuracy: 0.1016 - val_loss: 2.3049 - val_accuracy: 0.1146 - lr: 0.0026\n",
      "Epoch 3/3\n",
      "266/266 [==============================] - 23s 87ms/step - loss: 2.3021 - accuracy: 0.1090 - val_loss: 2.3011 - val_accuracy: 0.1146 - lr: 0.0026\n",
      "\n",
      "Accuracy: 11.46%\n",
      "\n",
      "learning rate: 1.2e-03\n",
      "num_dense_layers: 1\n",
      "num_dense_nodes: 5\n",
      "activation: sigmoid\n",
      "\n"
     ]
    },
    {
     "name": "stderr",
     "output_type": "stream",
     "text": [
      "/home/santiago/anaconda3/envs/hyperparameter_optimization_for_machine_learning/lib/python3.9/site-packages/keras/optimizer_v2/adam.py:105: UserWarning: The `lr` argument is deprecated, use `learning_rate` instead.\n",
      "  super(Adam, self).__init__(name, **kwargs)\n"
     ]
    },
    {
     "name": "stdout",
     "output_type": "stream",
     "text": [
      "Epoch 1/3\n",
      "266/266 [==============================] - 18s 67ms/step - loss: 2.3025 - accuracy: 0.1107 - val_loss: 2.3012 - val_accuracy: 0.1146 - lr: 0.0012\n",
      "Epoch 2/3\n",
      "266/266 [==============================] - 19s 72ms/step - loss: 2.3014 - accuracy: 0.1111 - val_loss: 2.3010 - val_accuracy: 0.1146 - lr: 0.0012\n",
      "Epoch 3/3\n",
      "266/266 [==============================] - ETA: 0s - loss: 2.3014 - accuracy: 0.1111\n",
      "Epoch 00003: ReduceLROnPlateau reducing learning rate to 0.0006017162231728435.\n",
      "266/266 [==============================] - 18s 67ms/step - loss: 2.3014 - accuracy: 0.1111 - val_loss: 2.3008 - val_accuracy: 0.1146 - lr: 0.0012\n",
      "\n",
      "Accuracy: 11.46%\n",
      "\n",
      "learning rate: 1.4e-03\n",
      "num_dense_layers: 1\n",
      "num_dense_nodes: 167\n",
      "activation: relu\n",
      "\n",
      "Epoch 1/3\n"
     ]
    },
    {
     "name": "stderr",
     "output_type": "stream",
     "text": [
      "/home/santiago/anaconda3/envs/hyperparameter_optimization_for_machine_learning/lib/python3.9/site-packages/keras/optimizer_v2/adam.py:105: UserWarning: The `lr` argument is deprecated, use `learning_rate` instead.\n",
      "  super(Adam, self).__init__(name, **kwargs)\n"
     ]
    },
    {
     "name": "stdout",
     "output_type": "stream",
     "text": [
      "266/266 [==============================] - 18s 68ms/step - loss: 0.2401 - accuracy: 0.9255 - val_loss: 0.0933 - val_accuracy: 0.9717 - lr: 0.0014\n",
      "Epoch 2/3\n",
      "266/266 [==============================] - 18s 67ms/step - loss: 0.0618 - accuracy: 0.9802 - val_loss: 0.0681 - val_accuracy: 0.9804 - lr: 0.0014\n",
      "Epoch 3/3\n",
      "266/266 [==============================] - 19s 73ms/step - loss: 0.0409 - accuracy: 0.9868 - val_loss: 0.0567 - val_accuracy: 0.9833 - lr: 0.0014\n",
      "\n",
      "Accuracy: 98.33%\n",
      "\n",
      "learning rate: 4.0e-04\n",
      "num_dense_layers: 5\n",
      "num_dense_nodes: 512\n",
      "activation: sigmoid\n",
      "\n",
      "Epoch 1/3\n"
     ]
    },
    {
     "name": "stderr",
     "output_type": "stream",
     "text": [
      "/home/santiago/anaconda3/envs/hyperparameter_optimization_for_machine_learning/lib/python3.9/site-packages/keras/optimizer_v2/adam.py:105: UserWarning: The `lr` argument is deprecated, use `learning_rate` instead.\n",
      "  super(Adam, self).__init__(name, **kwargs)\n"
     ]
    },
    {
     "name": "stdout",
     "output_type": "stream",
     "text": [
      "266/266 [==============================] - 24s 87ms/step - loss: 2.3181 - accuracy: 0.1029 - val_loss: 2.3068 - val_accuracy: 0.1037 - lr: 3.9609e-04\n",
      "Epoch 2/3\n",
      "266/266 [==============================] - 23s 87ms/step - loss: 1.6412 - accuracy: 0.3750 - val_loss: 0.8537 - val_accuracy: 0.7098 - lr: 3.9609e-04\n",
      "Epoch 3/3\n",
      "266/266 [==============================] - 26s 96ms/step - loss: 0.6171 - accuracy: 0.7899 - val_loss: 0.4845 - val_accuracy: 0.8402 - lr: 3.9609e-04\n",
      "\n",
      "Accuracy: 84.02%\n",
      "\n"
     ]
    }
   ],
   "source": [
    "# gp_minimize performs by default GP Optimization \n",
    "# using a Marten Kernel\n",
    "\n",
    "gp_ = gp_minimize(\n",
    "    objective, # the objective function to minimize\n",
    "    param_grid, # the hyperparameter space\n",
    "    x0=default_parameters, # the initial parameters to test\n",
    "    acq_func='EI', # the acquisition function\n",
    "    n_calls=30, # the number of subsequent evaluations of f(x)\n",
    "    random_state=0, \n",
    ")"
   ]
  },
  {
   "cell_type": "markdown",
   "metadata": {},
   "source": [
    "### Analyze results"
   ]
  },
  {
   "cell_type": "code",
   "execution_count": 21,
   "metadata": {},
   "outputs": [
    {
     "data": {
      "text/plain": [
       "'Best score=-0.9860'"
      ]
     },
     "execution_count": 21,
     "metadata": {},
     "output_type": "execute_result"
    }
   ],
   "source": [
    "# function value at the minimum.\n",
    "# note that it is the negative of the accuracy\n",
    "\n",
    "\"Best score=%.4f\" % gp_.fun"
   ]
  },
  {
   "cell_type": "code",
   "execution_count": 22,
   "metadata": {},
   "outputs": [
    {
     "data": {
      "text/plain": [
       "[0.0006715850393678624, 4, 318, 'relu']"
      ]
     },
     "execution_count": 22,
     "metadata": {},
     "output_type": "execute_result"
    }
   ],
   "source": [
    "gp_.x"
   ]
  },
  {
   "cell_type": "code",
   "execution_count": 23,
   "metadata": {},
   "outputs": [
    {
     "data": {
      "text/plain": [
       "Space([Real(low=1e-06, high=0.01, prior='log-uniform', transform='normalize'),\n",
       "       Integer(low=1, high=5, prior='uniform', transform='normalize'),\n",
       "       Integer(low=5, high=512, prior='uniform', transform='normalize'),\n",
       "       Categorical(categories=('relu', 'sigmoid'), prior=None)])"
      ]
     },
     "execution_count": 23,
     "metadata": {},
     "output_type": "execute_result"
    }
   ],
   "source": [
    "gp_.space"
   ]
  },
  {
   "cell_type": "code",
   "execution_count": 24,
   "metadata": {},
   "outputs": [
    {
     "name": "stdout",
     "output_type": "stream",
     "text": [
      "Best parameters:\n",
      "=========================\n",
      "- learning rate=0.000672\n",
      "- num_dense_layers=4\n",
      "- num_nodes=318\n",
      "- activation = relu\n"
     ]
    }
   ],
   "source": [
    "print(\"\"\"Best parameters:\n",
    "=========================\n",
    "- learning rate=%.6f\n",
    "- num_dense_layers=%d\n",
    "- num_nodes=%d\n",
    "- activation = %s\"\"\" % (gp_.x[0], \n",
    "                gp_.x[1],\n",
    "                gp_.x[2],\n",
    "                gp_.x[3]))"
   ]
  },
  {
   "cell_type": "markdown",
   "metadata": {},
   "source": [
    "### Convergence"
   ]
  },
  {
   "cell_type": "code",
   "execution_count": 25,
   "metadata": {},
   "outputs": [
    {
     "data": {
      "text/plain": [
       "<AxesSubplot:title={'center':'Convergence plot'}, xlabel='Number of calls $n$', ylabel='$\\\\min f(x)$ after $n$ calls'>"
      ]
     },
     "execution_count": 25,
     "metadata": {},
     "output_type": "execute_result"
    },
    {
     "data": {
      "image/png": "[encoded data removed]",
      "text/plain": [
       "<Figure size 432x288 with 1 Axes>"
      ]
     },
     "metadata": {
      "needs_background": "light"
     },
     "output_type": "display_data"
    }
   ],
   "source": [
    "plot_convergence(gp_)"
   ]
  },
  {
   "cell_type": "markdown",
   "metadata": {},
   "source": [
    "### Partially dependency plots"
   ]
  },
  {
   "cell_type": "code",
   "execution_count": 26,
   "metadata": {},
   "outputs": [],
   "source": [
    "dim_names = ['learning_rate', 'num_dense_nodes', 'num_dense_layers']"
   ]
  },
  {
   "cell_type": "code",
   "execution_count": 27,
   "metadata": {},
   "outputs": [
    {
     "data": {
      "image/png": "[encoded data removed]",
      "text/plain": [
       "<Figure size 432x432 with 9 Axes>"
      ]
     },
     "metadata": {
      "needs_background": "light"
     },
     "output_type": "display_data"
    }
   ],
   "source": [
    "plot_objective(result=gp_, plot_dims=dim_names)\n",
    "plt.show()"
   ]
  },
  {
   "cell_type": "markdown",
   "metadata": {},
   "source": [
    "### Evaluation order"
   ]
  },
  {
   "cell_type": "code",
   "execution_count": 28,
   "metadata": {},
   "outputs": [
    {
     "data": {
      "image/png": "[encoded data removed]",
      "text/plain": [
       "<Figure size 432x432 with 9 Axes>"
      ]
     },
     "metadata": {
      "needs_background": "light"
     },
     "output_type": "display_data"
    }
   ],
   "source": [
    "plot_evaluations(result=gp_, plot_dims=dim_names)\n",
    "plt.show()"
   ]
  },
  {
   "cell_type": "markdown",
   "metadata": {},
   "source": [
    "### Evaluate the model"
   ]
  },
  {
   "cell_type": "code",
   "execution_count": 29,
   "metadata": {},
   "outputs": [],
   "source": [
    "# load best model\n",
    "\n",
    "model = load_model(path_best_model)"
   ]
  },
  {
   "cell_type": "code",
   "execution_count": 30,
   "metadata": {},
   "outputs": [
    {
     "name": "stdout",
     "output_type": "stream",
     "text": [
      "132/132 [==============================] - 1s 10ms/step - loss: 0.0648 - accuracy: 0.9802\n"
     ]
    }
   ],
   "source": [
    "# make predictions in test set\n",
    "\n",
    "result = model.evaluate(x=X_test,\n",
    "                        y=y_test)"
   ]
  },
  {
   "cell_type": "code",
   "execution_count": 31,
   "metadata": {},
   "outputs": [
    {
     "name": "stdout",
     "output_type": "stream",
     "text": [
      "loss 0.06481330096721649\n",
      "accuracy 0.9802380800247192\n"
     ]
    }
   ],
   "source": [
    "# print evaluation metrics\n",
    "\n",
    "for name, value in zip(model.metrics_names, result):\n",
    "    print(name, value)"
   ]
  },
  {
   "cell_type": "markdown",
   "metadata": {},
   "source": [
    "### Confusion matrix"
   ]
  },
  {
   "cell_type": "code",
   "execution_count": 32,
   "metadata": {},
   "outputs": [
    {
     "data": {
      "text/plain": [
       "array([[420,   0,   0,   0,   1,   0,   0,   0,   1,   0],\n",
       "       [  0, 467,   2,   0,   0,   0,   1,   2,   1,   0],\n",
       "       [  4,   0, 400,   2,   0,   0,   1,   0,   2,   0],\n",
       "       [  0,   0,   1, 414,   0,   8,   0,   1,   2,   0],\n",
       "       [  1,   2,   0,   0, 424,   0,   2,   0,   0,   0],\n",
       "       [  0,   0,   0,   1,   0, 380,   1,   0,   0,   0],\n",
       "       [  0,   0,   0,   0,   0,   2, 410,   0,   0,   0],\n",
       "       [  0,   0,   9,   0,   1,   3,   0, 453,   2,   1],\n",
       "       [  1,   1,   0,   1,   0,   5,   4,   0, 372,   0],\n",
       "       [  7,   1,   0,   1,   4,   1,   0,   2,   1, 377]])"
      ]
     },
     "execution_count": 32,
     "metadata": {},
     "output_type": "execute_result"
    }
   ],
   "source": [
    "# Predict the values from the validation dataset\n",
    "y_pred = model.predict(X_test)\n",
    "\n",
    "# Convert predictions classes to one hot vectors \n",
    "y_pred_classes = np.argmax(y_pred, axis = 1)\n",
    "\n",
    "# Convert validation observations to one hot vectors\n",
    "y_true = np.argmax(y_test, axis = 1)\n",
    "\n",
    "# compute the confusion matrix\n",
    "cm = confusion_matrix(y_true, y_pred_classes) \n",
    "\n",
    "cm"
   ]
  },
  {
   "cell_type": "code",
   "execution_count": 33,
   "metadata": {},
   "outputs": [
    {
     "data": {
      "text/plain": [
       "Text(0.5, 13.421126458070283, 'Predicted label')"
      ]
     },
     "execution_count": 33,
     "metadata": {},
     "output_type": "execute_result"
    },
    {
     "data": {
      "image/png": "[encoded data removed]",
      "text/plain": [
       "<Figure size 432x288 with 2 Axes>"
      ]
     },
     "metadata": {
      "needs_background": "light"
     },
     "output_type": "display_data"
    }
   ],
   "source": [
    "# let's make it more colourful\n",
    "classes = 10\n",
    "\n",
    "plt.imshow(cm, interpolation='nearest', cmap=plt.cm.Blues)\n",
    "plt.title('Confusion matrix')\n",
    "plt.colorbar()\n",
    "tick_marks = np.arange(classes)\n",
    "plt.xticks(tick_marks, range(classes), rotation=45)\n",
    "plt.yticks(tick_marks, range(classes))\n",
    "\n",
    "for i, j in itertools.product(range(cm.shape[0]), range(cm.shape[1])):\n",
    "    plt.text(j, i, cm[i, j],\n",
    "             horizontalalignment=\"center\",\n",
    "             color=\"white\" if cm[i, j] > 100 else \"black\",\n",
    "            )\n",
    "\n",
    "plt.tight_layout()\n",
    "plt.ylabel('True label')\n",
    "plt.xlabel('Predicted label')"
   ]
  },
  {
   "cell_type": "markdown",
   "metadata": {},
   "source": [
    "Here we can see that our CNN performs very well on all digits."
   ]
  },
  {
   "cell_type": "markdown",
   "metadata": {},
   "source": [
    "## References\n",
    "This notebook was based on these resources:\n",
    "\n",
    "* TensorFlow Tutorial #19\n",
    "* Introduction to CNN Keras - 0.997 (top 6%)\n",
    "* Keras"
   ]
  },
  {
   "cell_type": "code",
   "execution_count": null,
   "metadata": {},
   "outputs": [],
   "source": []
  }
 ],
 "metadata": {
  "kernelspec": {
   "display_name": "Python 3.9.13 ('hyperparameter_optimization_for_machine_learning')",
   "language": "python",
   "name": "python3"
  },
  "language_info": {
   "codemirror_mode": {
    "name": "ipython",
    "version": 3
   },
   "file_extension": ".py",
   "mimetype": "text/x-python",
   "name": "python",
   "nbconvert_exporter": "python",
   "pygments_lexer": "ipython3",
   "version": "3.9.13"
  },
  "orig_nbformat": 4,
  "vscode": {
   "interpreter": {
    "hash": "2f33e3a0ecdca2dfa9e05d6e5730c703bfe1984a713822542070e9abfcf88fe9"
   }
  }
 },
 "nbformat": 4,
 "nbformat_minor": 2
}
