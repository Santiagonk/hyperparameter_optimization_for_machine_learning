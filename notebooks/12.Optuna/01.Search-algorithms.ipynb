{
 "cells": [
  {
   "cell_type": "markdown",
   "metadata": {},
   "source": [
    "# Search algorithms within Optuna"
   ]
  },
  {
   "cell_type": "markdown",
   "metadata": {},
   "source": [
    "In this notebook, I will demo how to select the search algorithm with Optuna. We will compare the use of:\n",
    "\n",
    "* Grid Search\n",
    "* Randomized search\n",
    "* Tree-structured Parzen Estimators\n",
    "* CMA-ES\n",
    "We can select the search algorithm from the optuna.study.create_study() class."
   ]
  },
  {
   "cell_type": "code",
   "execution_count": 6,
   "metadata": {},
   "outputs": [],
   "source": [
    "import numpy as np\n",
    "import pandas as pd\n",
    "import matplotlib.pyplot as plt\n",
    "\n",
    "from sklearn.datasets import load_breast_cancer\n",
    "from sklearn.metrics import accuracy_score, roc_auc_score\n",
    "from sklearn.model_selection import cross_val_score, train_test_split\n",
    "from sklearn.ensemble import RandomForestClassifier\n",
    "\n",
    "import optuna"
   ]
  },
  {
   "cell_type": "code",
   "execution_count": 7,
   "metadata": {},
   "outputs": [
    {
     "data": {
      "text/html": [
       "<div>\n",
       "<style scoped>\n",
       "    .dataframe tbody tr th:only-of-type {\n",
       "        vertical-align: middle;\n",
       "    }\n",
       "\n",
       "    .dataframe tbody tr th {\n",
       "        vertical-align: top;\n",
       "    }\n",
       "\n",
       "    .dataframe thead th {\n",
       "        text-align: right;\n",
       "    }\n",
       "</style>\n",
       "<table border=\"1\" class=\"dataframe\">\n",
       "  <thead>\n",
       "    <tr style=\"text-align: right;\">\n",
       "      <th></th>\n",
       "      <th>0</th>\n",
       "      <th>1</th>\n",
       "      <th>2</th>\n",
       "      <th>3</th>\n",
       "      <th>4</th>\n",
       "      <th>5</th>\n",
       "      <th>6</th>\n",
       "      <th>7</th>\n",
       "      <th>8</th>\n",
       "      <th>9</th>\n",
       "      <th>...</th>\n",
       "      <th>20</th>\n",
       "      <th>21</th>\n",
       "      <th>22</th>\n",
       "      <th>23</th>\n",
       "      <th>24</th>\n",
       "      <th>25</th>\n",
       "      <th>26</th>\n",
       "      <th>27</th>\n",
       "      <th>28</th>\n",
       "      <th>29</th>\n",
       "    </tr>\n",
       "  </thead>\n",
       "  <tbody>\n",
       "    <tr>\n",
       "      <th>0</th>\n",
       "      <td>17.99</td>\n",
       "      <td>10.38</td>\n",
       "      <td>122.80</td>\n",
       "      <td>1001.0</td>\n",
       "      <td>0.11840</td>\n",
       "      <td>0.27760</td>\n",
       "      <td>0.3001</td>\n",
       "      <td>0.14710</td>\n",
       "      <td>0.2419</td>\n",
       "      <td>0.07871</td>\n",
       "      <td>...</td>\n",
       "      <td>25.38</td>\n",
       "      <td>17.33</td>\n",
       "      <td>184.60</td>\n",
       "      <td>2019.0</td>\n",
       "      <td>0.1622</td>\n",
       "      <td>0.6656</td>\n",
       "      <td>0.7119</td>\n",
       "      <td>0.2654</td>\n",
       "      <td>0.4601</td>\n",
       "      <td>0.11890</td>\n",
       "    </tr>\n",
       "    <tr>\n",
       "      <th>1</th>\n",
       "      <td>20.57</td>\n",
       "      <td>17.77</td>\n",
       "      <td>132.90</td>\n",
       "      <td>1326.0</td>\n",
       "      <td>0.08474</td>\n",
       "      <td>0.07864</td>\n",
       "      <td>0.0869</td>\n",
       "      <td>0.07017</td>\n",
       "      <td>0.1812</td>\n",
       "      <td>0.05667</td>\n",
       "      <td>...</td>\n",
       "      <td>24.99</td>\n",
       "      <td>23.41</td>\n",
       "      <td>158.80</td>\n",
       "      <td>1956.0</td>\n",
       "      <td>0.1238</td>\n",
       "      <td>0.1866</td>\n",
       "      <td>0.2416</td>\n",
       "      <td>0.1860</td>\n",
       "      <td>0.2750</td>\n",
       "      <td>0.08902</td>\n",
       "    </tr>\n",
       "    <tr>\n",
       "      <th>2</th>\n",
       "      <td>19.69</td>\n",
       "      <td>21.25</td>\n",
       "      <td>130.00</td>\n",
       "      <td>1203.0</td>\n",
       "      <td>0.10960</td>\n",
       "      <td>0.15990</td>\n",
       "      <td>0.1974</td>\n",
       "      <td>0.12790</td>\n",
       "      <td>0.2069</td>\n",
       "      <td>0.05999</td>\n",
       "      <td>...</td>\n",
       "      <td>23.57</td>\n",
       "      <td>25.53</td>\n",
       "      <td>152.50</td>\n",
       "      <td>1709.0</td>\n",
       "      <td>0.1444</td>\n",
       "      <td>0.4245</td>\n",
       "      <td>0.4504</td>\n",
       "      <td>0.2430</td>\n",
       "      <td>0.3613</td>\n",
       "      <td>0.08758</td>\n",
       "    </tr>\n",
       "    <tr>\n",
       "      <th>3</th>\n",
       "      <td>11.42</td>\n",
       "      <td>20.38</td>\n",
       "      <td>77.58</td>\n",
       "      <td>386.1</td>\n",
       "      <td>0.14250</td>\n",
       "      <td>0.28390</td>\n",
       "      <td>0.2414</td>\n",
       "      <td>0.10520</td>\n",
       "      <td>0.2597</td>\n",
       "      <td>0.09744</td>\n",
       "      <td>...</td>\n",
       "      <td>14.91</td>\n",
       "      <td>26.50</td>\n",
       "      <td>98.87</td>\n",
       "      <td>567.7</td>\n",
       "      <td>0.2098</td>\n",
       "      <td>0.8663</td>\n",
       "      <td>0.6869</td>\n",
       "      <td>0.2575</td>\n",
       "      <td>0.6638</td>\n",
       "      <td>0.17300</td>\n",
       "    </tr>\n",
       "    <tr>\n",
       "      <th>4</th>\n",
       "      <td>20.29</td>\n",
       "      <td>14.34</td>\n",
       "      <td>135.10</td>\n",
       "      <td>1297.0</td>\n",
       "      <td>0.10030</td>\n",
       "      <td>0.13280</td>\n",
       "      <td>0.1980</td>\n",
       "      <td>0.10430</td>\n",
       "      <td>0.1809</td>\n",
       "      <td>0.05883</td>\n",
       "      <td>...</td>\n",
       "      <td>22.54</td>\n",
       "      <td>16.67</td>\n",
       "      <td>152.20</td>\n",
       "      <td>1575.0</td>\n",
       "      <td>0.1374</td>\n",
       "      <td>0.2050</td>\n",
       "      <td>0.4000</td>\n",
       "      <td>0.1625</td>\n",
       "      <td>0.2364</td>\n",
       "      <td>0.07678</td>\n",
       "    </tr>\n",
       "  </tbody>\n",
       "</table>\n",
       "<p>5 rows × 30 columns</p>\n",
       "</div>"
      ],
      "text/plain": [
       "      0      1       2       3        4        5       6        7       8   \\\n",
       "0  17.99  10.38  122.80  1001.0  0.11840  0.27760  0.3001  0.14710  0.2419   \n",
       "1  20.57  17.77  132.90  1326.0  0.08474  0.07864  0.0869  0.07017  0.1812   \n",
       "2  19.69  21.25  130.00  1203.0  0.10960  0.15990  0.1974  0.12790  0.2069   \n",
       "3  11.42  20.38   77.58   386.1  0.14250  0.28390  0.2414  0.10520  0.2597   \n",
       "4  20.29  14.34  135.10  1297.0  0.10030  0.13280  0.1980  0.10430  0.1809   \n",
       "\n",
       "        9   ...     20     21      22      23      24      25      26      27  \\\n",
       "0  0.07871  ...  25.38  17.33  184.60  2019.0  0.1622  0.6656  0.7119  0.2654   \n",
       "1  0.05667  ...  24.99  23.41  158.80  1956.0  0.1238  0.1866  0.2416  0.1860   \n",
       "2  0.05999  ...  23.57  25.53  152.50  1709.0  0.1444  0.4245  0.4504  0.2430   \n",
       "3  0.09744  ...  14.91  26.50   98.87   567.7  0.2098  0.8663  0.6869  0.2575   \n",
       "4  0.05883  ...  22.54  16.67  152.20  1575.0  0.1374  0.2050  0.4000  0.1625   \n",
       "\n",
       "       28       29  \n",
       "0  0.4601  0.11890  \n",
       "1  0.2750  0.08902  \n",
       "2  0.3613  0.08758  \n",
       "3  0.6638  0.17300  \n",
       "4  0.2364  0.07678  \n",
       "\n",
       "[5 rows x 30 columns]"
      ]
     },
     "execution_count": 7,
     "metadata": {},
     "output_type": "execute_result"
    }
   ],
   "source": [
    "# load dataset\n",
    "\n",
    "breast_cancer_X, breast_cancer_y = load_breast_cancer(return_X_y=True)\n",
    "X = pd.DataFrame(breast_cancer_X)\n",
    "y = pd.Series(breast_cancer_y).map({0:1, 1:0})\n",
    "\n",
    "X.head()"
   ]
  },
  {
   "cell_type": "code",
   "execution_count": 8,
   "metadata": {},
   "outputs": [
    {
     "data": {
      "text/plain": [
       "0    0.627417\n",
       "1    0.372583\n",
       "dtype: float64"
      ]
     },
     "execution_count": 8,
     "metadata": {},
     "output_type": "execute_result"
    }
   ],
   "source": [
    "# the target:\n",
    "# percentage of benign (0) and malign tumors (1)\n",
    "\n",
    "y.value_counts() / len(y)"
   ]
  },
  {
   "cell_type": "code",
   "execution_count": 9,
   "metadata": {},
   "outputs": [
    {
     "data": {
      "text/plain": [
       "((398, 30), (171, 30))"
      ]
     },
     "execution_count": 9,
     "metadata": {},
     "output_type": "execute_result"
    }
   ],
   "source": [
    "# split dataset into a train and test set\n",
    "\n",
    "X_train, X_test, y_train, y_test = train_test_split(\n",
    "    X, y, test_size=0.3, random_state=0)\n",
    "\n",
    "X_train.shape, X_test.shape"
   ]
  },
  {
   "cell_type": "markdown",
   "metadata": {},
   "source": [
    "### Define the objective function"
   ]
  },
  {
   "cell_type": "markdown",
   "metadata": {},
   "source": [
    "This is the hyperparameter response space, the function we want to minimize."
   ]
  },
  {
   "cell_type": "code",
   "execution_count": 4,
   "metadata": {},
   "outputs": [],
   "source": [
    "# the objective function takes the hyperparameter space\n",
    "# as input\n",
    "\n",
    "def objective(trial):\n",
    "\n",
    "    rf_n_estimators = trial.suggest_int(\"rf_n_estimators\", 100, 1000)\n",
    "    rf_criterion = trial.suggest_categorical(\"rf_criterion\", ['gini', 'entropy'])\n",
    "    rf_max_depth = trial.suggest_int(\"rf_max_depth\", 1, 4)\n",
    "    rf_min_samples_split = trial.suggest_float(\"rf_min_samples_split\", 0.01, 1)\n",
    "    \n",
    "    model = RandomForestClassifier(\n",
    "        n_estimators=rf_n_estimators,\n",
    "        criterion=rf_criterion,\n",
    "        max_depth=rf_max_depth,\n",
    "        min_samples_split=rf_min_samples_split,\n",
    "    )\n",
    "\n",
    "    score = cross_val_score(model, X_train, y_train, cv=3)\n",
    "    accuracy = score.mean()\n",
    "    return accuracy"
   ]
  },
  {
   "cell_type": "markdown",
   "metadata": {},
   "source": [
    "### Randomized Search"
   ]
  },
  {
   "cell_type": "markdown",
   "metadata": {},
   "source": [
    "RandomSampler()"
   ]
  },
  {
   "cell_type": "code",
   "execution_count": 10,
   "metadata": {},
   "outputs": [
    {
     "name": "stderr",
     "output_type": "stream",
     "text": [
      "\u001b[32m[I 2022-10-27 05:31:53,003]\u001b[0m A new study created in memory with name: no-name-00089572-5729-4271-904e-bbefc829b3fb\u001b[0m\n",
      "\u001b[32m[I 2022-10-27 05:31:54,658]\u001b[0m Trial 0 finished with value: 0.6256360598465861 and parameters: {'rf_n_estimators': 442, 'rf_criterion': 'entropy', 'rf_max_depth': 2, 'rf_min_samples_split': 0.7616728064347049}. Best is trial 0 with value: 0.6256360598465861.\u001b[0m\n",
      "\u001b[32m[I 2022-10-27 05:31:58,182]\u001b[0m Trial 1 finished with value: 0.6256360598465861 and parameters: {'rf_n_estimators': 866, 'rf_criterion': 'gini', 'rf_max_depth': 3, 'rf_min_samples_split': 0.9159691112867344}. Best is trial 0 with value: 0.6256360598465861.\u001b[0m\n",
      "\u001b[32m[I 2022-10-27 05:31:59,033]\u001b[0m Trial 2 finished with value: 0.9372294372294373 and parameters: {'rf_n_estimators': 203, 'rf_criterion': 'gini', 'rf_max_depth': 2, 'rf_min_samples_split': 0.03632489661992204}. Best is trial 2 with value: 0.9372294372294373.\u001b[0m\n",
      "\u001b[32m[I 2022-10-27 05:31:59,534]\u001b[0m Trial 3 finished with value: 0.912128806865649 and parameters: {'rf_n_estimators': 109, 'rf_criterion': 'gini', 'rf_max_depth': 1, 'rf_min_samples_split': 0.4201065174920665}. Best is trial 2 with value: 0.9372294372294373.\u001b[0m\n",
      "\u001b[32m[I 2022-10-27 05:32:03,467]\u001b[0m Trial 4 finished with value: 0.942241968557758 and parameters: {'rf_n_estimators': 430, 'rf_criterion': 'gini', 'rf_max_depth': 4, 'rf_min_samples_split': 0.08949167120542477}. Best is trial 4 with value: 0.942241968557758.\u001b[0m\n"
     ]
    }
   ],
   "source": [
    "study = optuna.create_study(\n",
    "    direction=\"maximize\",\n",
    "    sampler=optuna.samplers.RandomSampler(),\n",
    ")\n",
    "\n",
    "\n",
    "study.optimize(objective, n_trials=5)"
   ]
  },
  {
   "cell_type": "code",
   "execution_count": 11,
   "metadata": {},
   "outputs": [
    {
     "data": {
      "text/plain": [
       "{'rf_n_estimators': 430,\n",
       " 'rf_criterion': 'gini',\n",
       " 'rf_max_depth': 4,\n",
       " 'rf_min_samples_split': 0.08949167120542477}"
      ]
     },
     "execution_count": 11,
     "metadata": {},
     "output_type": "execute_result"
    }
   ],
   "source": [
    "study.best_params"
   ]
  },
  {
   "cell_type": "code",
   "execution_count": 12,
   "metadata": {},
   "outputs": [
    {
     "data": {
      "text/plain": [
       "0.942241968557758"
      ]
     },
     "execution_count": 12,
     "metadata": {},
     "output_type": "execute_result"
    }
   ],
   "source": [
    "study.best_value"
   ]
  },
  {
   "cell_type": "code",
   "execution_count": 13,
   "metadata": {},
   "outputs": [
    {
     "data": {
      "text/html": [
       "<div>\n",
       "<style scoped>\n",
       "    .dataframe tbody tr th:only-of-type {\n",
       "        vertical-align: middle;\n",
       "    }\n",
       "\n",
       "    .dataframe tbody tr th {\n",
       "        vertical-align: top;\n",
       "    }\n",
       "\n",
       "    .dataframe thead th {\n",
       "        text-align: right;\n",
       "    }\n",
       "</style>\n",
       "<table border=\"1\" class=\"dataframe\">\n",
       "  <thead>\n",
       "    <tr style=\"text-align: right;\">\n",
       "      <th></th>\n",
       "      <th>number</th>\n",
       "      <th>value</th>\n",
       "      <th>datetime_start</th>\n",
       "      <th>datetime_complete</th>\n",
       "      <th>duration</th>\n",
       "      <th>params_rf_criterion</th>\n",
       "      <th>params_rf_max_depth</th>\n",
       "      <th>params_rf_min_samples_split</th>\n",
       "      <th>params_rf_n_estimators</th>\n",
       "      <th>state</th>\n",
       "    </tr>\n",
       "  </thead>\n",
       "  <tbody>\n",
       "    <tr>\n",
       "      <th>0</th>\n",
       "      <td>0</td>\n",
       "      <td>0.625636</td>\n",
       "      <td>2022-10-27 05:31:53.005684</td>\n",
       "      <td>2022-10-27 05:31:54.658504</td>\n",
       "      <td>0 days 00:00:01.652820</td>\n",
       "      <td>entropy</td>\n",
       "      <td>2</td>\n",
       "      <td>0.761673</td>\n",
       "      <td>442</td>\n",
       "      <td>COMPLETE</td>\n",
       "    </tr>\n",
       "    <tr>\n",
       "      <th>1</th>\n",
       "      <td>1</td>\n",
       "      <td>0.625636</td>\n",
       "      <td>2022-10-27 05:31:54.659810</td>\n",
       "      <td>2022-10-27 05:31:58.182451</td>\n",
       "      <td>0 days 00:00:03.522641</td>\n",
       "      <td>gini</td>\n",
       "      <td>3</td>\n",
       "      <td>0.915969</td>\n",
       "      <td>866</td>\n",
       "      <td>COMPLETE</td>\n",
       "    </tr>\n",
       "    <tr>\n",
       "      <th>2</th>\n",
       "      <td>2</td>\n",
       "      <td>0.937229</td>\n",
       "      <td>2022-10-27 05:31:58.183828</td>\n",
       "      <td>2022-10-27 05:31:59.033397</td>\n",
       "      <td>0 days 00:00:00.849569</td>\n",
       "      <td>gini</td>\n",
       "      <td>2</td>\n",
       "      <td>0.036325</td>\n",
       "      <td>203</td>\n",
       "      <td>COMPLETE</td>\n",
       "    </tr>\n",
       "    <tr>\n",
       "      <th>3</th>\n",
       "      <td>3</td>\n",
       "      <td>0.912129</td>\n",
       "      <td>2022-10-27 05:31:59.034616</td>\n",
       "      <td>2022-10-27 05:31:59.534231</td>\n",
       "      <td>0 days 00:00:00.499615</td>\n",
       "      <td>gini</td>\n",
       "      <td>1</td>\n",
       "      <td>0.420107</td>\n",
       "      <td>109</td>\n",
       "      <td>COMPLETE</td>\n",
       "    </tr>\n",
       "    <tr>\n",
       "      <th>4</th>\n",
       "      <td>4</td>\n",
       "      <td>0.942242</td>\n",
       "      <td>2022-10-27 05:31:59.536029</td>\n",
       "      <td>2022-10-27 05:32:03.466756</td>\n",
       "      <td>0 days 00:00:03.930727</td>\n",
       "      <td>gini</td>\n",
       "      <td>4</td>\n",
       "      <td>0.089492</td>\n",
       "      <td>430</td>\n",
       "      <td>COMPLETE</td>\n",
       "    </tr>\n",
       "  </tbody>\n",
       "</table>\n",
       "</div>"
      ],
      "text/plain": [
       "   number     value             datetime_start          datetime_complete  \\\n",
       "0       0  0.625636 2022-10-27 05:31:53.005684 2022-10-27 05:31:54.658504   \n",
       "1       1  0.625636 2022-10-27 05:31:54.659810 2022-10-27 05:31:58.182451   \n",
       "2       2  0.937229 2022-10-27 05:31:58.183828 2022-10-27 05:31:59.033397   \n",
       "3       3  0.912129 2022-10-27 05:31:59.034616 2022-10-27 05:31:59.534231   \n",
       "4       4  0.942242 2022-10-27 05:31:59.536029 2022-10-27 05:32:03.466756   \n",
       "\n",
       "                duration params_rf_criterion  params_rf_max_depth  \\\n",
       "0 0 days 00:00:01.652820             entropy                    2   \n",
       "1 0 days 00:00:03.522641                gini                    3   \n",
       "2 0 days 00:00:00.849569                gini                    2   \n",
       "3 0 days 00:00:00.499615                gini                    1   \n",
       "4 0 days 00:00:03.930727                gini                    4   \n",
       "\n",
       "   params_rf_min_samples_split  params_rf_n_estimators     state  \n",
       "0                     0.761673                     442  COMPLETE  \n",
       "1                     0.915969                     866  COMPLETE  \n",
       "2                     0.036325                     203  COMPLETE  \n",
       "3                     0.420107                     109  COMPLETE  \n",
       "4                     0.089492                     430  COMPLETE  "
      ]
     },
     "execution_count": 13,
     "metadata": {},
     "output_type": "execute_result"
    }
   ],
   "source": [
    "study.trials_dataframe()"
   ]
  },
  {
   "cell_type": "markdown",
   "metadata": {},
   "source": [
    "### TPE"
   ]
  },
  {
   "cell_type": "markdown",
   "metadata": {},
   "source": [
    "TPESampler is the default"
   ]
  },
  {
   "cell_type": "code",
   "execution_count": 14,
   "metadata": {},
   "outputs": [
    {
     "name": "stderr",
     "output_type": "stream",
     "text": [
      "\u001b[32m[I 2022-10-27 05:32:28,081]\u001b[0m A new study created in memory with name: no-name-3aeb48b8-dde5-4efc-98f9-b9f89ab2d117\u001b[0m\n",
      "\u001b[32m[I 2022-10-27 05:32:30,613]\u001b[0m Trial 0 finished with value: 0.6256360598465861 and parameters: {'rf_n_estimators': 667, 'rf_criterion': 'entropy', 'rf_max_depth': 3, 'rf_min_samples_split': 0.9763441693740854}. Best is trial 0 with value: 0.6256360598465861.\u001b[0m\n",
      "\u001b[32m[I 2022-10-27 05:32:31,136]\u001b[0m Trial 1 finished with value: 0.6256360598465861 and parameters: {'rf_n_estimators': 131, 'rf_criterion': 'gini', 'rf_max_depth': 4, 'rf_min_samples_split': 0.7301136212165581}. Best is trial 0 with value: 0.6256360598465861.\u001b[0m\n",
      "\u001b[32m[I 2022-10-27 05:32:34,899]\u001b[0m Trial 2 finished with value: 0.9396787423103211 and parameters: {'rf_n_estimators': 818, 'rf_criterion': 'entropy', 'rf_max_depth': 4, 'rf_min_samples_split': 0.3763767509612783}. Best is trial 2 with value: 0.9396787423103211.\u001b[0m\n",
      "\u001b[32m[I 2022-10-27 05:32:35,315]\u001b[0m Trial 3 finished with value: 0.9146160856687172 and parameters: {'rf_n_estimators': 101, 'rf_criterion': 'gini', 'rf_max_depth': 1, 'rf_min_samples_split': 0.5801151101740759}. Best is trial 2 with value: 0.9396787423103211.\u001b[0m\n",
      "\u001b[32m[I 2022-10-27 05:32:36,944]\u001b[0m Trial 4 finished with value: 0.9196665907192223 and parameters: {'rf_n_estimators': 398, 'rf_criterion': 'entropy', 'rf_max_depth': 2, 'rf_min_samples_split': 0.5280151915910835}. Best is trial 2 with value: 0.9396787423103211.\u001b[0m\n"
     ]
    }
   ],
   "source": [
    "study = optuna.create_study(\n",
    "    direction=\"maximize\",\n",
    "    sampler=optuna.samplers.TPESampler(),\n",
    ")\n",
    "\n",
    "\n",
    "study.optimize(objective, n_trials=5)"
   ]
  },
  {
   "cell_type": "code",
   "execution_count": 15,
   "metadata": {},
   "outputs": [
    {
     "data": {
      "text/plain": [
       "{'rf_n_estimators': 818,\n",
       " 'rf_criterion': 'entropy',\n",
       " 'rf_max_depth': 4,\n",
       " 'rf_min_samples_split': 0.3763767509612783}"
      ]
     },
     "execution_count": 15,
     "metadata": {},
     "output_type": "execute_result"
    }
   ],
   "source": [
    "study.best_params"
   ]
  },
  {
   "cell_type": "code",
   "execution_count": 16,
   "metadata": {},
   "outputs": [
    {
     "data": {
      "text/plain": [
       "0.9396787423103211"
      ]
     },
     "execution_count": 16,
     "metadata": {},
     "output_type": "execute_result"
    }
   ],
   "source": [
    "study.best_value"
   ]
  },
  {
   "cell_type": "markdown",
   "metadata": {},
   "source": [
    "### CMA-ES"
   ]
  },
  {
   "cell_type": "markdown",
   "metadata": {},
   "source": [
    "CmaEsSampler"
   ]
  },
  {
   "cell_type": "code",
   "execution_count": 17,
   "metadata": {},
   "outputs": [
    {
     "name": "stderr",
     "output_type": "stream",
     "text": [
      "\u001b[32m[I 2022-10-27 05:32:59,479]\u001b[0m A new study created in memory with name: no-name-d951b97b-f130-4972-addd-1a83b35920c7\u001b[0m\n",
      "\u001b[32m[I 2022-10-27 05:33:01,270]\u001b[0m Trial 0 finished with value: 0.9171413381939697 and parameters: {'rf_n_estimators': 431, 'rf_criterion': 'entropy', 'rf_max_depth': 3, 'rf_min_samples_split': 0.6267530272470063}. Best is trial 0 with value: 0.9171413381939697.\u001b[0m\n",
      "\u001b[33m[W 2022-10-27 05:33:01,329]\u001b[0m The parameter 'rf_criterion' in trial#1 is sampled independently by using `RandomSampler` instead of `CmaEsSampler` (optimization performance may be degraded). `CmaEsSampler` does not support dynamic search space or `CategoricalDistribution`. You can suppress this warning by setting `warn_independent_sampling` to `False` in the constructor of `CmaEsSampler`, if this independent sampling is intended behavior.\u001b[0m\n",
      "\u001b[32m[I 2022-10-27 05:33:03,690]\u001b[0m Trial 1 finished with value: 0.9396977291714134 and parameters: {'rf_n_estimators': 550, 'rf_criterion': 'gini', 'rf_max_depth': 2, 'rf_min_samples_split': 0.2592169103351064}. Best is trial 1 with value: 0.9396977291714134.\u001b[0m\n",
      "\u001b[33m[W 2022-10-27 05:33:03,693]\u001b[0m The parameter 'rf_criterion' in trial#2 is sampled independently by using `RandomSampler` instead of `CmaEsSampler` (optimization performance may be degraded). `CmaEsSampler` does not support dynamic search space or `CategoricalDistribution`. You can suppress this warning by setting `warn_independent_sampling` to `False` in the constructor of `CmaEsSampler`, if this independent sampling is intended behavior.\u001b[0m\n",
      "\u001b[32m[I 2022-10-27 05:33:06,013]\u001b[0m Trial 2 finished with value: 0.93215994531784 and parameters: {'rf_n_estimators': 550, 'rf_criterion': 'gini', 'rf_max_depth': 3, 'rf_min_samples_split': 0.4180377529567394}. Best is trial 1 with value: 0.9396977291714134.\u001b[0m\n",
      "\u001b[33m[W 2022-10-27 05:33:06,016]\u001b[0m The parameter 'rf_criterion' in trial#3 is sampled independently by using `RandomSampler` instead of `CmaEsSampler` (optimization performance may be degraded). `CmaEsSampler` does not support dynamic search space or `CategoricalDistribution`. You can suppress this warning by setting `warn_independent_sampling` to `False` in the constructor of `CmaEsSampler`, if this independent sampling is intended behavior.\u001b[0m\n",
      "\u001b[32m[I 2022-10-27 05:33:08,724]\u001b[0m Trial 3 finished with value: 0.9397357028935976 and parameters: {'rf_n_estimators': 550, 'rf_criterion': 'gini', 'rf_max_depth': 2, 'rf_min_samples_split': 0.15643475222342784}. Best is trial 3 with value: 0.9397357028935976.\u001b[0m\n",
      "\u001b[33m[W 2022-10-27 05:33:08,727]\u001b[0m The parameter 'rf_criterion' in trial#4 is sampled independently by using `RandomSampler` instead of `CmaEsSampler` (optimization performance may be degraded). `CmaEsSampler` does not support dynamic search space or `CategoricalDistribution`. You can suppress this warning by setting `warn_independent_sampling` to `False` in the constructor of `CmaEsSampler`, if this independent sampling is intended behavior.\u001b[0m\n",
      "\u001b[32m[I 2022-10-27 05:33:11,465]\u001b[0m Trial 4 finished with value: 0.9146160856687172 and parameters: {'rf_n_estimators': 550, 'rf_criterion': 'gini', 'rf_max_depth': 2, 'rf_min_samples_split': 0.6094235548366239}. Best is trial 3 with value: 0.9397357028935976.\u001b[0m\n"
     ]
    }
   ],
   "source": [
    "study = optuna.create_study(\n",
    "    direction=\"maximize\",\n",
    "    sampler=optuna.samplers.CmaEsSampler(),\n",
    ")\n",
    "\n",
    "study.optimize(objective, n_trials=5)"
   ]
  },
  {
   "cell_type": "code",
   "execution_count": 18,
   "metadata": {},
   "outputs": [
    {
     "data": {
      "text/plain": [
       "{'rf_n_estimators': 550,\n",
       " 'rf_criterion': 'gini',\n",
       " 'rf_max_depth': 2,\n",
       " 'rf_min_samples_split': 0.15643475222342784}"
      ]
     },
     "execution_count": 18,
     "metadata": {},
     "output_type": "execute_result"
    }
   ],
   "source": [
    "study.best_params"
   ]
  },
  {
   "cell_type": "code",
   "execution_count": 19,
   "metadata": {},
   "outputs": [
    {
     "data": {
      "text/plain": [
       "0.9397357028935976"
      ]
     },
     "execution_count": 19,
     "metadata": {},
     "output_type": "execute_result"
    }
   ],
   "source": [
    "study.best_value"
   ]
  },
  {
   "cell_type": "markdown",
   "metadata": {},
   "source": [
    "### Grid Search"
   ]
  },
  {
   "cell_type": "markdown",
   "metadata": {},
   "source": [
    "GridSampler()\n",
    "\n",
    "We are probably not going to perform GridSearch with Optuna, but in case you wanted to, you need to add a variable with the space, with the exact values that you want to be tested."
   ]
  },
  {
   "cell_type": "code",
   "execution_count": 20,
   "metadata": {},
   "outputs": [],
   "source": [
    "search_space = {\n",
    "    \"rf_n_estimators\": [100, 500, 1000],\n",
    "    \"rf_criterion\": ['gini', 'entropy'],\n",
    "    \"rf_max_depth\": [1, 2, 3],\n",
    "    \"rf_min_samples_split\": [0.1, 1.0]\n",
    "}"
   ]
  },
  {
   "cell_type": "code",
   "execution_count": 21,
   "metadata": {},
   "outputs": [
    {
     "name": "stderr",
     "output_type": "stream",
     "text": [
      "\u001b[32m[I 2022-10-27 05:33:46,610]\u001b[0m A new study created in memory with name: no-name-c3a03bf8-53b7-4786-9c2c-07ab5ca088e5\u001b[0m\n",
      "\u001b[32m[I 2022-10-27 05:33:47,072]\u001b[0m Trial 0 finished with value: 0.6256360598465861 and parameters: {'rf_n_estimators': 100, 'rf_criterion': 'entropy', 'rf_max_depth': 3, 'rf_min_samples_split': 1.0}. Best is trial 0 with value: 0.6256360598465861.\u001b[0m\n",
      "\u001b[32m[I 2022-10-27 05:33:51,606]\u001b[0m Trial 1 finished with value: 0.9397357028935976 and parameters: {'rf_n_estimators': 1000, 'rf_criterion': 'gini', 'rf_max_depth': 3, 'rf_min_samples_split': 0.1}. Best is trial 1 with value: 0.9397357028935976.\u001b[0m\n",
      "\u001b[32m[I 2022-10-27 05:33:52,191]\u001b[0m Trial 2 finished with value: 0.942222981696666 and parameters: {'rf_n_estimators': 100, 'rf_criterion': 'gini', 'rf_max_depth': 3, 'rf_min_samples_split': 0.1}. Best is trial 2 with value: 0.942222981696666.\u001b[0m\n",
      "\u001b[32m[I 2022-10-27 05:33:53,933]\u001b[0m Trial 3 finished with value: 0.6256360598465861 and parameters: {'rf_n_estimators': 500, 'rf_criterion': 'entropy', 'rf_max_depth': 2, 'rf_min_samples_split': 1.0}. Best is trial 2 with value: 0.942222981696666.\u001b[0m\n",
      "\u001b[32m[I 2022-10-27 05:33:57,669]\u001b[0m Trial 4 finished with value: 0.6256360598465861 and parameters: {'rf_n_estimators': 1000, 'rf_criterion': 'entropy', 'rf_max_depth': 2, 'rf_min_samples_split': 1.0}. Best is trial 2 with value: 0.942222981696666.\u001b[0m\n",
      "\u001b[32m[I 2022-10-27 05:33:59,622]\u001b[0m Trial 5 finished with value: 0.6256360598465861 and parameters: {'rf_n_estimators': 500, 'rf_criterion': 'gini', 'rf_max_depth': 1, 'rf_min_samples_split': 1.0}. Best is trial 2 with value: 0.942222981696666.\u001b[0m\n",
      "\u001b[32m[I 2022-10-27 05:34:05,605]\u001b[0m Trial 6 finished with value: 0.9397357028935976 and parameters: {'rf_n_estimators': 1000, 'rf_criterion': 'entropy', 'rf_max_depth': 3, 'rf_min_samples_split': 0.1}. Best is trial 2 with value: 0.942222981696666.\u001b[0m\n",
      "\u001b[32m[I 2022-10-27 05:34:07,402]\u001b[0m Trial 7 finished with value: 0.6256360598465861 and parameters: {'rf_n_estimators': 500, 'rf_criterion': 'gini', 'rf_max_depth': 3, 'rf_min_samples_split': 1.0}. Best is trial 2 with value: 0.942222981696666.\u001b[0m\n",
      "\u001b[32m[I 2022-10-27 05:34:09,661]\u001b[0m Trial 8 finished with value: 0.6256360598465861 and parameters: {'rf_n_estimators': 500, 'rf_criterion': 'entropy', 'rf_max_depth': 3, 'rf_min_samples_split': 1.0}. Best is trial 2 with value: 0.942222981696666.\u001b[0m\n",
      "\u001b[32m[I 2022-10-27 05:34:14,935]\u001b[0m Trial 9 finished with value: 0.942241968557758 and parameters: {'rf_n_estimators': 500, 'rf_criterion': 'gini', 'rf_max_depth': 3, 'rf_min_samples_split': 0.1}. Best is trial 9 with value: 0.942241968557758.\u001b[0m\n",
      "\u001b[32m[I 2022-10-27 05:34:20,332]\u001b[0m Trial 10 finished with value: 0.6256360598465861 and parameters: {'rf_n_estimators': 1000, 'rf_criterion': 'gini', 'rf_max_depth': 2, 'rf_min_samples_split': 1.0}. Best is trial 9 with value: 0.942241968557758.\u001b[0m\n",
      "\u001b[32m[I 2022-10-27 05:34:23,493]\u001b[0m Trial 11 finished with value: 0.9196286169970379 and parameters: {'rf_n_estimators': 500, 'rf_criterion': 'entropy', 'rf_max_depth': 1, 'rf_min_samples_split': 0.1}. Best is trial 9 with value: 0.942241968557758.\u001b[0m\n",
      "\u001b[32m[I 2022-10-27 05:34:25,887]\u001b[0m Trial 12 finished with value: 0.9372294372294373 and parameters: {'rf_n_estimators': 500, 'rf_criterion': 'entropy', 'rf_max_depth': 2, 'rf_min_samples_split': 0.1}. Best is trial 9 with value: 0.942241968557758.\u001b[0m\n",
      "\u001b[32m[I 2022-10-27 05:34:30,537]\u001b[0m Trial 13 finished with value: 0.9171223513328776 and parameters: {'rf_n_estimators': 1000, 'rf_criterion': 'entropy', 'rf_max_depth': 1, 'rf_min_samples_split': 0.1}. Best is trial 9 with value: 0.942241968557758.\u001b[0m\n",
      "\u001b[32m[I 2022-10-27 05:34:30,935]\u001b[0m Trial 14 finished with value: 0.6256360598465861 and parameters: {'rf_n_estimators': 100, 'rf_criterion': 'gini', 'rf_max_depth': 1, 'rf_min_samples_split': 1.0}. Best is trial 9 with value: 0.942241968557758.\u001b[0m\n",
      "\u001b[32m[I 2022-10-27 05:34:31,336]\u001b[0m Trial 15 finished with value: 0.6256360598465861 and parameters: {'rf_n_estimators': 100, 'rf_criterion': 'gini', 'rf_max_depth': 3, 'rf_min_samples_split': 1.0}. Best is trial 9 with value: 0.942241968557758.\u001b[0m\n",
      "\u001b[32m[I 2022-10-27 05:34:31,795]\u001b[0m Trial 16 finished with value: 0.937191463507253 and parameters: {'rf_n_estimators': 100, 'rf_criterion': 'gini', 'rf_max_depth': 2, 'rf_min_samples_split': 0.1}. Best is trial 9 with value: 0.942241968557758.\u001b[0m\n",
      "\u001b[32m[I 2022-10-27 05:34:32,175]\u001b[0m Trial 17 finished with value: 0.6256360598465861 and parameters: {'rf_n_estimators': 100, 'rf_criterion': 'entropy', 'rf_max_depth': 2, 'rf_min_samples_split': 1.0}. Best is trial 9 with value: 0.942241968557758.\u001b[0m\n",
      "\u001b[32m[I 2022-10-27 05:34:34,177]\u001b[0m Trial 18 finished with value: 0.9397167160325055 and parameters: {'rf_n_estimators': 500, 'rf_criterion': 'gini', 'rf_max_depth': 2, 'rf_min_samples_split': 0.1}. Best is trial 9 with value: 0.942241968557758.\u001b[0m\n",
      "\u001b[32m[I 2022-10-27 05:34:35,949]\u001b[0m Trial 19 finished with value: 0.6256360598465861 and parameters: {'rf_n_estimators': 500, 'rf_criterion': 'gini', 'rf_max_depth': 2, 'rf_min_samples_split': 1.0}. Best is trial 9 with value: 0.942241968557758.\u001b[0m\n",
      "\u001b[32m[I 2022-10-27 05:34:37,871]\u001b[0m Trial 20 finished with value: 0.9196476038581302 and parameters: {'rf_n_estimators': 500, 'rf_criterion': 'gini', 'rf_max_depth': 1, 'rf_min_samples_split': 0.1}. Best is trial 9 with value: 0.942241968557758.\u001b[0m\n",
      "\u001b[32m[I 2022-10-27 05:34:41,689]\u001b[0m Trial 21 finished with value: 0.9171223513328776 and parameters: {'rf_n_estimators': 1000, 'rf_criterion': 'gini', 'rf_max_depth': 1, 'rf_min_samples_split': 0.1}. Best is trial 9 with value: 0.942241968557758.\u001b[0m\n",
      "\u001b[32m[I 2022-10-27 05:34:42,136]\u001b[0m Trial 22 finished with value: 0.9221918432444749 and parameters: {'rf_n_estimators': 100, 'rf_criterion': 'entropy', 'rf_max_depth': 1, 'rf_min_samples_split': 0.1}. Best is trial 9 with value: 0.942241968557758.\u001b[0m\n",
      "\u001b[32m[I 2022-10-27 05:34:46,376]\u001b[0m Trial 23 finished with value: 0.937210450368345 and parameters: {'rf_n_estimators': 1000, 'rf_criterion': 'entropy', 'rf_max_depth': 2, 'rf_min_samples_split': 0.1}. Best is trial 9 with value: 0.942241968557758.\u001b[0m\n",
      "\u001b[32m[I 2022-10-27 05:34:50,578]\u001b[0m Trial 24 finished with value: 0.9397357028935976 and parameters: {'rf_n_estimators': 1000, 'rf_criterion': 'gini', 'rf_max_depth': 2, 'rf_min_samples_split': 0.1}. Best is trial 9 with value: 0.942241968557758.\u001b[0m\n",
      "\u001b[32m[I 2022-10-27 05:34:50,961]\u001b[0m Trial 25 finished with value: 0.6256360598465861 and parameters: {'rf_n_estimators': 100, 'rf_criterion': 'entropy', 'rf_max_depth': 1, 'rf_min_samples_split': 1.0}. Best is trial 9 with value: 0.942241968557758.\u001b[0m\n",
      "\u001b[32m[I 2022-10-27 05:34:54,389]\u001b[0m Trial 26 finished with value: 0.6256360598465861 and parameters: {'rf_n_estimators': 1000, 'rf_criterion': 'gini', 'rf_max_depth': 1, 'rf_min_samples_split': 1.0}. Best is trial 9 with value: 0.942241968557758.\u001b[0m\n",
      "\u001b[32m[I 2022-10-27 05:34:54,849]\u001b[0m Trial 27 finished with value: 0.9347231715652767 and parameters: {'rf_n_estimators': 100, 'rf_criterion': 'entropy', 'rf_max_depth': 2, 'rf_min_samples_split': 0.1}. Best is trial 9 with value: 0.942241968557758.\u001b[0m\n",
      "\u001b[32m[I 2022-10-27 05:34:55,238]\u001b[0m Trial 28 finished with value: 0.6256360598465861 and parameters: {'rf_n_estimators': 100, 'rf_criterion': 'gini', 'rf_max_depth': 2, 'rf_min_samples_split': 1.0}. Best is trial 9 with value: 0.942241968557758.\u001b[0m\n",
      "\u001b[32m[I 2022-10-27 05:34:58,841]\u001b[0m Trial 29 finished with value: 0.6256360598465861 and parameters: {'rf_n_estimators': 1000, 'rf_criterion': 'entropy', 'rf_max_depth': 3, 'rf_min_samples_split': 1.0}. Best is trial 9 with value: 0.942241968557758.\u001b[0m\n",
      "\u001b[32m[I 2022-10-27 05:35:02,531]\u001b[0m Trial 30 finished with value: 0.6256360598465861 and parameters: {'rf_n_estimators': 1000, 'rf_criterion': 'gini', 'rf_max_depth': 3, 'rf_min_samples_split': 1.0}. Best is trial 9 with value: 0.942241968557758.\u001b[0m\n",
      "\u001b[32m[I 2022-10-27 05:35:04,355]\u001b[0m Trial 31 finished with value: 0.6256360598465861 and parameters: {'rf_n_estimators': 500, 'rf_criterion': 'entropy', 'rf_max_depth': 1, 'rf_min_samples_split': 1.0}. Best is trial 9 with value: 0.942241968557758.\u001b[0m\n",
      "\u001b[32m[I 2022-10-27 05:35:04,861]\u001b[0m Trial 32 finished with value: 0.937191463507253 and parameters: {'rf_n_estimators': 100, 'rf_criterion': 'entropy', 'rf_max_depth': 3, 'rf_min_samples_split': 0.1}. Best is trial 9 with value: 0.942241968557758.\u001b[0m\n",
      "\u001b[32m[I 2022-10-27 05:35:07,061]\u001b[0m Trial 33 finished with value: 0.937210450368345 and parameters: {'rf_n_estimators': 500, 'rf_criterion': 'entropy', 'rf_max_depth': 3, 'rf_min_samples_split': 0.1}. Best is trial 9 with value: 0.942241968557758.\u001b[0m\n",
      "\u001b[32m[I 2022-10-27 05:35:10,426]\u001b[0m Trial 34 finished with value: 0.6256360598465861 and parameters: {'rf_n_estimators': 1000, 'rf_criterion': 'entropy', 'rf_max_depth': 1, 'rf_min_samples_split': 1.0}. Best is trial 9 with value: 0.942241968557758.\u001b[0m\n",
      "\u001b[32m[I 2022-10-27 05:35:10,875]\u001b[0m Trial 35 finished with value: 0.9196476038581302 and parameters: {'rf_n_estimators': 100, 'rf_criterion': 'gini', 'rf_max_depth': 1, 'rf_min_samples_split': 0.1}. Best is trial 9 with value: 0.942241968557758.\u001b[0m\n"
     ]
    }
   ],
   "source": [
    "study = optuna.create_study(\n",
    "    direction=\"maximize\",\n",
    "    sampler=optuna.samplers.GridSampler(search_space),\n",
    ")\n",
    "\n",
    "study.optimize(objective)"
   ]
  },
  {
   "cell_type": "code",
   "execution_count": 22,
   "metadata": {},
   "outputs": [
    {
     "data": {
      "text/plain": [
       "{'rf_n_estimators': 500,\n",
       " 'rf_criterion': 'gini',\n",
       " 'rf_max_depth': 3,\n",
       " 'rf_min_samples_split': 0.1}"
      ]
     },
     "execution_count": 22,
     "metadata": {},
     "output_type": "execute_result"
    }
   ],
   "source": [
    "study.best_params"
   ]
  },
  {
   "cell_type": "code",
   "execution_count": 23,
   "metadata": {},
   "outputs": [
    {
     "data": {
      "text/plain": [
       "0.942241968557758"
      ]
     },
     "execution_count": 23,
     "metadata": {},
     "output_type": "execute_result"
    }
   ],
   "source": [
    "study.best_value"
   ]
  },
  {
   "cell_type": "code",
   "execution_count": null,
   "metadata": {},
   "outputs": [],
   "source": []
  }
 ],
 "metadata": {
  "kernelspec": {
   "display_name": "Python 3.9.13 ('hyperparameter_optimization_for_machine_learning')",
   "language": "python",
   "name": "python3"
  },
  "language_info": {
   "codemirror_mode": {
    "name": "ipython",
    "version": 3
   },
   "file_extension": ".py",
   "mimetype": "text/x-python",
   "name": "python",
   "nbconvert_exporter": "python",
   "pygments_lexer": "ipython3",
   "version": "3.9.13"
  },
  "orig_nbformat": 4,
  "vscode": {
   "interpreter": {
    "hash": "2f33e3a0ecdca2dfa9e05d6e5730c703bfe1984a713822542070e9abfcf88fe9"
   }
  }
 },
 "nbformat": 4,
 "nbformat_minor": 2
}
