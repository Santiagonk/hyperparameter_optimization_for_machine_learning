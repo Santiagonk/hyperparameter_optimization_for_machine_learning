{
 "cells": [
  {
   "cell_type": "markdown",
   "metadata": {},
   "source": [
    "# Optimization of CNN - TPE"
   ]
  },
  {
   "cell_type": "markdown",
   "metadata": {},
   "source": [
    "In this notebook, we will optimize the hyperparameters of a CNN using the define-by-run model from Optuna."
   ]
  },
  {
   "cell_type": "code",
   "execution_count": 1,
   "metadata": {},
   "outputs": [],
   "source": [
    "# For reproducible results.\n",
    "# See: \n",
    "# https://keras.io/getting_started/faq/#how-can-i-obtain-reproducible-results-using-keras-during-development\n",
    "\n",
    "import os\n",
    "os.environ['PYTHONHASHSEED'] = '0'\n",
    "\n",
    "import numpy as np\n",
    "import tensorflow as tf\n",
    "import random as python_random\n",
    "\n",
    "# The below is necessary for starting Numpy generated random numbers\n",
    "# in a well-defined initial state.\n",
    "np.random.seed(123)\n",
    "\n",
    "# The below is necessary for starting core Python generated random numbers\n",
    "# in a well-defined state.\n",
    "python_random.seed(123)\n",
    "\n",
    "# The below set_seed() will make random number generation\n",
    "# in the TensorFlow backend have a well-defined initial state.\n",
    "# For further details, see:\n",
    "# https://www.tensorflow.org/api_docs/python/tf/random/set_seed\n",
    "tf.random.set_seed(1234)"
   ]
  },
  {
   "cell_type": "code",
   "execution_count": 2,
   "metadata": {},
   "outputs": [],
   "source": [
    "\n",
    "import itertools\n",
    "from functools import partial\n",
    "\n",
    "import pandas as pd\n",
    "import matplotlib.pyplot as plt\n",
    "import seaborn as sns\n",
    "\n",
    "from sklearn.model_selection import train_test_split\n",
    "from sklearn.metrics import confusion_matrix"
   ]
  },
  {
   "cell_type": "code",
   "execution_count": 3,
   "metadata": {},
   "outputs": [],
   "source": [
    "from keras.utils.np_utils import to_categorical\n",
    "from keras.models import Sequential, load_model\n",
    "from keras.layers import Dense, Flatten, Conv2D, MaxPool2D\n",
    "from tensorflow.keras.optimizers import Adam, RMSprop"
   ]
  },
  {
   "cell_type": "code",
   "execution_count": 4,
   "metadata": {},
   "outputs": [],
   "source": [
    "import optuna"
   ]
  },
  {
   "cell_type": "markdown",
   "metadata": {},
   "source": [
    "## Data Preparation"
   ]
  },
  {
   "cell_type": "markdown",
   "metadata": {},
   "source": [
    "The dataset contains information about images, each image is a hand-written digit. The aim is to have the computer predict which digit was written by the person, automatically, by \"looking\" at the image.\n",
    "\n",
    "Each image is 28 pixels in height and 28 pixels in width (28 x 28), making a total of 784 pixels. Each pixel value is an integer between 0 and 255, indicating the darkness in a gray-scale of that pixel.\n",
    "\n",
    "The data is stored in a dataframe where each each pixel is a column (so it is flattened and not in the 28 x 28 format).\n",
    "\n",
    "The data set the has 785 columns. The first column, called \"label\", is the digit that was drawn by the user. The rest of the columns contain the pixel-values of the associated image."
   ]
  },
  {
   "cell_type": "code",
   "execution_count": 5,
   "metadata": {},
   "outputs": [
    {
     "data": {
      "text/html": [
       "<div>\n",
       "<style scoped>\n",
       "    .dataframe tbody tr th:only-of-type {\n",
       "        vertical-align: middle;\n",
       "    }\n",
       "\n",
       "    .dataframe tbody tr th {\n",
       "        vertical-align: top;\n",
       "    }\n",
       "\n",
       "    .dataframe thead th {\n",
       "        text-align: right;\n",
       "    }\n",
       "</style>\n",
       "<table border=\"1\" class=\"dataframe\">\n",
       "  <thead>\n",
       "    <tr style=\"text-align: right;\">\n",
       "      <th></th>\n",
       "      <th>label</th>\n",
       "      <th>pixel0</th>\n",
       "      <th>pixel1</th>\n",
       "      <th>pixel2</th>\n",
       "      <th>pixel3</th>\n",
       "      <th>pixel4</th>\n",
       "      <th>pixel5</th>\n",
       "      <th>pixel6</th>\n",
       "      <th>pixel7</th>\n",
       "      <th>pixel8</th>\n",
       "      <th>...</th>\n",
       "      <th>pixel774</th>\n",
       "      <th>pixel775</th>\n",
       "      <th>pixel776</th>\n",
       "      <th>pixel777</th>\n",
       "      <th>pixel778</th>\n",
       "      <th>pixel779</th>\n",
       "      <th>pixel780</th>\n",
       "      <th>pixel781</th>\n",
       "      <th>pixel782</th>\n",
       "      <th>pixel783</th>\n",
       "    </tr>\n",
       "  </thead>\n",
       "  <tbody>\n",
       "    <tr>\n",
       "      <th>0</th>\n",
       "      <td>1</td>\n",
       "      <td>0</td>\n",
       "      <td>0</td>\n",
       "      <td>0</td>\n",
       "      <td>0</td>\n",
       "      <td>0</td>\n",
       "      <td>0</td>\n",
       "      <td>0</td>\n",
       "      <td>0</td>\n",
       "      <td>0</td>\n",
       "      <td>...</td>\n",
       "      <td>0</td>\n",
       "      <td>0</td>\n",
       "      <td>0</td>\n",
       "      <td>0</td>\n",
       "      <td>0</td>\n",
       "      <td>0</td>\n",
       "      <td>0</td>\n",
       "      <td>0</td>\n",
       "      <td>0</td>\n",
       "      <td>0</td>\n",
       "    </tr>\n",
       "    <tr>\n",
       "      <th>1</th>\n",
       "      <td>0</td>\n",
       "      <td>0</td>\n",
       "      <td>0</td>\n",
       "      <td>0</td>\n",
       "      <td>0</td>\n",
       "      <td>0</td>\n",
       "      <td>0</td>\n",
       "      <td>0</td>\n",
       "      <td>0</td>\n",
       "      <td>0</td>\n",
       "      <td>...</td>\n",
       "      <td>0</td>\n",
       "      <td>0</td>\n",
       "      <td>0</td>\n",
       "      <td>0</td>\n",
       "      <td>0</td>\n",
       "      <td>0</td>\n",
       "      <td>0</td>\n",
       "      <td>0</td>\n",
       "      <td>0</td>\n",
       "      <td>0</td>\n",
       "    </tr>\n",
       "    <tr>\n",
       "      <th>2</th>\n",
       "      <td>1</td>\n",
       "      <td>0</td>\n",
       "      <td>0</td>\n",
       "      <td>0</td>\n",
       "      <td>0</td>\n",
       "      <td>0</td>\n",
       "      <td>0</td>\n",
       "      <td>0</td>\n",
       "      <td>0</td>\n",
       "      <td>0</td>\n",
       "      <td>...</td>\n",
       "      <td>0</td>\n",
       "      <td>0</td>\n",
       "      <td>0</td>\n",
       "      <td>0</td>\n",
       "      <td>0</td>\n",
       "      <td>0</td>\n",
       "      <td>0</td>\n",
       "      <td>0</td>\n",
       "      <td>0</td>\n",
       "      <td>0</td>\n",
       "    </tr>\n",
       "    <tr>\n",
       "      <th>3</th>\n",
       "      <td>4</td>\n",
       "      <td>0</td>\n",
       "      <td>0</td>\n",
       "      <td>0</td>\n",
       "      <td>0</td>\n",
       "      <td>0</td>\n",
       "      <td>0</td>\n",
       "      <td>0</td>\n",
       "      <td>0</td>\n",
       "      <td>0</td>\n",
       "      <td>...</td>\n",
       "      <td>0</td>\n",
       "      <td>0</td>\n",
       "      <td>0</td>\n",
       "      <td>0</td>\n",
       "      <td>0</td>\n",
       "      <td>0</td>\n",
       "      <td>0</td>\n",
       "      <td>0</td>\n",
       "      <td>0</td>\n",
       "      <td>0</td>\n",
       "    </tr>\n",
       "    <tr>\n",
       "      <th>4</th>\n",
       "      <td>0</td>\n",
       "      <td>0</td>\n",
       "      <td>0</td>\n",
       "      <td>0</td>\n",
       "      <td>0</td>\n",
       "      <td>0</td>\n",
       "      <td>0</td>\n",
       "      <td>0</td>\n",
       "      <td>0</td>\n",
       "      <td>0</td>\n",
       "      <td>...</td>\n",
       "      <td>0</td>\n",
       "      <td>0</td>\n",
       "      <td>0</td>\n",
       "      <td>0</td>\n",
       "      <td>0</td>\n",
       "      <td>0</td>\n",
       "      <td>0</td>\n",
       "      <td>0</td>\n",
       "      <td>0</td>\n",
       "      <td>0</td>\n",
       "    </tr>\n",
       "  </tbody>\n",
       "</table>\n",
       "<p>5 rows × 785 columns</p>\n",
       "</div>"
      ],
      "text/plain": [
       "   label  pixel0  pixel1  pixel2  pixel3  pixel4  pixel5  pixel6  pixel7  \\\n",
       "0      1       0       0       0       0       0       0       0       0   \n",
       "1      0       0       0       0       0       0       0       0       0   \n",
       "2      1       0       0       0       0       0       0       0       0   \n",
       "3      4       0       0       0       0       0       0       0       0   \n",
       "4      0       0       0       0       0       0       0       0       0   \n",
       "\n",
       "   pixel8  ...  pixel774  pixel775  pixel776  pixel777  pixel778  pixel779  \\\n",
       "0       0  ...         0         0         0         0         0         0   \n",
       "1       0  ...         0         0         0         0         0         0   \n",
       "2       0  ...         0         0         0         0         0         0   \n",
       "3       0  ...         0         0         0         0         0         0   \n",
       "4       0  ...         0         0         0         0         0         0   \n",
       "\n",
       "   pixel780  pixel781  pixel782  pixel783  \n",
       "0         0         0         0         0  \n",
       "1         0         0         0         0  \n",
       "2         0         0         0         0  \n",
       "3         0         0         0         0  \n",
       "4         0         0         0         0  \n",
       "\n",
       "[5 rows x 785 columns]"
      ]
     },
     "execution_count": 5,
     "metadata": {},
     "output_type": "execute_result"
    }
   ],
   "source": [
    "# Load the data\n",
    "\n",
    "data = pd.read_csv(\"../../data/processed/mnist.csv\")\n",
    "\n",
    "# first column is the target, the rest of the columns\n",
    "# are the pixels of the image\n",
    "\n",
    "# each row is 1 image\n",
    "data.head()"
   ]
  },
  {
   "cell_type": "code",
   "execution_count": 6,
   "metadata": {},
   "outputs": [
    {
     "data": {
      "text/plain": [
       "((37800, 784), (4200, 784))"
      ]
     },
     "execution_count": 6,
     "metadata": {},
     "output_type": "execute_result"
    }
   ],
   "source": [
    "# split dataset into a train and test set\n",
    "\n",
    "X_train, X_test, y_train, y_test = train_test_split(\n",
    "    data.drop(['label'], axis=1), # the images\n",
    "    data['label'], # the target\n",
    "    test_size = 0.1,\n",
    "    random_state=0)\n",
    "\n",
    "X_train.shape, X_test.shape"
   ]
  },
  {
   "cell_type": "code",
   "execution_count": 7,
   "metadata": {},
   "outputs": [
    {
     "data": {
      "text/plain": [
       "Text(0, 0.5, 'Number of images')"
      ]
     },
     "execution_count": 7,
     "metadata": {},
     "output_type": "execute_result"
    },
    {
     "data": {
      "image/png": "[encoded data removed]",
      "text/plain": [
       "<Figure size 432x288 with 1 Axes>"
      ]
     },
     "metadata": {
      "needs_background": "light"
     },
     "output_type": "display_data"
    }
   ],
   "source": [
    "# number of images for each digit\n",
    "\n",
    "g = sns.countplot(x=y_train)\n",
    "plt.xlabel('Digits')\n",
    "plt.ylabel('Number of images')"
   ]
  },
  {
   "cell_type": "markdown",
   "metadata": {},
   "source": [
    "There are roughly the same amount of images for each of the 10 digits."
   ]
  },
  {
   "cell_type": "markdown",
   "metadata": {},
   "source": [
    "### Image re-scaling"
   ]
  },
  {
   "cell_type": "markdown",
   "metadata": {},
   "source": [
    "We re-scale data for the CNN, between 0 and 1."
   ]
  },
  {
   "cell_type": "code",
   "execution_count": 8,
   "metadata": {},
   "outputs": [],
   "source": [
    "# Re-scale the data\n",
    "\n",
    "# 255 is the maximum value a pixel can take\n",
    "\n",
    "X_train = X_train / 255\n",
    "X_test = X_test / 255"
   ]
  },
  {
   "cell_type": "markdown",
   "metadata": {},
   "source": [
    "### Reshape"
   ]
  },
  {
   "cell_type": "markdown",
   "metadata": {},
   "source": [
    "The images were stored in a pandas dataframe as 1-D vectors of 784 values. For a CNN with Keras, we need tensors with the following dimensions: width x height x channel.\n",
    "\n",
    "Thus, we reshape all data to 28 x 2 8 x 1, 3-D matrices.\n",
    "\n",
    "The 3rd dimension corresponds to the channel. RGB images have 3 channels. MNIST images are in gray-scale, thus they have only one channel in the 3rd dimension."
   ]
  },
  {
   "cell_type": "code",
   "execution_count": 9,
   "metadata": {},
   "outputs": [],
   "source": [
    "# Reshape image in 3 dimensions:\n",
    "# height: 28px X width: 28px X channel: 1 \n",
    "\n",
    "X_train = X_train.values.reshape(-1,28,28,1)\n",
    "X_test = X_test.values.reshape(-1,28,28,1)"
   ]
  },
  {
   "cell_type": "markdown",
   "metadata": {},
   "source": [
    "### Target encoding"
   ]
  },
  {
   "cell_type": "code",
   "execution_count": 10,
   "metadata": {},
   "outputs": [
    {
     "data": {
      "text/plain": [
       "array([2, 0, 7, 4, 3, 5, 9, 6, 8, 1])"
      ]
     },
     "execution_count": 10,
     "metadata": {},
     "output_type": "execute_result"
    }
   ],
   "source": [
    "# the target is 1 variable with the 9 different digits\n",
    "# as values\n",
    "\n",
    "y_train.unique()"
   ]
  },
  {
   "cell_type": "code",
   "execution_count": 11,
   "metadata": {},
   "outputs": [
    {
     "data": {
      "text/plain": [
       "array([[0., 0., 1., ..., 0., 0., 0.],\n",
       "       [0., 0., 1., ..., 0., 0., 0.],\n",
       "       [1., 0., 0., ..., 0., 0., 0.],\n",
       "       ...,\n",
       "       [0., 0., 0., ..., 0., 0., 1.],\n",
       "       [1., 0., 0., ..., 0., 0., 0.],\n",
       "       [0., 0., 0., ..., 0., 0., 1.]], dtype=float32)"
      ]
     },
     "execution_count": 11,
     "metadata": {},
     "output_type": "execute_result"
    }
   ],
   "source": [
    "# For Keras, we need to create 10 dummy variables,\n",
    "# one for each digit\n",
    "\n",
    "# Encode labels to one hot vectors (ex : digit 2 -> [0,0,1,0,0,0,0,0,0,0])\n",
    "\n",
    "y_train = to_categorical(y_train, num_classes = 10)\n",
    "y_test = to_categorical(y_test, num_classes = 10)\n",
    "\n",
    "# the new target\n",
    "y_train"
   ]
  },
  {
   "cell_type": "markdown",
   "metadata": {},
   "source": [
    "Let's print some example images."
   ]
  },
  {
   "cell_type": "code",
   "execution_count": 12,
   "metadata": {},
   "outputs": [
    {
     "data": {
      "image/png": "[encoded data removed]",
      "text/plain": [
       "<Figure size 432x288 with 1 Axes>"
      ]
     },
     "metadata": {
      "needs_background": "light"
     },
     "output_type": "display_data"
    }
   ],
   "source": [
    "# Some image examples \n",
    "\n",
    "g = plt.imshow(X_train[0][:,:,0])"
   ]
  },
  {
   "cell_type": "code",
   "execution_count": 13,
   "metadata": {},
   "outputs": [
    {
     "data": {
      "image/png": "[encoded data removed]",
      "text/plain": [
       "<Figure size 432x288 with 1 Axes>"
      ]
     },
     "metadata": {
      "needs_background": "light"
     },
     "output_type": "display_data"
    }
   ],
   "source": [
    "# Some image examples \n",
    "\n",
    "g = plt.imshow(X_train[10][:,:,0])"
   ]
  },
  {
   "cell_type": "markdown",
   "metadata": {},
   "source": [
    "## Define-by-Run design"
   ]
  },
  {
   "cell_type": "markdown",
   "metadata": {},
   "source": [
    "We create the CNN and add the sampling space for the hyperparameters as we go. This is the Desing-by-run concept."
   ]
  },
  {
   "cell_type": "code",
   "execution_count": 14,
   "metadata": {},
   "outputs": [],
   "source": [
    "# we will save the model with this name\n",
    "path_best_model = 'cnn_model_2.h5'\n",
    "\n",
    "# starting point for the optimization\n",
    "best_accuracy = 0"
   ]
  },
  {
   "cell_type": "code",
   "execution_count": 15,
   "metadata": {},
   "outputs": [],
   "source": [
    "# function to create the CNN\n",
    "\n",
    "def objective(trial):\n",
    "\n",
    "    # Start construction of a Keras Sequential model.\n",
    "    model = Sequential()\n",
    "\n",
    "    # Convolutional layers.\n",
    "\n",
    "    # We add the different number of conv layers in the following loop:\n",
    "    num_conv_layers = trial.suggest_int('num_conv_layers', 1, 3)\n",
    "\n",
    "    for i in range(num_conv_layers):\n",
    "        \n",
    "        # Note, with this configuration, we sample different filters, kernels\n",
    "        # stride etc, for each convolutional layer that we add\n",
    "\n",
    "        model.add(Conv2D(\n",
    "            filters=trial.suggest_categorical('filters_{}'.format(i), [16, 32, 64]),\n",
    "            kernel_size=trial.suggest_categorical('kernel_size{}'.format(i), [3, 5]),\n",
    "            strides=trial.suggest_categorical('strides{}'.format(i), [1, 2]),\n",
    "            activation=trial.suggest_categorical(\n",
    "                'activation{}'.format(i), ['relu', 'tanh']),\n",
    "            padding='same',\n",
    "        ))\n",
    "\n",
    "    # we could also optimize these parameters if we wanted:\n",
    "    model.add(MaxPool2D(pool_size=2, strides=2))\n",
    "\n",
    "    # Flatten the 4-rank output of the convolutional layers\n",
    "    # to 2-rank that can be input to a fully-connected Dense layer.\n",
    "    model.add(Flatten())\n",
    "\n",
    "    # Add fully-connected Dense layers.\n",
    "    # The number of layers is a hyper-parameter we want to optimize.\n",
    "    # We add the different number of layers in the following loop:\n",
    "\n",
    "    num_dense_layers = trial.suggest_int('num_dense_layers', 1, 3)\n",
    "\n",
    "    for i in range(num_dense_layers):\n",
    "\n",
    "        # Add the dense fully-connected layer to the model.\n",
    "        # This has two hyper-parameters we want to optimize:\n",
    "        # The number of nodes (neurons) and the activation function.\n",
    "        model.add(Dense(\n",
    "            units=trial.suggest_int('units{}'.format(i), 5, 512),\n",
    "            activation=trial.suggest_categorical(\n",
    "                'activation{}'.format(i), ['relu', 'tanh']),\n",
    "        ))\n",
    "\n",
    "    # Last fully-connected dense layer with softmax-activation\n",
    "    # for use in classification.\n",
    "    model.add(Dense(10, activation='softmax'))\n",
    "\n",
    "    # Use the Adam method for training the network.\n",
    "    optimizer_name = trial.suggest_categorical(\n",
    "        'optimizer_name', ['Adam', 'RMSprop'])\n",
    "\n",
    "    if optimizer_name == 'Adam':\n",
    "        optimizer = Adam(lr=trial.suggest_float('learning_rate',  1e-6, 1e-2))\n",
    "    else:\n",
    "        optimizer = RMSprop(\n",
    "            lr=trial.suggest_float('learning_rate',  1e-6, 1e-2),\n",
    "            momentum=trial.suggest_float('momentum',  0.1, 0.9),\n",
    "        )\n",
    "\n",
    "    # In Keras we need to compile the model so it can be trained.\n",
    "    model.compile(optimizer=optimizer,\n",
    "                  loss='categorical_crossentropy',\n",
    "                  metrics=['accuracy'])\n",
    "\n",
    "    # train the model\n",
    "    # we use 3 epochs to be able to run the notebook in a \"reasonable\"\n",
    "    # time. If we increase the epochs, we will have better performance\n",
    "    # this could be another parameter to optimize in fact.\n",
    "    history = model.fit(\n",
    "        x=X_train,\n",
    "        y=y_train,\n",
    "        epochs=3,\n",
    "        batch_size=128,\n",
    "        validation_split=0.1,\n",
    "    )\n",
    "\n",
    "    # Get the classification accuracy on the validation-set\n",
    "    # after the last training-epoch.\n",
    "    accuracy = history.history['val_accuracy'][-1]\n",
    "\n",
    "    # Save the model if it improves on the best-found performance.\n",
    "    # We use the global keyword so we update the variable outside\n",
    "    # of this function.\n",
    "    global best_accuracy\n",
    "\n",
    "    # If the classification accuracy of the saved model is improved ...\n",
    "    if accuracy > best_accuracy:\n",
    "        # Save the new model to harddisk.\n",
    "        # Training CNNs is costly, so we want to avoid having to re-train\n",
    "        # the network with the best found parameters. We save it instead\n",
    "        # as we search for the best hyperparam space.\n",
    "        model.save(path_best_model)\n",
    "\n",
    "        # Update the classification accuracy.\n",
    "        best_accuracy = accuracy\n",
    "\n",
    "    # Delete the Keras model with these hyper-parameters from memory.\n",
    "    del model\n",
    "\n",
    "    # Remember that Scikit-optimize always minimizes the objective\n",
    "    # function, so we need to negate the accuracy (because we want\n",
    "    # the maximum accuracy)\n",
    "    return accuracy"
   ]
  },
  {
   "cell_type": "code",
   "execution_count": 16,
   "metadata": {},
   "outputs": [],
   "source": [
    "# we need this to store the search\n",
    "# we will use it in the following notebook\n",
    "\n",
    "study_name = \"cnn_study_2\"  # unique identifier of the study.\n",
    "storage_name = \"sqlite:///{}.db\".format(study_name)"
   ]
  },
  {
   "cell_type": "code",
   "execution_count": 17,
   "metadata": {},
   "outputs": [
    {
     "name": "stderr",
     "output_type": "stream",
     "text": [
      "\u001b[32m[I 2022-11-02 06:25:16,418]\u001b[0m A new study created in RDB with name: cnn_study_2\u001b[0m\n",
      "2022-11-02 06:25:16.626478: I tensorflow/core/platform/cpu_feature_guard.cc:151] This TensorFlow binary is optimized with oneAPI Deep Neural Network Library (oneDNN) to use the following CPU instructions in performance-critical operations:  SSE4.1 SSE4.2 AVX AVX2 AVX512F FMA\n",
      "To enable them in other operations, rebuild TensorFlow with the appropriate compiler flags.\n",
      "/home/santiago/anaconda3/envs/hyperparameter_optimization_for_machine_learning/lib/python3.9/site-packages/keras/optimizer_v2/adam.py:105: UserWarning: The `lr` argument is deprecated, use `learning_rate` instead.\n",
      "  super(Adam, self).__init__(name, **kwargs)\n"
     ]
    },
    {
     "name": "stdout",
     "output_type": "stream",
     "text": [
      "Epoch 1/3\n",
      "266/266 [==============================] - 17s 60ms/step - loss: 0.2522 - accuracy: 0.9194 - val_loss: 0.0948 - val_accuracy: 0.9698\n",
      "Epoch 2/3\n",
      "266/266 [==============================] - 15s 58ms/step - loss: 0.0710 - accuracy: 0.9777 - val_loss: 0.0710 - val_accuracy: 0.9765\n",
      "Epoch 3/3\n",
      "266/266 [==============================] - 16s 61ms/step - loss: 0.0464 - accuracy: 0.9851 - val_loss: 0.0935 - val_accuracy: 0.9762\n"
     ]
    },
    {
     "name": "stderr",
     "output_type": "stream",
     "text": [
      "\u001b[32m[I 2022-11-02 06:26:07,150]\u001b[0m Trial 0 finished with value: 0.976190447807312 and parameters: {'num_conv_layers': 3, 'filters_0': 64, 'kernel_size0': 5, 'strides0': 2, 'activation0': 'relu', 'filters_1': 16, 'kernel_size1': 3, 'strides1': 2, 'activation1': 'relu', 'filters_2': 16, 'kernel_size2': 5, 'strides2': 1, 'activation2': 'tanh', 'num_dense_layers': 1, 'units0': 313, 'optimizer_name': 'Adam', 'learning_rate': 0.0030866103653692397}. Best is trial 0 with value: 0.976190447807312.\u001b[0m\n"
     ]
    },
    {
     "name": "stdout",
     "output_type": "stream",
     "text": [
      "Epoch 1/3\n",
      "266/266 [==============================] - 8s 28ms/step - loss: 0.2751 - accuracy: 0.9125 - val_loss: 0.1668 - val_accuracy: 0.9481\n",
      "Epoch 2/3\n",
      "266/266 [==============================] - 5s 19ms/step - loss: 0.1156 - accuracy: 0.9636 - val_loss: 0.1264 - val_accuracy: 0.9601\n",
      "Epoch 3/3\n",
      "266/266 [==============================] - 6s 21ms/step - loss: 0.0817 - accuracy: 0.9735 - val_loss: 0.1063 - val_accuracy: 0.9653\n"
     ]
    },
    {
     "name": "stderr",
     "output_type": "stream",
     "text": [
      "\u001b[32m[I 2022-11-02 06:26:28,446]\u001b[0m Trial 1 finished with value: 0.9653438925743103 and parameters: {'num_conv_layers': 1, 'filters_0': 16, 'kernel_size0': 3, 'strides0': 2, 'activation0': 'tanh', 'num_dense_layers': 3, 'units0': 54, 'units1': 194, 'activation1': 'relu', 'units2': 221, 'activation2': 'tanh', 'optimizer_name': 'Adam', 'learning_rate': 0.003917740237946297}. Best is trial 0 with value: 0.976190447807312.\u001b[0m\n"
     ]
    },
    {
     "name": "stdout",
     "output_type": "stream",
     "text": [
      "Epoch 1/3\n",
      "266/266 [==============================] - 21s 78ms/step - loss: 0.4310 - accuracy: 0.8810 - val_loss: 0.1799 - val_accuracy: 0.9492\n",
      "Epoch 2/3\n",
      "266/266 [==============================] - 22s 83ms/step - loss: 0.1202 - accuracy: 0.9646 - val_loss: 0.1103 - val_accuracy: 0.9677\n",
      "Epoch 3/3\n",
      "266/266 [==============================] - 18s 69ms/step - loss: 0.0771 - accuracy: 0.9779 - val_loss: 0.0803 - val_accuracy: 0.9765\n"
     ]
    },
    {
     "name": "stderr",
     "output_type": "stream",
     "text": [
      "\u001b[32m[I 2022-11-02 06:27:32,842]\u001b[0m Trial 2 finished with value: 0.97645503282547 and parameters: {'num_conv_layers': 2, 'filters_0': 16, 'kernel_size0': 5, 'strides0': 2, 'activation0': 'tanh', 'filters_1': 32, 'kernel_size1': 5, 'strides1': 1, 'activation1': 'tanh', 'num_dense_layers': 1, 'units0': 75, 'optimizer_name': 'Adam', 'learning_rate': 0.0004817495426487812}. Best is trial 2 with value: 0.97645503282547.\u001b[0m\n"
     ]
    },
    {
     "name": "stdout",
     "output_type": "stream",
     "text": [
      "Epoch 1/3\n",
      "266/266 [==============================] - 7s 25ms/step - loss: 0.1744 - accuracy: 0.9461 - val_loss: 0.0773 - val_accuracy: 0.9778\n",
      "Epoch 2/3\n",
      "266/266 [==============================] - 6s 21ms/step - loss: 0.0541 - accuracy: 0.9834 - val_loss: 0.0877 - val_accuracy: 0.9783\n",
      "Epoch 3/3\n",
      "266/266 [==============================] - 6s 22ms/step - loss: 0.0368 - accuracy: 0.9880 - val_loss: 0.0688 - val_accuracy: 0.9815\n"
     ]
    },
    {
     "name": "stderr",
     "output_type": "stream",
     "text": [
      "\u001b[32m[I 2022-11-02 06:27:53,310]\u001b[0m Trial 3 finished with value: 0.9814814925193787 and parameters: {'num_conv_layers': 1, 'filters_0': 64, 'kernel_size0': 5, 'strides0': 2, 'activation0': 'relu', 'num_dense_layers': 1, 'units0': 127, 'optimizer_name': 'Adam', 'learning_rate': 0.007223760764614529}. Best is trial 3 with value: 0.9814814925193787.\u001b[0m\n",
      "/home/santiago/anaconda3/envs/hyperparameter_optimization_for_machine_learning/lib/python3.9/site-packages/keras/optimizer_v2/rmsprop.py:130: UserWarning: The `lr` argument is deprecated, use `learning_rate` instead.\n",
      "  super(RMSprop, self).__init__(name, **kwargs)\n"
     ]
    },
    {
     "name": "stdout",
     "output_type": "stream",
     "text": [
      "Epoch 1/3\n",
      "266/266 [==============================] - 10s 38ms/step - loss: 0.3939 - accuracy: 0.9087 - val_loss: 0.1392 - val_accuracy: 0.9640\n",
      "Epoch 2/3\n",
      "266/266 [==============================] - 9s 36ms/step - loss: 0.1004 - accuracy: 0.9729 - val_loss: 0.1088 - val_accuracy: 0.9754\n",
      "Epoch 3/3\n",
      "266/266 [==============================] - 10s 39ms/step - loss: 0.0744 - accuracy: 0.9795 - val_loss: 0.1262 - val_accuracy: 0.9735\n"
     ]
    },
    {
     "name": "stderr",
     "output_type": "stream",
     "text": [
      "\u001b[32m[I 2022-11-02 06:28:25,315]\u001b[0m Trial 4 finished with value: 0.9735449552536011 and parameters: {'num_conv_layers': 1, 'filters_0': 64, 'kernel_size0': 5, 'strides0': 2, 'activation0': 'tanh', 'num_dense_layers': 1, 'units0': 498, 'optimizer_name': 'RMSprop', 'learning_rate': 0.004285699648795418, 'momentum': 0.45904007295396354}. Best is trial 3 with value: 0.9814814925193787.\u001b[0m\n"
     ]
    },
    {
     "name": "stdout",
     "output_type": "stream",
     "text": [
      "Epoch 1/3\n",
      "266/266 [==============================] - 72s 268ms/step - loss: 2.3210 - accuracy: 0.1063 - val_loss: 2.3023 - val_accuracy: 0.1037\n",
      "Epoch 2/3\n",
      "266/266 [==============================] - 77s 290ms/step - loss: 2.3018 - accuracy: 0.1095 - val_loss: 2.3007 - val_accuracy: 0.1146\n",
      "Epoch 3/3\n",
      "266/266 [==============================] - 93s 349ms/step - loss: 2.3017 - accuracy: 0.1111 - val_loss: 2.3018 - val_accuracy: 0.1146\n"
     ]
    },
    {
     "name": "stderr",
     "output_type": "stream",
     "text": [
      "\u001b[32m[I 2022-11-02 06:32:30,450]\u001b[0m Trial 5 finished with value: 0.11455026268959045 and parameters: {'num_conv_layers': 3, 'filters_0': 32, 'kernel_size0': 3, 'strides0': 1, 'activation0': 'relu', 'filters_1': 16, 'kernel_size1': 5, 'strides1': 1, 'activation1': 'tanh', 'filters_2': 16, 'kernel_size2': 3, 'strides2': 1, 'activation2': 'relu', 'num_dense_layers': 3, 'units0': 378, 'units1': 467, 'units2': 463, 'optimizer_name': 'Adam', 'learning_rate': 0.008458644726745554}. Best is trial 3 with value: 0.9814814925193787.\u001b[0m\n"
     ]
    },
    {
     "name": "stdout",
     "output_type": "stream",
     "text": [
      "Epoch 1/3\n",
      "266/266 [==============================] - 24s 88ms/step - loss: 2.6828 - accuracy: 0.1062 - val_loss: 2.3021 - val_accuracy: 0.0997\n",
      "Epoch 2/3\n",
      "266/266 [==============================] - 20s 76ms/step - loss: 2.3025 - accuracy: 0.1101 - val_loss: 2.3021 - val_accuracy: 0.1146\n",
      "Epoch 3/3\n",
      "266/266 [==============================] - 21s 78ms/step - loss: 2.3023 - accuracy: 0.1093 - val_loss: 2.3033 - val_accuracy: 0.0960\n"
     ]
    },
    {
     "name": "stderr",
     "output_type": "stream",
     "text": [
      "\u001b[32m[I 2022-11-02 06:33:37,844]\u001b[0m Trial 6 finished with value: 0.09603174775838852 and parameters: {'num_conv_layers': 1, 'filters_0': 32, 'kernel_size0': 5, 'strides0': 1, 'activation0': 'tanh', 'num_dense_layers': 3, 'units0': 422, 'units1': 437, 'activation1': 'relu', 'units2': 240, 'activation2': 'relu', 'optimizer_name': 'RMSprop', 'learning_rate': 0.007221507376696458, 'momentum': 0.5462505220651009}. Best is trial 3 with value: 0.9814814925193787.\u001b[0m\n"
     ]
    },
    {
     "name": "stdout",
     "output_type": "stream",
     "text": [
      "Epoch 1/3\n",
      "266/266 [==============================] - 35s 131ms/step - loss: 0.2053 - accuracy: 0.9340 - val_loss: 0.0851 - val_accuracy: 0.9757\n",
      "Epoch 2/3\n",
      "266/266 [==============================] - 27s 100ms/step - loss: 0.0702 - accuracy: 0.9785 - val_loss: 0.0930 - val_accuracy: 0.9751\n",
      "Epoch 3/3\n",
      "266/266 [==============================] - 28s 106ms/step - loss: 0.0569 - accuracy: 0.9822 - val_loss: 0.1087 - val_accuracy: 0.9730\n"
     ]
    },
    {
     "name": "stderr",
     "output_type": "stream",
     "text": [
      "\u001b[32m[I 2022-11-02 06:35:10,391]\u001b[0m Trial 7 finished with value: 0.9730158448219299 and parameters: {'num_conv_layers': 3, 'filters_0': 32, 'kernel_size0': 3, 'strides0': 2, 'activation0': 'tanh', 'filters_1': 64, 'kernel_size1': 3, 'strides1': 1, 'activation1': 'relu', 'filters_2': 64, 'kernel_size2': 5, 'strides2': 2, 'activation2': 'relu', 'num_dense_layers': 2, 'units0': 418, 'units1': 409, 'optimizer_name': 'RMSprop', 'learning_rate': 0.0007768318073146631, 'momentum': 0.74715728728586}. Best is trial 3 with value: 0.9814814925193787.\u001b[0m\n"
     ]
    },
    {
     "name": "stdout",
     "output_type": "stream",
     "text": [
      "Epoch 1/3\n",
      "266/266 [==============================] - 8s 30ms/step - loss: 0.1680 - accuracy: 0.9460 - val_loss: 0.0806 - val_accuracy: 0.9762\n",
      "Epoch 2/3\n",
      "266/266 [==============================] - 8s 32ms/step - loss: 0.0523 - accuracy: 0.9831 - val_loss: 0.0742 - val_accuracy: 0.9783\n",
      "Epoch 3/3\n",
      "266/266 [==============================] - 7s 28ms/step - loss: 0.0320 - accuracy: 0.9892 - val_loss: 0.0800 - val_accuracy: 0.9786\n"
     ]
    },
    {
     "name": "stderr",
     "output_type": "stream",
     "text": [
      "\u001b[32m[I 2022-11-02 06:35:35,658]\u001b[0m Trial 8 finished with value: 0.9785714149475098 and parameters: {'num_conv_layers': 1, 'filters_0': 64, 'kernel_size0': 5, 'strides0': 2, 'activation0': 'relu', 'num_dense_layers': 1, 'units0': 389, 'optimizer_name': 'Adam', 'learning_rate': 0.00540924383066792}. Best is trial 3 with value: 0.9814814925193787.\u001b[0m\n"
     ]
    },
    {
     "name": "stdout",
     "output_type": "stream",
     "text": [
      "Epoch 1/3\n",
      "266/266 [==============================] - 20s 72ms/step - loss: 11.9101 - accuracy: 0.1014 - val_loss: 10.2912 - val_accuracy: 0.0960\n",
      "Epoch 2/3\n",
      "266/266 [==============================] - 19s 71ms/step - loss: 9.2978 - accuracy: 0.1033 - val_loss: 12.1466 - val_accuracy: 0.0960\n",
      "Epoch 3/3\n",
      "266/266 [==============================] - 13s 48ms/step - loss: 8.7724 - accuracy: 0.1001 - val_loss: 10.8666 - val_accuracy: 0.1045\n"
     ]
    },
    {
     "name": "stderr",
     "output_type": "stream",
     "text": [
      "\u001b[32m[I 2022-11-02 06:36:29,693]\u001b[0m Trial 9 finished with value: 0.10449735820293427 and parameters: {'num_conv_layers': 3, 'filters_0': 64, 'kernel_size0': 3, 'strides0': 2, 'activation0': 'tanh', 'filters_1': 16, 'kernel_size1': 5, 'strides1': 2, 'activation1': 'tanh', 'filters_2': 32, 'kernel_size2': 3, 'strides2': 1, 'activation2': 'tanh', 'num_dense_layers': 3, 'units0': 156, 'units1': 145, 'units2': 416, 'optimizer_name': 'RMSprop', 'learning_rate': 0.00788823546854365, 'momentum': 0.8928102073612976}. Best is trial 3 with value: 0.9814814925193787.\u001b[0m\n"
     ]
    },
    {
     "name": "stdout",
     "output_type": "stream",
     "text": [
      "Epoch 1/3\n",
      "266/266 [==============================] - 26s 98ms/step - loss: 0.1913 - accuracy: 0.9404 - val_loss: 0.1235 - val_accuracy: 0.9643\n",
      "Epoch 2/3\n",
      "266/266 [==============================] - 26s 97ms/step - loss: 0.0767 - accuracy: 0.9771 - val_loss: 0.0822 - val_accuracy: 0.9778\n",
      "Epoch 3/3\n",
      "266/266 [==============================] - 24s 89ms/step - loss: 0.0695 - accuracy: 0.9798 - val_loss: 0.0779 - val_accuracy: 0.9778\n"
     ]
    },
    {
     "name": "stderr",
     "output_type": "stream",
     "text": [
      "\u001b[32m[I 2022-11-02 06:37:47,884]\u001b[0m Trial 10 finished with value: 0.9777777791023254 and parameters: {'num_conv_layers': 2, 'filters_0': 64, 'kernel_size0': 5, 'strides0': 1, 'activation0': 'relu', 'filters_1': 32, 'kernel_size1': 3, 'strides1': 2, 'activation1': 'tanh', 'num_dense_layers': 2, 'units0': 193, 'units1': 44, 'optimizer_name': 'Adam', 'learning_rate': 0.00621980645911461}. Best is trial 3 with value: 0.9814814925193787.\u001b[0m\n"
     ]
    },
    {
     "name": "stdout",
     "output_type": "stream",
     "text": [
      "Epoch 1/3\n",
      "266/266 [==============================] - 6s 23ms/step - loss: 0.1758 - accuracy: 0.9433 - val_loss: 0.1016 - val_accuracy: 0.9706\n",
      "Epoch 2/3\n",
      "266/266 [==============================] - 6s 22ms/step - loss: 0.0539 - accuracy: 0.9831 - val_loss: 0.0702 - val_accuracy: 0.9799\n",
      "Epoch 3/3\n",
      "266/266 [==============================] - 6s 23ms/step - loss: 0.0341 - accuracy: 0.9891 - val_loss: 0.0698 - val_accuracy: 0.9812\n"
     ]
    },
    {
     "name": "stderr",
     "output_type": "stream",
     "text": [
      "\u001b[32m[I 2022-11-02 06:38:07,762]\u001b[0m Trial 11 finished with value: 0.9812169075012207 and parameters: {'num_conv_layers': 1, 'filters_0': 64, 'kernel_size0': 5, 'strides0': 2, 'activation0': 'relu', 'num_dense_layers': 1, 'units0': 215, 'optimizer_name': 'Adam', 'learning_rate': 0.0058431191664021056}. Best is trial 3 with value: 0.9814814925193787.\u001b[0m\n"
     ]
    },
    {
     "name": "stdout",
     "output_type": "stream",
     "text": [
      "Epoch 1/3\n",
      "266/266 [==============================] - 10s 38ms/step - loss: 0.2605 - accuracy: 0.9179 - val_loss: 0.1844 - val_accuracy: 0.9492\n",
      "Epoch 2/3\n",
      "266/266 [==============================] - 9s 33ms/step - loss: 0.1117 - accuracy: 0.9681 - val_loss: 0.1124 - val_accuracy: 0.9701\n",
      "Epoch 3/3\n",
      "266/266 [==============================] - 9s 34ms/step - loss: 0.1073 - accuracy: 0.9723 - val_loss: 0.1637 - val_accuracy: 0.9706\n"
     ]
    },
    {
     "name": "stderr",
     "output_type": "stream",
     "text": [
      "\u001b[32m[I 2022-11-02 06:38:38,418]\u001b[0m Trial 12 finished with value: 0.970634937286377 and parameters: {'num_conv_layers': 2, 'filters_0': 64, 'kernel_size0': 5, 'strides0': 2, 'activation0': 'relu', 'filters_1': 64, 'kernel_size1': 3, 'strides1': 2, 'activation1': 'tanh', 'num_dense_layers': 2, 'units0': 223, 'units1': 319, 'optimizer_name': 'Adam', 'learning_rate': 0.009544868743640116}. Best is trial 3 with value: 0.9814814925193787.\u001b[0m\n"
     ]
    },
    {
     "name": "stdout",
     "output_type": "stream",
     "text": [
      "Epoch 1/3\n",
      "266/266 [==============================] - 7s 24ms/step - loss: 0.1825 - accuracy: 0.9416 - val_loss: 0.0918 - val_accuracy: 0.9709\n",
      "Epoch 2/3\n",
      "266/266 [==============================] - 5s 21ms/step - loss: 0.0550 - accuracy: 0.9832 - val_loss: 0.0856 - val_accuracy: 0.9749\n",
      "Epoch 3/3\n",
      "266/266 [==============================] - 5s 20ms/step - loss: 0.0325 - accuracy: 0.9894 - val_loss: 0.0873 - val_accuracy: 0.9754\n"
     ]
    },
    {
     "name": "stderr",
     "output_type": "stream",
     "text": [
      "\u001b[32m[I 2022-11-02 06:38:57,564]\u001b[0m Trial 13 finished with value: 0.9753968119621277 and parameters: {'num_conv_layers': 1, 'filters_0': 64, 'kernel_size0': 5, 'strides0': 2, 'activation0': 'relu', 'num_dense_layers': 1, 'units0': 130, 'optimizer_name': 'Adam', 'learning_rate': 0.006258492890293699}. Best is trial 3 with value: 0.9814814925193787.\u001b[0m\n"
     ]
    },
    {
     "name": "stdout",
     "output_type": "stream",
     "text": [
      "Epoch 1/3\n",
      "266/266 [==============================] - 21s 79ms/step - loss: 0.1542 - accuracy: 0.9516 - val_loss: 0.0746 - val_accuracy: 0.9770\n",
      "Epoch 2/3\n",
      "266/266 [==============================] - 22s 82ms/step - loss: 0.0437 - accuracy: 0.9857 - val_loss: 0.0545 - val_accuracy: 0.9847\n",
      "Epoch 3/3\n",
      "266/266 [==============================] - 21s 79ms/step - loss: 0.0247 - accuracy: 0.9923 - val_loss: 0.0530 - val_accuracy: 0.9868\n"
     ]
    },
    {
     "name": "stderr",
     "output_type": "stream",
     "text": [
      "\u001b[32m[I 2022-11-02 06:40:03,774]\u001b[0m Trial 14 finished with value: 0.9867724776268005 and parameters: {'num_conv_layers': 1, 'filters_0': 64, 'kernel_size0': 5, 'strides0': 1, 'activation0': 'relu', 'num_dense_layers': 1, 'units0': 261, 'optimizer_name': 'Adam', 'learning_rate': 0.0028338694471854854}. Best is trial 14 with value: 0.9867724776268005.\u001b[0m\n"
     ]
    },
    {
     "name": "stdout",
     "output_type": "stream",
     "text": [
      "Epoch 1/3\n",
      "266/266 [==============================] - 50s 186ms/step - loss: 0.1778 - accuracy: 0.9446 - val_loss: 0.0829 - val_accuracy: 0.9759\n",
      "Epoch 2/3\n",
      "266/266 [==============================] - 55s 207ms/step - loss: 0.0454 - accuracy: 0.9855 - val_loss: 0.0717 - val_accuracy: 0.9770\n",
      "Epoch 3/3\n",
      "266/266 [==============================] - 56s 210ms/step - loss: 0.0302 - accuracy: 0.9898 - val_loss: 0.0554 - val_accuracy: 0.9836\n"
     ]
    },
    {
     "name": "stderr",
     "output_type": "stream",
     "text": [
      "\u001b[32m[I 2022-11-02 06:42:46,625]\u001b[0m Trial 15 finished with value: 0.9835978746414185 and parameters: {'num_conv_layers': 2, 'filters_0': 16, 'kernel_size0': 5, 'strides0': 1, 'activation0': 'relu', 'filters_1': 32, 'kernel_size1': 5, 'strides1': 1, 'activation1': 'relu', 'num_dense_layers': 2, 'units0': 301, 'units1': 297, 'optimizer_name': 'Adam', 'learning_rate': 0.002180067618764775}. Best is trial 14 with value: 0.9867724776268005.\u001b[0m\n"
     ]
    },
    {
     "name": "stdout",
     "output_type": "stream",
     "text": [
      "Epoch 1/3\n",
      "266/266 [==============================] - 51s 189ms/step - loss: 0.1711 - accuracy: 0.9447 - val_loss: 0.0777 - val_accuracy: 0.9772\n",
      "Epoch 2/3\n",
      "266/266 [==============================] - 49s 186ms/step - loss: 0.0468 - accuracy: 0.9853 - val_loss: 0.0742 - val_accuracy: 0.9815\n",
      "Epoch 3/3\n",
      "266/266 [==============================] - 50s 186ms/step - loss: 0.0290 - accuracy: 0.9909 - val_loss: 0.0539 - val_accuracy: 0.9841\n"
     ]
    },
    {
     "name": "stderr",
     "output_type": "stream",
     "text": [
      "\u001b[32m[I 2022-11-02 06:45:18,256]\u001b[0m Trial 16 finished with value: 0.9841269850730896 and parameters: {'num_conv_layers': 2, 'filters_0': 16, 'kernel_size0': 5, 'strides0': 1, 'activation0': 'relu', 'filters_1': 32, 'kernel_size1': 5, 'strides1': 1, 'activation1': 'relu', 'num_dense_layers': 2, 'units0': 325, 'units1': 304, 'optimizer_name': 'Adam', 'learning_rate': 0.0020009790401971225}. Best is trial 14 with value: 0.9867724776268005.\u001b[0m\n"
     ]
    },
    {
     "name": "stdout",
     "output_type": "stream",
     "text": [
      "Epoch 1/3\n",
      "266/266 [==============================] - 50s 186ms/step - loss: 0.1772 - accuracy: 0.9427 - val_loss: 0.0702 - val_accuracy: 0.9765\n",
      "Epoch 2/3\n",
      "266/266 [==============================] - 48s 182ms/step - loss: 0.0446 - accuracy: 0.9859 - val_loss: 0.0598 - val_accuracy: 0.9833\n",
      "Epoch 3/3\n",
      "266/266 [==============================] - 49s 185ms/step - loss: 0.0295 - accuracy: 0.9905 - val_loss: 0.0665 - val_accuracy: 0.9810\n"
     ]
    },
    {
     "name": "stderr",
     "output_type": "stream",
     "text": [
      "\u001b[32m[I 2022-11-02 06:47:47,803]\u001b[0m Trial 17 finished with value: 0.9809523820877075 and parameters: {'num_conv_layers': 2, 'filters_0': 16, 'kernel_size0': 5, 'strides0': 1, 'activation0': 'relu', 'filters_1': 32, 'kernel_size1': 5, 'strides1': 1, 'activation1': 'relu', 'num_dense_layers': 2, 'units0': 280, 'units1': 218, 'optimizer_name': 'Adam', 'learning_rate': 0.0021758108415847587}. Best is trial 14 with value: 0.9867724776268005.\u001b[0m\n"
     ]
    },
    {
     "name": "stdout",
     "output_type": "stream",
     "text": [
      "Epoch 1/3\n",
      "266/266 [==============================] - 47s 177ms/step - loss: 0.2373 - accuracy: 0.9252 - val_loss: 0.0726 - val_accuracy: 0.9783\n",
      "Epoch 2/3\n",
      "266/266 [==============================] - 47s 175ms/step - loss: 0.0535 - accuracy: 0.9837 - val_loss: 0.0741 - val_accuracy: 0.9788\n",
      "Epoch 3/3\n",
      "266/266 [==============================] - 46s 172ms/step - loss: 0.0314 - accuracy: 0.9895 - val_loss: 0.0650 - val_accuracy: 0.9841\n"
     ]
    },
    {
     "name": "stderr",
     "output_type": "stream",
     "text": [
      "\u001b[32m[I 2022-11-02 06:50:09,870]\u001b[0m Trial 18 finished with value: 0.9841269850730896 and parameters: {'num_conv_layers': 2, 'filters_0': 16, 'kernel_size0': 3, 'strides0': 1, 'activation0': 'relu', 'filters_1': 32, 'kernel_size1': 5, 'strides1': 1, 'activation1': 'relu', 'num_dense_layers': 2, 'units0': 331, 'units1': 354, 'optimizer_name': 'RMSprop', 'learning_rate': 0.0017171043093157671, 'momentum': 0.17820390993383567}. Best is trial 14 with value: 0.9867724776268005.\u001b[0m\n"
     ]
    },
    {
     "name": "stdout",
     "output_type": "stream",
     "text": [
      "Epoch 1/3\n",
      "266/266 [==============================] - 69s 260ms/step - loss: 0.2213 - accuracy: 0.9299 - val_loss: 0.0774 - val_accuracy: 0.9775\n",
      "Epoch 2/3\n",
      "266/266 [==============================] - 70s 263ms/step - loss: 0.0458 - accuracy: 0.9855 - val_loss: 0.0468 - val_accuracy: 0.9857\n",
      "Epoch 3/3\n",
      "266/266 [==============================] - 87s 326ms/step - loss: 0.0261 - accuracy: 0.9913 - val_loss: 0.0717 - val_accuracy: 0.9860\n"
     ]
    },
    {
     "name": "stderr",
     "output_type": "stream",
     "text": [
      "\u001b[32m[I 2022-11-02 06:53:58,314]\u001b[0m Trial 19 finished with value: 0.9859788417816162 and parameters: {'num_conv_layers': 2, 'filters_0': 16, 'kernel_size0': 3, 'strides0': 1, 'activation0': 'relu', 'filters_1': 64, 'kernel_size1': 5, 'strides1': 1, 'activation1': 'relu', 'num_dense_layers': 2, 'units0': 506, 'units1': 372, 'optimizer_name': 'RMSprop', 'learning_rate': 0.001330903194762583, 'momentum': 0.1267095625513292}. Best is trial 14 with value: 0.9867724776268005.\u001b[0m\n"
     ]
    },
    {
     "name": "stdout",
     "output_type": "stream",
     "text": [
      "Epoch 1/3\n",
      "266/266 [==============================] - 194s 728ms/step - loss: 2.3029 - accuracy: 0.1063 - val_loss: 2.3022 - val_accuracy: 0.0786\n",
      "Epoch 2/3\n",
      "266/266 [==============================] - 132s 493ms/step - loss: 2.3009 - accuracy: 0.0800 - val_loss: 2.2995 - val_accuracy: 0.0862\n",
      "Epoch 3/3\n",
      "266/266 [==============================] - 120s 452ms/step - loss: 2.2982 - accuracy: 0.0949 - val_loss: 2.2968 - val_accuracy: 0.0923\n"
     ]
    },
    {
     "name": "stderr",
     "output_type": "stream",
     "text": [
      "\u001b[32m[I 2022-11-02 07:01:27,598]\u001b[0m Trial 20 finished with value: 0.0923280417919159 and parameters: {'num_conv_layers': 3, 'filters_0': 16, 'kernel_size0': 3, 'strides0': 1, 'activation0': 'relu', 'filters_1': 64, 'kernel_size1': 5, 'strides1': 1, 'activation1': 'relu', 'filters_2': 32, 'kernel_size2': 5, 'strides2': 2, 'activation2': 'relu', 'num_dense_layers': 2, 'units0': 5, 'units1': 84, 'optimizer_name': 'RMSprop', 'learning_rate': 1.8852549784230052e-06, 'momentum': 0.10201017105268086}. Best is trial 14 with value: 0.9867724776268005.\u001b[0m\n"
     ]
    },
    {
     "name": "stdout",
     "output_type": "stream",
     "text": [
      "Epoch 1/3\n",
      "266/266 [==============================] - 106s 395ms/step - loss: 0.2122 - accuracy: 0.9333 - val_loss: 0.0746 - val_accuracy: 0.9794\n",
      "Epoch 2/3\n",
      "266/266 [==============================] - 112s 420ms/step - loss: 0.0462 - accuracy: 0.9851 - val_loss: 0.0729 - val_accuracy: 0.9825\n",
      "Epoch 3/3\n",
      "266/266 [==============================] - 121s 455ms/step - loss: 0.0266 - accuracy: 0.9918 - val_loss: 0.0565 - val_accuracy: 0.9857\n"
     ]
    },
    {
     "name": "stderr",
     "output_type": "stream",
     "text": [
      "\u001b[32m[I 2022-11-02 07:07:08,690]\u001b[0m Trial 21 finished with value: 0.9857142567634583 and parameters: {'num_conv_layers': 2, 'filters_0': 16, 'kernel_size0': 3, 'strides0': 1, 'activation0': 'relu', 'filters_1': 64, 'kernel_size1': 5, 'strides1': 1, 'activation1': 'relu', 'num_dense_layers': 2, 'units0': 506, 'units1': 370, 'optimizer_name': 'RMSprop', 'learning_rate': 0.001288128923092043, 'momentum': 0.10423148765413416}. Best is trial 14 with value: 0.9867724776268005.\u001b[0m\n"
     ]
    },
    {
     "name": "stdout",
     "output_type": "stream",
     "text": [
      "Epoch 1/3\n",
      "266/266 [==============================] - 111s 410ms/step - loss: 0.2392 - accuracy: 0.9251 - val_loss: 0.0850 - val_accuracy: 0.9775\n",
      "Epoch 2/3\n",
      "266/266 [==============================] - 99s 370ms/step - loss: 0.0575 - accuracy: 0.9829 - val_loss: 0.0793 - val_accuracy: 0.9802\n",
      "Epoch 3/3\n",
      "266/266 [==============================] - 107s 401ms/step - loss: 0.0401 - accuracy: 0.9880 - val_loss: 0.0715 - val_accuracy: 0.9815\n"
     ]
    },
    {
     "name": "stderr",
     "output_type": "stream",
     "text": [
      "\u001b[32m[I 2022-11-02 07:12:29,754]\u001b[0m Trial 22 finished with value: 0.9814814925193787 and parameters: {'num_conv_layers': 2, 'filters_0': 16, 'kernel_size0': 3, 'strides0': 1, 'activation0': 'relu', 'filters_1': 64, 'kernel_size1': 5, 'strides1': 1, 'activation1': 'relu', 'num_dense_layers': 2, 'units0': 512, 'units1': 503, 'optimizer_name': 'RMSprop', 'learning_rate': 0.003129471061359427, 'momentum': 0.28912888792517755}. Best is trial 14 with value: 0.9867724776268005.\u001b[0m\n"
     ]
    },
    {
     "name": "stdout",
     "output_type": "stream",
     "text": [
      "Epoch 1/3\n",
      "266/266 [==============================] - 118s 440ms/step - loss: 0.2419 - accuracy: 0.9328 - val_loss: 0.0779 - val_accuracy: 0.9804\n",
      "Epoch 2/3\n",
      "266/266 [==============================] - 131s 491ms/step - loss: 0.0573 - accuracy: 0.9845 - val_loss: 0.0540 - val_accuracy: 0.9847\n",
      "Epoch 3/3\n",
      "266/266 [==============================] - 148s 559ms/step - loss: 0.0361 - accuracy: 0.9897 - val_loss: 0.0643 - val_accuracy: 0.9833\n"
     ]
    },
    {
     "name": "stderr",
     "output_type": "stream",
     "text": [
      "\u001b[32m[I 2022-11-02 07:19:08,971]\u001b[0m Trial 23 finished with value: 0.9833333492279053 and parameters: {'num_conv_layers': 2, 'filters_0': 16, 'kernel_size0': 3, 'strides0': 1, 'activation0': 'relu', 'filters_1': 64, 'kernel_size1': 5, 'strides1': 1, 'activation1': 'relu', 'num_dense_layers': 3, 'units0': 464, 'units1': 387, 'units2': 22, 'activation2': 'tanh', 'optimizer_name': 'RMSprop', 'learning_rate': 0.0011661915199328533, 'momentum': 0.3159056013700471}. Best is trial 14 with value: 0.9867724776268005.\u001b[0m\n"
     ]
    },
    {
     "name": "stdout",
     "output_type": "stream",
     "text": [
      "Epoch 1/3\n",
      "266/266 [==============================] - 115s 431ms/step - loss: 0.2013 - accuracy: 0.9390 - val_loss: 0.0732 - val_accuracy: 0.9772\n",
      "Epoch 2/3\n",
      "266/266 [==============================] - 122s 459ms/step - loss: 0.0474 - accuracy: 0.9852 - val_loss: 0.0458 - val_accuracy: 0.9849\n",
      "Epoch 3/3\n",
      "266/266 [==============================] - 101s 379ms/step - loss: 0.0292 - accuracy: 0.9899 - val_loss: 0.0570 - val_accuracy: 0.9854\n"
     ]
    },
    {
     "name": "stderr",
     "output_type": "stream",
     "text": [
      "\u001b[32m[I 2022-11-02 07:24:49,650]\u001b[0m Trial 24 finished with value: 0.9854497313499451 and parameters: {'num_conv_layers': 2, 'filters_0': 16, 'kernel_size0': 3, 'strides0': 1, 'activation0': 'relu', 'filters_1': 64, 'kernel_size1': 5, 'strides1': 1, 'activation1': 'relu', 'num_dense_layers': 1, 'units0': 473, 'optimizer_name': 'RMSprop', 'learning_rate': 0.0031002986858196776, 'momentum': 0.2402606066635143}. Best is trial 14 with value: 0.9867724776268005.\u001b[0m\n"
     ]
    },
    {
     "name": "stdout",
     "output_type": "stream",
     "text": [
      "Epoch 1/3\n",
      "266/266 [==============================] - 22s 79ms/step - loss: 0.2472 - accuracy: 0.9270 - val_loss: 0.0913 - val_accuracy: 0.9754\n",
      "Epoch 2/3\n",
      "266/266 [==============================] - 20s 74ms/step - loss: 0.0673 - accuracy: 0.9799 - val_loss: 0.0835 - val_accuracy: 0.9796\n",
      "Epoch 3/3\n",
      "266/266 [==============================] - 16s 61ms/step - loss: 0.0419 - accuracy: 0.9871 - val_loss: 0.0917 - val_accuracy: 0.9762\n"
     ]
    },
    {
     "name": "stderr",
     "output_type": "stream",
     "text": [
      "\u001b[32m[I 2022-11-02 07:25:49,477]\u001b[0m Trial 25 finished with value: 0.976190447807312 and parameters: {'num_conv_layers': 1, 'filters_0': 32, 'kernel_size0': 3, 'strides0': 1, 'activation0': 'relu', 'num_dense_layers': 2, 'units0': 448, 'units1': 272, 'activation1': 'relu', 'optimizer_name': 'RMSprop', 'learning_rate': 0.004266894084953242, 'momentum': 0.4260908689604914}. Best is trial 14 with value: 0.9867724776268005.\u001b[0m\n"
     ]
    },
    {
     "name": "stdout",
     "output_type": "stream",
     "text": [
      "Epoch 1/3\n",
      "266/266 [==============================] - 86s 322ms/step - loss: 0.2099 - accuracy: 0.9365 - val_loss: 0.0805 - val_accuracy: 0.9788\n",
      "Epoch 2/3\n",
      "266/266 [==============================] - 85s 320ms/step - loss: 0.0476 - accuracy: 0.9849 - val_loss: 0.0544 - val_accuracy: 0.9857\n",
      "Epoch 3/3\n",
      "266/266 [==============================] - 79s 296ms/step - loss: 0.0274 - accuracy: 0.9911 - val_loss: 0.0560 - val_accuracy: 0.9854\n"
     ]
    },
    {
     "name": "stderr",
     "output_type": "stream",
     "text": [
      "\u001b[32m[I 2022-11-02 07:30:02,151]\u001b[0m Trial 26 finished with value: 0.9854497313499451 and parameters: {'num_conv_layers': 2, 'filters_0': 16, 'kernel_size0': 3, 'strides0': 1, 'activation0': 'relu', 'filters_1': 64, 'kernel_size1': 5, 'strides1': 1, 'activation1': 'relu', 'num_dense_layers': 2, 'units0': 367, 'units1': 363, 'optimizer_name': 'RMSprop', 'learning_rate': 0.0014922302907587435, 'momentum': 0.13391442141067555}. Best is trial 14 with value: 0.9867724776268005.\u001b[0m\n"
     ]
    },
    {
     "name": "stdout",
     "output_type": "stream",
     "text": [
      "Epoch 1/3\n",
      "266/266 [==============================] - 20s 72ms/step - loss: 0.5430 - accuracy: 0.8167 - val_loss: 0.1805 - val_accuracy: 0.9476\n",
      "Epoch 2/3\n",
      "266/266 [==============================] - 20s 75ms/step - loss: 0.1498 - accuracy: 0.9586 - val_loss: 0.1363 - val_accuracy: 0.9640\n",
      "Epoch 3/3\n",
      "266/266 [==============================] - 21s 80ms/step - loss: 0.1127 - accuracy: 0.9710 - val_loss: 0.1354 - val_accuracy: 0.9640\n"
     ]
    },
    {
     "name": "stderr",
     "output_type": "stream",
     "text": [
      "\u001b[32m[I 2022-11-02 07:31:06,725]\u001b[0m Trial 27 finished with value: 0.9640211462974548 and parameters: {'num_conv_layers': 3, 'filters_0': 16, 'kernel_size0': 3, 'strides0': 1, 'activation0': 'relu', 'filters_1': 64, 'kernel_size1': 3, 'strides1': 2, 'activation1': 'tanh', 'filters_2': 64, 'kernel_size2': 3, 'strides2': 2, 'activation2': 'relu', 'num_dense_layers': 3, 'units0': 482, 'units1': 512, 'units2': 37, 'optimizer_name': 'RMSprop', 'learning_rate': 0.002765100694350875, 'momentum': 0.5959766490332757}. Best is trial 14 with value: 0.9867724776268005.\u001b[0m\n"
     ]
    },
    {
     "name": "stdout",
     "output_type": "stream",
     "text": [
      "Epoch 1/3\n",
      "266/266 [==============================] - 10s 38ms/step - loss: 0.4263 - accuracy: 0.8841 - val_loss: 0.2373 - val_accuracy: 0.9310\n",
      "Epoch 2/3\n",
      "266/266 [==============================] - 10s 37ms/step - loss: 0.1816 - accuracy: 0.9469 - val_loss: 0.1755 - val_accuracy: 0.9521\n",
      "Epoch 3/3\n",
      "266/266 [==============================] - 10s 39ms/step - loss: 0.1237 - accuracy: 0.9634 - val_loss: 0.1448 - val_accuracy: 0.9603\n"
     ]
    },
    {
     "name": "stderr",
     "output_type": "stream",
     "text": [
      "\u001b[32m[I 2022-11-02 07:31:39,379]\u001b[0m Trial 28 finished with value: 0.9603174328804016 and parameters: {'num_conv_layers': 1, 'filters_0': 16, 'kernel_size0': 3, 'strides0': 1, 'activation0': 'relu', 'num_dense_layers': 1, 'units0': 431, 'optimizer_name': 'RMSprop', 'learning_rate': 0.00020574488311417933, 'momentum': 0.36175085954416514}. Best is trial 14 with value: 0.9867724776268005.\u001b[0m\n"
     ]
    },
    {
     "name": "stdout",
     "output_type": "stream",
     "text": [
      "Epoch 1/3\n",
      "266/266 [==============================] - 318s 1s/step - loss: 1.1572 - accuracy: 0.6650 - val_loss: 0.3796 - val_accuracy: 0.8807\n",
      "Epoch 2/3\n",
      "266/266 [==============================] - 300s 1s/step - loss: 0.1169 - accuracy: 0.9659 - val_loss: 0.1129 - val_accuracy: 0.9690\n",
      "Epoch 3/3\n",
      "266/266 [==============================] - 299s 1s/step - loss: 0.0769 - accuracy: 0.9762 - val_loss: 0.0770 - val_accuracy: 0.9780\n"
     ]
    },
    {
     "name": "stderr",
     "output_type": "stream",
     "text": [
      "\u001b[32m[I 2022-11-02 07:46:59,140]\u001b[0m Trial 29 finished with value: 0.9780423045158386 and parameters: {'num_conv_layers': 3, 'filters_0': 32, 'kernel_size0': 3, 'strides0': 1, 'activation0': 'relu', 'filters_1': 64, 'kernel_size1': 5, 'strides1': 1, 'activation1': 'relu', 'filters_2': 64, 'kernel_size2': 5, 'strides2': 1, 'activation2': 'tanh', 'num_dense_layers': 2, 'units0': 271, 'units1': 240, 'optimizer_name': 'RMSprop', 'learning_rate': 0.003704085247378293, 'momentum': 0.20317086915986413}. Best is trial 14 with value: 0.9867724776268005.\u001b[0m\n"
     ]
    }
   ],
   "source": [
    "study = optuna.create_study(\n",
    "    direction='maximize',\n",
    "    study_name=study_name,\n",
    "    storage=storage_name,\n",
    "    load_if_exists=True,\n",
    ")\n",
    "\n",
    "study.optimize(objective, n_trials=30)"
   ]
  },
  {
   "cell_type": "markdown",
   "metadata": {},
   "source": [
    "## Analyze results"
   ]
  },
  {
   "cell_type": "code",
   "execution_count": 18,
   "metadata": {},
   "outputs": [
    {
     "data": {
      "text/plain": [
       "{'activation0': 'relu',\n",
       " 'filters_0': 64,\n",
       " 'kernel_size0': 5,\n",
       " 'learning_rate': 0.0028338694471854854,\n",
       " 'num_conv_layers': 1,\n",
       " 'num_dense_layers': 1,\n",
       " 'optimizer_name': 'Adam',\n",
       " 'strides0': 1,\n",
       " 'units0': 261}"
      ]
     },
     "execution_count": 18,
     "metadata": {},
     "output_type": "execute_result"
    }
   ],
   "source": [
    "study.best_params"
   ]
  },
  {
   "cell_type": "code",
   "execution_count": 19,
   "metadata": {},
   "outputs": [
    {
     "data": {
      "text/plain": [
       "0.9867724776268005"
      ]
     },
     "execution_count": 19,
     "metadata": {},
     "output_type": "execute_result"
    }
   ],
   "source": [
    "study.best_value"
   ]
  },
  {
   "cell_type": "code",
   "execution_count": 20,
   "metadata": {},
   "outputs": [
    {
     "data": {
      "text/plain": [
       "Text(0, 0.5, 'Accuracy')"
      ]
     },
     "execution_count": 20,
     "metadata": {},
     "output_type": "execute_result"
    },
    {
     "data": {
      "image/png": "[encoded data removed]",
      "text/plain": [
       "<Figure size 432x288 with 1 Axes>"
      ]
     },
     "metadata": {
      "needs_background": "light"
     },
     "output_type": "display_data"
    }
   ],
   "source": [
    "results = study.trials_dataframe()\n",
    "\n",
    "results['value'].sort_values().reset_index(drop=True).plot()\n",
    "plt.title('Convergence plot')\n",
    "plt.xlabel('Iteration')\n",
    "plt.ylabel('Accuracy')"
   ]
  },
  {
   "cell_type": "code",
   "execution_count": 21,
   "metadata": {},
   "outputs": [
    {
     "data": {
      "text/html": [
       "<div>\n",
       "<style scoped>\n",
       "    .dataframe tbody tr th:only-of-type {\n",
       "        vertical-align: middle;\n",
       "    }\n",
       "\n",
       "    .dataframe tbody tr th {\n",
       "        vertical-align: top;\n",
       "    }\n",
       "\n",
       "    .dataframe thead th {\n",
       "        text-align: right;\n",
       "    }\n",
       "</style>\n",
       "<table border=\"1\" class=\"dataframe\">\n",
       "  <thead>\n",
       "    <tr style=\"text-align: right;\">\n",
       "      <th></th>\n",
       "      <th>number</th>\n",
       "      <th>value</th>\n",
       "      <th>datetime_start</th>\n",
       "      <th>datetime_complete</th>\n",
       "      <th>duration</th>\n",
       "      <th>params_activation0</th>\n",
       "      <th>params_activation1</th>\n",
       "      <th>params_activation2</th>\n",
       "      <th>params_filters_0</th>\n",
       "      <th>params_filters_1</th>\n",
       "      <th>...</th>\n",
       "      <th>params_num_conv_layers</th>\n",
       "      <th>params_num_dense_layers</th>\n",
       "      <th>params_optimizer_name</th>\n",
       "      <th>params_strides0</th>\n",
       "      <th>params_strides1</th>\n",
       "      <th>params_strides2</th>\n",
       "      <th>params_units0</th>\n",
       "      <th>params_units1</th>\n",
       "      <th>params_units2</th>\n",
       "      <th>state</th>\n",
       "    </tr>\n",
       "  </thead>\n",
       "  <tbody>\n",
       "    <tr>\n",
       "      <th>0</th>\n",
       "      <td>0</td>\n",
       "      <td>0.976190</td>\n",
       "      <td>2022-11-02 06:25:16.585833</td>\n",
       "      <td>2022-11-02 06:26:06.962406</td>\n",
       "      <td>0 days 00:00:50.376573</td>\n",
       "      <td>relu</td>\n",
       "      <td>relu</td>\n",
       "      <td>tanh</td>\n",
       "      <td>64</td>\n",
       "      <td>16.0</td>\n",
       "      <td>...</td>\n",
       "      <td>3</td>\n",
       "      <td>1</td>\n",
       "      <td>Adam</td>\n",
       "      <td>2</td>\n",
       "      <td>2.0</td>\n",
       "      <td>1.0</td>\n",
       "      <td>313</td>\n",
       "      <td>NaN</td>\n",
       "      <td>NaN</td>\n",
       "      <td>COMPLETE</td>\n",
       "    </tr>\n",
       "    <tr>\n",
       "      <th>1</th>\n",
       "      <td>1</td>\n",
       "      <td>0.965344</td>\n",
       "      <td>2022-11-02 06:26:07.203034</td>\n",
       "      <td>2022-11-02 06:26:28.220684</td>\n",
       "      <td>0 days 00:00:21.017650</td>\n",
       "      <td>tanh</td>\n",
       "      <td>relu</td>\n",
       "      <td>tanh</td>\n",
       "      <td>16</td>\n",
       "      <td>NaN</td>\n",
       "      <td>...</td>\n",
       "      <td>1</td>\n",
       "      <td>3</td>\n",
       "      <td>Adam</td>\n",
       "      <td>2</td>\n",
       "      <td>NaN</td>\n",
       "      <td>NaN</td>\n",
       "      <td>54</td>\n",
       "      <td>194.0</td>\n",
       "      <td>221.0</td>\n",
       "      <td>COMPLETE</td>\n",
       "    </tr>\n",
       "    <tr>\n",
       "      <th>2</th>\n",
       "      <td>2</td>\n",
       "      <td>0.976455</td>\n",
       "      <td>2022-11-02 06:26:28.524815</td>\n",
       "      <td>2022-11-02 06:27:32.638142</td>\n",
       "      <td>0 days 00:01:04.113327</td>\n",
       "      <td>tanh</td>\n",
       "      <td>tanh</td>\n",
       "      <td>NaN</td>\n",
       "      <td>16</td>\n",
       "      <td>32.0</td>\n",
       "      <td>...</td>\n",
       "      <td>2</td>\n",
       "      <td>1</td>\n",
       "      <td>Adam</td>\n",
       "      <td>2</td>\n",
       "      <td>1.0</td>\n",
       "      <td>NaN</td>\n",
       "      <td>75</td>\n",
       "      <td>NaN</td>\n",
       "      <td>NaN</td>\n",
       "      <td>COMPLETE</td>\n",
       "    </tr>\n",
       "    <tr>\n",
       "      <th>3</th>\n",
       "      <td>3</td>\n",
       "      <td>0.981481</td>\n",
       "      <td>2022-11-02 06:27:32.890276</td>\n",
       "      <td>2022-11-02 06:27:53.049733</td>\n",
       "      <td>0 days 00:00:20.159457</td>\n",
       "      <td>relu</td>\n",
       "      <td>NaN</td>\n",
       "      <td>NaN</td>\n",
       "      <td>64</td>\n",
       "      <td>NaN</td>\n",
       "      <td>...</td>\n",
       "      <td>1</td>\n",
       "      <td>1</td>\n",
       "      <td>Adam</td>\n",
       "      <td>2</td>\n",
       "      <td>NaN</td>\n",
       "      <td>NaN</td>\n",
       "      <td>127</td>\n",
       "      <td>NaN</td>\n",
       "      <td>NaN</td>\n",
       "      <td>COMPLETE</td>\n",
       "    </tr>\n",
       "    <tr>\n",
       "      <th>4</th>\n",
       "      <td>4</td>\n",
       "      <td>0.973545</td>\n",
       "      <td>2022-11-02 06:27:53.349801</td>\n",
       "      <td>2022-11-02 06:28:25.034381</td>\n",
       "      <td>0 days 00:00:31.684580</td>\n",
       "      <td>tanh</td>\n",
       "      <td>NaN</td>\n",
       "      <td>NaN</td>\n",
       "      <td>64</td>\n",
       "      <td>NaN</td>\n",
       "      <td>...</td>\n",
       "      <td>1</td>\n",
       "      <td>1</td>\n",
       "      <td>RMSprop</td>\n",
       "      <td>2</td>\n",
       "      <td>NaN</td>\n",
       "      <td>NaN</td>\n",
       "      <td>498</td>\n",
       "      <td>NaN</td>\n",
       "      <td>NaN</td>\n",
       "      <td>COMPLETE</td>\n",
       "    </tr>\n",
       "  </tbody>\n",
       "</table>\n",
       "<p>5 rows × 26 columns</p>\n",
       "</div>"
      ],
      "text/plain": [
       "   number     value             datetime_start          datetime_complete  \\\n",
       "0       0  0.976190 2022-11-02 06:25:16.585833 2022-11-02 06:26:06.962406   \n",
       "1       1  0.965344 2022-11-02 06:26:07.203034 2022-11-02 06:26:28.220684   \n",
       "2       2  0.976455 2022-11-02 06:26:28.524815 2022-11-02 06:27:32.638142   \n",
       "3       3  0.981481 2022-11-02 06:27:32.890276 2022-11-02 06:27:53.049733   \n",
       "4       4  0.973545 2022-11-02 06:27:53.349801 2022-11-02 06:28:25.034381   \n",
       "\n",
       "                duration params_activation0 params_activation1  \\\n",
       "0 0 days 00:00:50.376573               relu               relu   \n",
       "1 0 days 00:00:21.017650               tanh               relu   \n",
       "2 0 days 00:01:04.113327               tanh               tanh   \n",
       "3 0 days 00:00:20.159457               relu                NaN   \n",
       "4 0 days 00:00:31.684580               tanh                NaN   \n",
       "\n",
       "  params_activation2  params_filters_0  params_filters_1  ...  \\\n",
       "0               tanh                64              16.0  ...   \n",
       "1               tanh                16               NaN  ...   \n",
       "2                NaN                16              32.0  ...   \n",
       "3                NaN                64               NaN  ...   \n",
       "4                NaN                64               NaN  ...   \n",
       "\n",
       "   params_num_conv_layers  params_num_dense_layers  params_optimizer_name  \\\n",
       "0                       3                        1                   Adam   \n",
       "1                       1                        3                   Adam   \n",
       "2                       2                        1                   Adam   \n",
       "3                       1                        1                   Adam   \n",
       "4                       1                        1                RMSprop   \n",
       "\n",
       "   params_strides0  params_strides1  params_strides2  params_units0  \\\n",
       "0                2              2.0              1.0            313   \n",
       "1                2              NaN              NaN             54   \n",
       "2                2              1.0              NaN             75   \n",
       "3                2              NaN              NaN            127   \n",
       "4                2              NaN              NaN            498   \n",
       "\n",
       "   params_units1 params_units2     state  \n",
       "0            NaN           NaN  COMPLETE  \n",
       "1          194.0         221.0  COMPLETE  \n",
       "2            NaN           NaN  COMPLETE  \n",
       "3            NaN           NaN  COMPLETE  \n",
       "4            NaN           NaN  COMPLETE  \n",
       "\n",
       "[5 rows x 26 columns]"
      ]
     },
     "execution_count": 21,
     "metadata": {},
     "output_type": "execute_result"
    }
   ],
   "source": [
    "results.head()"
   ]
  },
  {
   "cell_type": "markdown",
   "metadata": {},
   "source": [
    "## Evaluate the model"
   ]
  },
  {
   "cell_type": "code",
   "execution_count": 22,
   "metadata": {},
   "outputs": [],
   "source": [
    "# load best model\n",
    "\n",
    "model = load_model(path_best_model)"
   ]
  },
  {
   "cell_type": "code",
   "execution_count": 23,
   "metadata": {},
   "outputs": [
    {
     "name": "stdout",
     "output_type": "stream",
     "text": [
      "Model: \"sequential_14\"\n",
      "_________________________________________________________________\n",
      " Layer (type)                Output Shape              Param #   \n",
      "=================================================================\n",
      " conv2d_25 (Conv2D)          (None, 28, 28, 64)        1664      \n",
      "                                                                 \n",
      " max_pooling2d_14 (MaxPoolin  (None, 14, 14, 64)       0         \n",
      " g2D)                                                            \n",
      "                                                                 \n",
      " flatten_14 (Flatten)        (None, 12544)             0         \n",
      "                                                                 \n",
      " dense_39 (Dense)            (None, 261)               3274245   \n",
      "                                                                 \n",
      " dense_40 (Dense)            (None, 10)                2620      \n",
      "                                                                 \n",
      "=================================================================\n",
      "Total params: 3,278,529\n",
      "Trainable params: 3,278,529\n",
      "Non-trainable params: 0\n",
      "_________________________________________________________________\n"
     ]
    }
   ],
   "source": [
    "model.summary()"
   ]
  },
  {
   "cell_type": "code",
   "execution_count": 24,
   "metadata": {},
   "outputs": [
    {
     "name": "stdout",
     "output_type": "stream",
     "text": [
      "132/132 [==============================] - 1s 7ms/step - loss: 0.0613 - accuracy: 0.9836\n"
     ]
    }
   ],
   "source": [
    "# make predictions in test set\n",
    "\n",
    "result = model.evaluate(x=X_test,\n",
    "                        y=y_test)"
   ]
  },
  {
   "cell_type": "code",
   "execution_count": 25,
   "metadata": {},
   "outputs": [
    {
     "name": "stdout",
     "output_type": "stream",
     "text": [
      "loss 0.06131227687001228\n",
      "accuracy 0.9835714101791382\n"
     ]
    }
   ],
   "source": [
    "# print evaluation metrics\n",
    "\n",
    "for name, value in zip(model.metrics_names, result):\n",
    "    print(name, value)"
   ]
  },
  {
   "cell_type": "markdown",
   "metadata": {},
   "source": [
    "### Confusion matrix"
   ]
  },
  {
   "cell_type": "code",
   "execution_count": 26,
   "metadata": {},
   "outputs": [
    {
     "data": {
      "text/plain": [
       "array([[416,   0,   0,   1,   1,   1,   2,   0,   1,   0],\n",
       "       [  0, 470,   1,   0,   0,   0,   1,   0,   1,   0],\n",
       "       [  0,   0, 406,   0,   0,   0,   1,   0,   2,   0],\n",
       "       [  0,   0,   2, 416,   0,   7,   0,   1,   0,   0],\n",
       "       [  1,   3,   0,   0, 423,   0,   1,   0,   1,   0],\n",
       "       [  0,   0,   0,   3,   0, 376,   2,   0,   1,   0],\n",
       "       [  0,   0,   0,   0,   1,   0, 411,   0,   0,   0],\n",
       "       [  0,   2,   5,   1,   1,   1,   0, 457,   0,   2],\n",
       "       [  0,   1,   1,   1,   0,   0,   6,   0, 375,   0],\n",
       "       [  1,   0,   0,   1,   6,   1,   1,   2,   1, 381]])"
      ]
     },
     "execution_count": 26,
     "metadata": {},
     "output_type": "execute_result"
    }
   ],
   "source": [
    "# Predict the values from the validation dataset\n",
    "y_pred = model.predict(X_test)\n",
    "\n",
    "# Convert predictions classes to one hot vectors \n",
    "y_pred_classes = np.argmax(y_pred, axis = 1)\n",
    "\n",
    "# Convert validation observations to one hot vectors\n",
    "y_true = np.argmax(y_test, axis = 1)\n",
    "\n",
    "# compute the confusion matrix\n",
    "cm = confusion_matrix(y_true, y_pred_classes) \n",
    "\n",
    "cm"
   ]
  },
  {
   "cell_type": "code",
   "execution_count": 27,
   "metadata": {},
   "outputs": [
    {
     "data": {
      "text/plain": [
       "Text(0.5, 13.421126458070283, 'Predicted label')"
      ]
     },
     "execution_count": 27,
     "metadata": {},
     "output_type": "execute_result"
    },
    {
     "data": {
      "image/png": "[encoded data removed]",
      "text/plain": [
       "<Figure size 432x288 with 2 Axes>"
      ]
     },
     "metadata": {
      "needs_background": "light"
     },
     "output_type": "display_data"
    }
   ],
   "source": [
    "# let's make it more colourful\n",
    "classes = 10\n",
    "\n",
    "plt.imshow(cm, interpolation='nearest', cmap=plt.cm.Blues)\n",
    "plt.title('Confusion matrix')\n",
    "plt.colorbar()\n",
    "tick_marks = np.arange(classes)\n",
    "plt.xticks(tick_marks, range(classes), rotation=45)\n",
    "plt.yticks(tick_marks, range(classes))\n",
    "\n",
    "for i, j in itertools.product(range(cm.shape[0]), range(cm.shape[1])):\n",
    "    plt.text(j, i, cm[i, j],\n",
    "             horizontalalignment=\"center\",\n",
    "             color=\"white\" if cm[i, j] > 100 else \"black\",\n",
    "            )\n",
    "\n",
    "plt.tight_layout()\n",
    "plt.ylabel('True label')\n",
    "plt.xlabel('Predicted label')"
   ]
  },
  {
   "cell_type": "code",
   "execution_count": null,
   "metadata": {},
   "outputs": [],
   "source": []
  }
 ],
 "metadata": {
  "kernelspec": {
   "display_name": "Python 3.9.13 ('hyperparameter_optimization_for_machine_learning')",
   "language": "python",
   "name": "python3"
  },
  "language_info": {
   "codemirror_mode": {
    "name": "ipython",
    "version": 3
   },
   "file_extension": ".py",
   "mimetype": "text/x-python",
   "name": "python",
   "nbconvert_exporter": "python",
   "pygments_lexer": "ipython3",
   "version": "3.9.13"
  },
  "orig_nbformat": 4,
  "vscode": {
   "interpreter": {
    "hash": "2f33e3a0ecdca2dfa9e05d6e5730c703bfe1984a713822542070e9abfcf88fe9"
   }
  }
 },
 "nbformat": 4,
 "nbformat_minor": 2
}
