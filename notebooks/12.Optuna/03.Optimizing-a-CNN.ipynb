{
 "cells": [
  {
   "cell_type": "markdown",
   "metadata": {},
   "source": [
    "# Optimization of CNN - TPE"
   ]
  },
  {
   "cell_type": "markdown",
   "metadata": {},
   "source": [
    "In this notebook, we will optimize the hyperparameters of a CNN using the define-by-run model from Optuna."
   ]
  },
  {
   "cell_type": "code",
   "execution_count": 1,
   "metadata": {},
   "outputs": [],
   "source": [
    "# For reproducible results.\n",
    "# See: \n",
    "# https://keras.io/getting_started/faq/#how-can-i-obtain-reproducible-results-using-keras-during-development\n",
    "\n",
    "import os\n",
    "os.environ['PYTHONHASHSEED'] = '0'\n",
    "\n",
    "import numpy as np\n",
    "import tensorflow as tf\n",
    "import random as python_random\n",
    "\n",
    "# The below is necessary for starting Numpy generated random numbers\n",
    "# in a well-defined initial state.\n",
    "np.random.seed(123)\n",
    "\n",
    "# The below is necessary for starting core Python generated random numbers\n",
    "# in a well-defined state.\n",
    "python_random.seed(123)\n",
    "\n",
    "# The below set_seed() will make random number generation\n",
    "# in the TensorFlow backend have a well-defined initial state.\n",
    "# For further details, see:\n",
    "# https://www.tensorflow.org/api_docs/python/tf/random/set_seed\n",
    "tf.random.set_seed(1234)"
   ]
  },
  {
   "cell_type": "code",
   "execution_count": 2,
   "metadata": {},
   "outputs": [],
   "source": [
    "\n",
    "import itertools\n",
    "from functools import partial\n",
    "\n",
    "import pandas as pd\n",
    "import matplotlib.pyplot as plt\n",
    "import seaborn as sns\n",
    "\n",
    "from sklearn.model_selection import train_test_split\n",
    "from sklearn.metrics import confusion_matrix"
   ]
  },
  {
   "cell_type": "code",
   "execution_count": 5,
   "metadata": {},
   "outputs": [],
   "source": [
    "from keras.utils.np_utils import to_categorical\n",
    "from keras.models import Sequential, load_model\n",
    "from keras.layers import Dense, Flatten, Conv2D, MaxPool2D\n",
    "from tensorflow.keras.optimizers import Adam, RMSprop"
   ]
  },
  {
   "cell_type": "code",
   "execution_count": 6,
   "metadata": {},
   "outputs": [],
   "source": [
    "import optuna"
   ]
  },
  {
   "cell_type": "markdown",
   "metadata": {},
   "source": [
    "## Data Preparation"
   ]
  },
  {
   "cell_type": "markdown",
   "metadata": {},
   "source": [
    "The dataset contains information about images, each image is a hand-written digit. The aim is to have the computer predict which digit was written by the person, automatically, by \"looking\" at the image.\n",
    "\n",
    "Each image is 28 pixels in height and 28 pixels in width (28 x 28), making a total of 784 pixels. Each pixel value is an integer between 0 and 255, indicating the darkness in a gray-scale of that pixel.\n",
    "\n",
    "The data is stored in a dataframe where each each pixel is a column (so it is flattened and not in the 28 x 28 format).\n",
    "\n",
    "The data set the has 785 columns. The first column, called \"label\", is the digit that was drawn by the user. The rest of the columns contain the pixel-values of the associated image."
   ]
  },
  {
   "cell_type": "code",
   "execution_count": 8,
   "metadata": {},
   "outputs": [
    {
     "data": {
      "text/html": [
       "<div>\n",
       "<style scoped>\n",
       "    .dataframe tbody tr th:only-of-type {\n",
       "        vertical-align: middle;\n",
       "    }\n",
       "\n",
       "    .dataframe tbody tr th {\n",
       "        vertical-align: top;\n",
       "    }\n",
       "\n",
       "    .dataframe thead th {\n",
       "        text-align: right;\n",
       "    }\n",
       "</style>\n",
       "<table border=\"1\" class=\"dataframe\">\n",
       "  <thead>\n",
       "    <tr style=\"text-align: right;\">\n",
       "      <th></th>\n",
       "      <th>label</th>\n",
       "      <th>pixel0</th>\n",
       "      <th>pixel1</th>\n",
       "      <th>pixel2</th>\n",
       "      <th>pixel3</th>\n",
       "      <th>pixel4</th>\n",
       "      <th>pixel5</th>\n",
       "      <th>pixel6</th>\n",
       "      <th>pixel7</th>\n",
       "      <th>pixel8</th>\n",
       "      <th>...</th>\n",
       "      <th>pixel774</th>\n",
       "      <th>pixel775</th>\n",
       "      <th>pixel776</th>\n",
       "      <th>pixel777</th>\n",
       "      <th>pixel778</th>\n",
       "      <th>pixel779</th>\n",
       "      <th>pixel780</th>\n",
       "      <th>pixel781</th>\n",
       "      <th>pixel782</th>\n",
       "      <th>pixel783</th>\n",
       "    </tr>\n",
       "  </thead>\n",
       "  <tbody>\n",
       "    <tr>\n",
       "      <th>0</th>\n",
       "      <td>1</td>\n",
       "      <td>0</td>\n",
       "      <td>0</td>\n",
       "      <td>0</td>\n",
       "      <td>0</td>\n",
       "      <td>0</td>\n",
       "      <td>0</td>\n",
       "      <td>0</td>\n",
       "      <td>0</td>\n",
       "      <td>0</td>\n",
       "      <td>...</td>\n",
       "      <td>0</td>\n",
       "      <td>0</td>\n",
       "      <td>0</td>\n",
       "      <td>0</td>\n",
       "      <td>0</td>\n",
       "      <td>0</td>\n",
       "      <td>0</td>\n",
       "      <td>0</td>\n",
       "      <td>0</td>\n",
       "      <td>0</td>\n",
       "    </tr>\n",
       "    <tr>\n",
       "      <th>1</th>\n",
       "      <td>0</td>\n",
       "      <td>0</td>\n",
       "      <td>0</td>\n",
       "      <td>0</td>\n",
       "      <td>0</td>\n",
       "      <td>0</td>\n",
       "      <td>0</td>\n",
       "      <td>0</td>\n",
       "      <td>0</td>\n",
       "      <td>0</td>\n",
       "      <td>...</td>\n",
       "      <td>0</td>\n",
       "      <td>0</td>\n",
       "      <td>0</td>\n",
       "      <td>0</td>\n",
       "      <td>0</td>\n",
       "      <td>0</td>\n",
       "      <td>0</td>\n",
       "      <td>0</td>\n",
       "      <td>0</td>\n",
       "      <td>0</td>\n",
       "    </tr>\n",
       "    <tr>\n",
       "      <th>2</th>\n",
       "      <td>1</td>\n",
       "      <td>0</td>\n",
       "      <td>0</td>\n",
       "      <td>0</td>\n",
       "      <td>0</td>\n",
       "      <td>0</td>\n",
       "      <td>0</td>\n",
       "      <td>0</td>\n",
       "      <td>0</td>\n",
       "      <td>0</td>\n",
       "      <td>...</td>\n",
       "      <td>0</td>\n",
       "      <td>0</td>\n",
       "      <td>0</td>\n",
       "      <td>0</td>\n",
       "      <td>0</td>\n",
       "      <td>0</td>\n",
       "      <td>0</td>\n",
       "      <td>0</td>\n",
       "      <td>0</td>\n",
       "      <td>0</td>\n",
       "    </tr>\n",
       "    <tr>\n",
       "      <th>3</th>\n",
       "      <td>4</td>\n",
       "      <td>0</td>\n",
       "      <td>0</td>\n",
       "      <td>0</td>\n",
       "      <td>0</td>\n",
       "      <td>0</td>\n",
       "      <td>0</td>\n",
       "      <td>0</td>\n",
       "      <td>0</td>\n",
       "      <td>0</td>\n",
       "      <td>...</td>\n",
       "      <td>0</td>\n",
       "      <td>0</td>\n",
       "      <td>0</td>\n",
       "      <td>0</td>\n",
       "      <td>0</td>\n",
       "      <td>0</td>\n",
       "      <td>0</td>\n",
       "      <td>0</td>\n",
       "      <td>0</td>\n",
       "      <td>0</td>\n",
       "    </tr>\n",
       "    <tr>\n",
       "      <th>4</th>\n",
       "      <td>0</td>\n",
       "      <td>0</td>\n",
       "      <td>0</td>\n",
       "      <td>0</td>\n",
       "      <td>0</td>\n",
       "      <td>0</td>\n",
       "      <td>0</td>\n",
       "      <td>0</td>\n",
       "      <td>0</td>\n",
       "      <td>0</td>\n",
       "      <td>...</td>\n",
       "      <td>0</td>\n",
       "      <td>0</td>\n",
       "      <td>0</td>\n",
       "      <td>0</td>\n",
       "      <td>0</td>\n",
       "      <td>0</td>\n",
       "      <td>0</td>\n",
       "      <td>0</td>\n",
       "      <td>0</td>\n",
       "      <td>0</td>\n",
       "    </tr>\n",
       "  </tbody>\n",
       "</table>\n",
       "<p>5 rows × 785 columns</p>\n",
       "</div>"
      ],
      "text/plain": [
       "   label  pixel0  pixel1  pixel2  pixel3  pixel4  pixel5  pixel6  pixel7  \\\n",
       "0      1       0       0       0       0       0       0       0       0   \n",
       "1      0       0       0       0       0       0       0       0       0   \n",
       "2      1       0       0       0       0       0       0       0       0   \n",
       "3      4       0       0       0       0       0       0       0       0   \n",
       "4      0       0       0       0       0       0       0       0       0   \n",
       "\n",
       "   pixel8  ...  pixel774  pixel775  pixel776  pixel777  pixel778  pixel779  \\\n",
       "0       0  ...         0         0         0         0         0         0   \n",
       "1       0  ...         0         0         0         0         0         0   \n",
       "2       0  ...         0         0         0         0         0         0   \n",
       "3       0  ...         0         0         0         0         0         0   \n",
       "4       0  ...         0         0         0         0         0         0   \n",
       "\n",
       "   pixel780  pixel781  pixel782  pixel783  \n",
       "0         0         0         0         0  \n",
       "1         0         0         0         0  \n",
       "2         0         0         0         0  \n",
       "3         0         0         0         0  \n",
       "4         0         0         0         0  \n",
       "\n",
       "[5 rows x 785 columns]"
      ]
     },
     "execution_count": 8,
     "metadata": {},
     "output_type": "execute_result"
    }
   ],
   "source": [
    "# Load the data\n",
    "\n",
    "data = pd.read_csv(\"../../data/processed/mnist.csv\")\n",
    "\n",
    "# first column is the target, the rest of the columns\n",
    "# are the pixels of the image\n",
    "\n",
    "# each row is 1 image\n",
    "data.head()"
   ]
  },
  {
   "cell_type": "code",
   "execution_count": 9,
   "metadata": {},
   "outputs": [
    {
     "data": {
      "text/plain": [
       "((37800, 784), (4200, 784))"
      ]
     },
     "execution_count": 9,
     "metadata": {},
     "output_type": "execute_result"
    }
   ],
   "source": [
    "# split dataset into a train and test set\n",
    "\n",
    "X_train, X_test, y_train, y_test = train_test_split(\n",
    "    data.drop(['label'], axis=1), # the images\n",
    "    data['label'], # the target\n",
    "    test_size = 0.1,\n",
    "    random_state=0)\n",
    "\n",
    "X_train.shape, X_test.shape"
   ]
  },
  {
   "cell_type": "code",
   "execution_count": 10,
   "metadata": {},
   "outputs": [
    {
     "data": {
      "text/plain": [
       "Text(0, 0.5, 'Number of images')"
      ]
     },
     "execution_count": 10,
     "metadata": {},
     "output_type": "execute_result"
    },
    {
     "data": {
      "image/png": "[encoded data removed]",
      "text/plain": [
       "<Figure size 432x288 with 1 Axes>"
      ]
     },
     "metadata": {
      "needs_background": "light"
     },
     "output_type": "display_data"
    }
   ],
   "source": [
    "# number of images for each digit\n",
    "\n",
    "g = sns.countplot(x=y_train)\n",
    "plt.xlabel('Digits')\n",
    "plt.ylabel('Number of images')"
   ]
  },
  {
   "cell_type": "markdown",
   "metadata": {},
   "source": [
    "There are roughly the same amount of images for each of the 10 digits."
   ]
  },
  {
   "cell_type": "markdown",
   "metadata": {},
   "source": [
    "### Image re-scaling"
   ]
  },
  {
   "cell_type": "markdown",
   "metadata": {},
   "source": [
    "We re-scale data for the CNN, between 0 and 1."
   ]
  },
  {
   "cell_type": "code",
   "execution_count": 11,
   "metadata": {},
   "outputs": [],
   "source": [
    "# Re-scale the data\n",
    "\n",
    "# 255 is the maximum value a pixel can take\n",
    "\n",
    "X_train = X_train / 255\n",
    "X_test = X_test / 255"
   ]
  },
  {
   "cell_type": "markdown",
   "metadata": {},
   "source": [
    "### Reshape"
   ]
  },
  {
   "cell_type": "markdown",
   "metadata": {},
   "source": [
    "The images were stored in a pandas dataframe as 1-D vectors of 784 values. For a CNN with Keras, we need tensors with the following dimensions: width x height x channel.\n",
    "\n",
    "Thus, we reshape all data to 28 x 2 8 x 1, 3-D matrices.\n",
    "\n",
    "The 3rd dimension corresponds to the channel. RGB images have 3 channels. MNIST images are in gray-scale, thus they have only one channel in the 3rd dimension."
   ]
  },
  {
   "cell_type": "code",
   "execution_count": 12,
   "metadata": {},
   "outputs": [],
   "source": [
    "# Reshape image in 3 dimensions:\n",
    "# height: 28px X width: 28px X channel: 1 \n",
    "\n",
    "X_train = X_train.values.reshape(-1,28,28,1)\n",
    "X_test = X_test.values.reshape(-1,28,28,1)"
   ]
  },
  {
   "cell_type": "markdown",
   "metadata": {},
   "source": [
    "### Target encoding"
   ]
  },
  {
   "cell_type": "code",
   "execution_count": 13,
   "metadata": {},
   "outputs": [
    {
     "data": {
      "text/plain": [
       "array([2, 0, 7, 4, 3, 5, 9, 6, 8, 1])"
      ]
     },
     "execution_count": 13,
     "metadata": {},
     "output_type": "execute_result"
    }
   ],
   "source": [
    "# the target is 1 variable with the 9 different digits\n",
    "# as values\n",
    "\n",
    "y_train.unique()"
   ]
  },
  {
   "cell_type": "code",
   "execution_count": 14,
   "metadata": {},
   "outputs": [
    {
     "data": {
      "text/plain": [
       "array([[0., 0., 1., ..., 0., 0., 0.],\n",
       "       [0., 0., 1., ..., 0., 0., 0.],\n",
       "       [1., 0., 0., ..., 0., 0., 0.],\n",
       "       ...,\n",
       "       [0., 0., 0., ..., 0., 0., 1.],\n",
       "       [1., 0., 0., ..., 0., 0., 0.],\n",
       "       [0., 0., 0., ..., 0., 0., 1.]], dtype=float32)"
      ]
     },
     "execution_count": 14,
     "metadata": {},
     "output_type": "execute_result"
    }
   ],
   "source": [
    "# For Keras, we need to create 10 dummy variables,\n",
    "# one for each digit\n",
    "\n",
    "# Encode labels to one hot vectors (ex : digit 2 -> [0,0,1,0,0,0,0,0,0,0])\n",
    "\n",
    "y_train = to_categorical(y_train, num_classes = 10)\n",
    "y_test = to_categorical(y_test, num_classes = 10)\n",
    "\n",
    "# the new target\n",
    "y_train"
   ]
  },
  {
   "cell_type": "code",
   "execution_count": 15,
   "metadata": {},
   "outputs": [
    {
     "data": {
      "image/png": "[encoded data removed]",
      "text/plain": [
       "<Figure size 432x288 with 1 Axes>"
      ]
     },
     "metadata": {
      "needs_background": "light"
     },
     "output_type": "display_data"
    }
   ],
   "source": [
    "# Some image examples \n",
    "\n",
    "g = plt.imshow(X_train[0][:,:,0])"
   ]
  },
  {
   "cell_type": "code",
   "execution_count": 16,
   "metadata": {},
   "outputs": [
    {
     "data": {
      "image/png": "[encoded data removed]",
      "text/plain": [
       "<Figure size 432x288 with 1 Axes>"
      ]
     },
     "metadata": {
      "needs_background": "light"
     },
     "output_type": "display_data"
    }
   ],
   "source": [
    "# Some image examples \n",
    "\n",
    "g = plt.imshow(X_train[10][:,:,0])"
   ]
  },
  {
   "cell_type": "markdown",
   "metadata": {},
   "source": [
    "## Define-by-Run design"
   ]
  },
  {
   "cell_type": "markdown",
   "metadata": {},
   "source": [
    "We create the CNN and add the sampling space for the hyperparameters as we go. This is the Desing-by-run concept."
   ]
  },
  {
   "cell_type": "code",
   "execution_count": 17,
   "metadata": {},
   "outputs": [],
   "source": [
    "# we will save the model with this name\n",
    "path_best_model = 'cnn_model.h5'\n",
    "\n",
    "# starting point for the optimization\n",
    "best_accuracy = 0"
   ]
  },
  {
   "cell_type": "code",
   "execution_count": 18,
   "metadata": {},
   "outputs": [],
   "source": [
    "# function to create the CNN\n",
    "\n",
    "def objective(trial):\n",
    "\n",
    "    # Start construction of a Keras Sequential model.\n",
    "    model = Sequential()\n",
    "\n",
    "    # Convolutional layers.\n",
    "\n",
    "    # We add the different number of conv layers in the following loop:\n",
    "    num_conv_layers = trial.suggest_int('num_conv_layers', 1, 3)\n",
    "\n",
    "    for i in range(num_conv_layers):\n",
    "        \n",
    "        # NOTE: As per the below configuration, the parameters of each\n",
    "        # convolutional layer will be identical.\n",
    "        \n",
    "        # if we want different parameters in each layer, check next\n",
    "        # notebook\n",
    "\n",
    "        model.add(Conv2D(\n",
    "            filters=trial.suggest_categorical('filters', [16, 32, 64]),\n",
    "            kernel_size=trial.suggest_categorical('kernel_size', [3, 5]),\n",
    "            strides=trial.suggest_categorical('strides', [1, 2]),\n",
    "            activation=trial.suggest_categorical(\n",
    "                'activation', ['relu', 'tanh']),\n",
    "            padding='same',\n",
    "        ))\n",
    "\n",
    "    # we could also optimize these parameters if we wanted:\n",
    "    model.add(MaxPool2D(pool_size=2, strides=2))\n",
    "\n",
    "    # Flatten the 4-rank output of the convolutional layers\n",
    "    # to 2-rank that can be input to a fully-connected Dense layer.\n",
    "    model.add(Flatten())\n",
    "\n",
    "    # Add fully-connected Dense layers.\n",
    "    # The number of layers is a hyper-parameter we want to optimize.\n",
    "    # We add the different number of layers in the following loop:\n",
    "\n",
    "    num_dense_layers = trial.suggest_int('num_dense_layers', 1, 3)\n",
    "\n",
    "    for i in range(num_dense_layers):\n",
    "\n",
    "        # Add the dense fully-connected layer to the model.\n",
    "        # This has two hyper-parameters we want to optimize:\n",
    "        # The number of nodes (neurons) and the activation function.\n",
    "        model.add(Dense(\n",
    "            units=trial.suggest_int('units', 5, 512),\n",
    "            activation=trial.suggest_categorical(\n",
    "                'activation', ['relu', 'tanh']),\n",
    "        ))\n",
    "\n",
    "    # Last fully-connected dense layer with softmax-activation\n",
    "    # for use in classification.\n",
    "    model.add(Dense(10, activation='softmax'))\n",
    "\n",
    "    # Use the Adam method for training the network.\n",
    "    optimizer_name = trial.suggest_categorical(\n",
    "        'optimizer_name', ['Adam', 'RMSprop'])\n",
    "\n",
    "    if optimizer_name == 'Adam':\n",
    "        optimizer = Adam(lr=trial.suggest_float('learning_rate',  1e-6, 1e-2))\n",
    "    else:\n",
    "        optimizer = RMSprop(\n",
    "            lr=trial.suggest_float('learning_rate',  1e-6, 1e-2),\n",
    "            momentum=trial.suggest_float('momentum',  0.1, 0.9),\n",
    "        )\n",
    "\n",
    "    # In Keras we need to compile the model so it can be trained.\n",
    "    model.compile(optimizer=optimizer,\n",
    "                  loss='categorical_crossentropy',\n",
    "                  metrics=['accuracy'])\n",
    "\n",
    "    # train the model\n",
    "    # we use 3 epochs to be able to run the notebook in a \"reasonable\"\n",
    "    # time. If we increase the epochs, we will have better performance\n",
    "    # this could be another parameter to optimize in fact.\n",
    "    history = model.fit(\n",
    "        x=X_train,\n",
    "        y=y_train,\n",
    "        epochs=3,\n",
    "        batch_size=128,\n",
    "        validation_split=0.1,\n",
    "    )\n",
    "\n",
    "    # Get the classification accuracy on the validation-set\n",
    "    # after the last training-epoch.\n",
    "    accuracy = history.history['val_accuracy'][-1]\n",
    "\n",
    "    # Save the model if it improves on the best-found performance.\n",
    "    # We use the global keyword so we update the variable outside\n",
    "    # of this function.\n",
    "    global best_accuracy\n",
    "\n",
    "    # If the classification accuracy of the saved model is improved ...\n",
    "    if accuracy > best_accuracy:\n",
    "        # Save the new model to harddisk.\n",
    "        # Training CNNs is costly, so we want to avoid having to re-train\n",
    "        # the network with the best found parameters. We save it instead\n",
    "        # as we search for the best hyperparam space.\n",
    "        model.save(path_best_model)\n",
    "\n",
    "        # Update the classification accuracy.\n",
    "        best_accuracy = accuracy\n",
    "\n",
    "    # Delete the Keras model with these hyper-parameters from memory.\n",
    "    del model\n",
    "\n",
    "    # Remember that Scikit-optimize always minimizes the objective\n",
    "    # function, so we need to negate the accuracy (because we want\n",
    "    # the maximum accuracy)\n",
    "    return accuracy"
   ]
  },
  {
   "cell_type": "code",
   "execution_count": 19,
   "metadata": {},
   "outputs": [],
   "source": [
    "# we need this to store the search\n",
    "# we will use it in the following notebook\n",
    "\n",
    "study_name = \"cnn_study\"  # unique identifier of the study.\n",
    "storage_name = \"sqlite:///{}.db\".format(study_name)"
   ]
  },
  {
   "cell_type": "code",
   "execution_count": 20,
   "metadata": {},
   "outputs": [
    {
     "name": "stderr",
     "output_type": "stream",
     "text": [
      "\u001b[32m[I 2022-10-31 05:21:17,655]\u001b[0m A new study created in RDB with name: cnn_study\u001b[0m\n",
      "2022-10-31 05:21:17.990316: I tensorflow/core/platform/cpu_feature_guard.cc:151] This TensorFlow binary is optimized with oneAPI Deep Neural Network Library (oneDNN) to use the following CPU instructions in performance-critical operations:  SSE4.1 SSE4.2 AVX AVX2 AVX512F FMA\n",
      "To enable them in other operations, rebuild TensorFlow with the appropriate compiler flags.\n",
      "/home/santiago/anaconda3/envs/hyperparameter_optimization_for_machine_learning/lib/python3.9/site-packages/keras/optimizer_v2/rmsprop.py:130: UserWarning: The `lr` argument is deprecated, use `learning_rate` instead.\n",
      "  super(RMSprop, self).__init__(name, **kwargs)\n"
     ]
    },
    {
     "name": "stdout",
     "output_type": "stream",
     "text": [
      "Epoch 1/3\n",
      "266/266 [==============================] - 478s 2s/step - loss: 0.5601 - accuracy: 0.8258 - val_loss: 0.1148 - val_accuracy: 0.9653\n",
      "Epoch 2/3\n",
      "266/266 [==============================] - 390s 1s/step - loss: 0.1232 - accuracy: 0.9668 - val_loss: 0.1069 - val_accuracy: 0.9704\n",
      "Epoch 3/3\n",
      "266/266 [==============================] - 367s 1s/step - loss: 0.0946 - accuracy: 0.9731 - val_loss: 0.1144 - val_accuracy: 0.9720\n"
     ]
    },
    {
     "name": "stderr",
     "output_type": "stream",
     "text": [
      "\u001b[32m[I 2022-10-31 05:41:55,119]\u001b[0m Trial 0 finished with value: 0.9719576835632324 and parameters: {'num_conv_layers': 3, 'filters': 64, 'kernel_size': 5, 'strides': 1, 'activation': 'relu', 'num_dense_layers': 3, 'units': 127, 'optimizer_name': 'RMSprop', 'learning_rate': 0.005078127117870548, 'momentum': 0.2639156658202595}. Best is trial 0 with value: 0.9719576835632324.\u001b[0m\n",
      "/home/santiago/anaconda3/envs/hyperparameter_optimization_for_machine_learning/lib/python3.9/site-packages/keras/optimizer_v2/adam.py:105: UserWarning: The `lr` argument is deprecated, use `learning_rate` instead.\n",
      "  super(Adam, self).__init__(name, **kwargs)\n"
     ]
    },
    {
     "name": "stdout",
     "output_type": "stream",
     "text": [
      "Epoch 1/3\n",
      "266/266 [==============================] - 15s 56ms/step - loss: 0.2805 - accuracy: 0.9153 - val_loss: 0.1693 - val_accuracy: 0.9505\n",
      "Epoch 2/3\n",
      "266/266 [==============================] - 16s 59ms/step - loss: 0.1069 - accuracy: 0.9665 - val_loss: 0.1154 - val_accuracy: 0.9638\n",
      "Epoch 3/3\n",
      "266/266 [==============================] - 16s 60ms/step - loss: 0.0723 - accuracy: 0.9774 - val_loss: 0.1180 - val_accuracy: 0.9696\n"
     ]
    },
    {
     "name": "stderr",
     "output_type": "stream",
     "text": [
      "\u001b[32m[I 2022-10-31 05:42:43,204]\u001b[0m Trial 1 finished with value: 0.9695767164230347 and parameters: {'num_conv_layers': 1, 'filters': 32, 'kernel_size': 3, 'strides': 1, 'activation': 'tanh', 'num_dense_layers': 3, 'units': 399, 'optimizer_name': 'Adam', 'learning_rate': 0.0022292131911345802}. Best is trial 0 with value: 0.9719576835632324.\u001b[0m\n"
     ]
    },
    {
     "name": "stdout",
     "output_type": "stream",
     "text": [
      "Epoch 1/3\n",
      "266/266 [==============================] - 18s 67ms/step - loss: 3.0371 - accuracy: 0.1009 - val_loss: 2.6794 - val_accuracy: 0.0868\n",
      "Epoch 2/3\n",
      "266/266 [==============================] - 18s 67ms/step - loss: 2.9205 - accuracy: 0.1019 - val_loss: 2.7692 - val_accuracy: 0.1037\n",
      "Epoch 3/3\n",
      "266/266 [==============================] - 20s 75ms/step - loss: 2.8864 - accuracy: 0.1011 - val_loss: 2.7082 - val_accuracy: 0.0937\n"
     ]
    },
    {
     "name": "stderr",
     "output_type": "stream",
     "text": [
      "\u001b[32m[I 2022-10-31 05:43:40,285]\u001b[0m Trial 2 finished with value: 0.09365079551935196 and parameters: {'num_conv_layers': 2, 'filters': 64, 'kernel_size': 5, 'strides': 2, 'activation': 'tanh', 'num_dense_layers': 3, 'units': 450, 'optimizer_name': 'RMSprop', 'learning_rate': 0.004876999052290255, 'momentum': 0.19507426356376564}. Best is trial 0 with value: 0.9719576835632324.\u001b[0m\n"
     ]
    },
    {
     "name": "stdout",
     "output_type": "stream",
     "text": [
      "Epoch 1/3\n",
      "266/266 [==============================] - 12s 44ms/step - loss: 2.5241 - accuracy: 0.0999 - val_loss: 2.4879 - val_accuracy: 0.1037\n",
      "Epoch 2/3\n",
      "266/266 [==============================] - 11s 41ms/step - loss: 2.4246 - accuracy: 0.1034 - val_loss: 2.5977 - val_accuracy: 0.1045\n",
      "Epoch 3/3\n",
      "266/266 [==============================] - 11s 41ms/step - loss: 2.4289 - accuracy: 0.1048 - val_loss: 2.3943 - val_accuracy: 0.0937\n"
     ]
    },
    {
     "name": "stderr",
     "output_type": "stream",
     "text": [
      "\u001b[32m[I 2022-10-31 05:44:15,186]\u001b[0m Trial 3 finished with value: 0.09365079551935196 and parameters: {'num_conv_layers': 3, 'filters': 64, 'kernel_size': 3, 'strides': 2, 'activation': 'tanh', 'num_dense_layers': 3, 'units': 400, 'optimizer_name': 'Adam', 'learning_rate': 0.00924197473215606}. Best is trial 0 with value: 0.9719576835632324.\u001b[0m\n"
     ]
    },
    {
     "name": "stdout",
     "output_type": "stream",
     "text": [
      "Epoch 1/3\n",
      "266/266 [==============================] - 17s 62ms/step - loss: 0.2472 - accuracy: 0.9213 - val_loss: 0.0720 - val_accuracy: 0.9762\n",
      "Epoch 2/3\n",
      "266/266 [==============================] - 16s 60ms/step - loss: 0.0702 - accuracy: 0.9778 - val_loss: 0.0779 - val_accuracy: 0.9780\n",
      "Epoch 3/3\n",
      "266/266 [==============================] - 16s 58ms/step - loss: 0.0464 - accuracy: 0.9855 - val_loss: 0.0791 - val_accuracy: 0.9786\n"
     ]
    },
    {
     "name": "stderr",
     "output_type": "stream",
     "text": [
      "\u001b[32m[I 2022-10-31 05:45:04,916]\u001b[0m Trial 4 finished with value: 0.9785714149475098 and parameters: {'num_conv_layers': 2, 'filters': 64, 'kernel_size': 5, 'strides': 2, 'activation': 'relu', 'num_dense_layers': 2, 'units': 106, 'optimizer_name': 'RMSprop', 'learning_rate': 0.0008741507492360411, 'momentum': 0.6118593311201581}. Best is trial 4 with value: 0.9785714149475098.\u001b[0m\n"
     ]
    },
    {
     "name": "stdout",
     "output_type": "stream",
     "text": [
      "Epoch 1/3\n",
      "266/266 [==============================] - 10s 36ms/step - loss: 0.1780 - accuracy: 0.9442 - val_loss: 0.0932 - val_accuracy: 0.9722\n",
      "Epoch 2/3\n",
      "266/266 [==============================] - 9s 35ms/step - loss: 0.0578 - accuracy: 0.9822 - val_loss: 0.0844 - val_accuracy: 0.9754\n",
      "Epoch 3/3\n",
      "266/266 [==============================] - 9s 35ms/step - loss: 0.0420 - accuracy: 0.9865 - val_loss: 0.0761 - val_accuracy: 0.9807\n"
     ]
    },
    {
     "name": "stderr",
     "output_type": "stream",
     "text": [
      "\u001b[32m[I 2022-10-31 05:45:34,641]\u001b[0m Trial 5 finished with value: 0.9806878566741943 and parameters: {'num_conv_layers': 1, 'filters': 32, 'kernel_size': 5, 'strides': 1, 'activation': 'relu', 'num_dense_layers': 2, 'units': 80, 'optimizer_name': 'Adam', 'learning_rate': 0.007540784235572642}. Best is trial 5 with value: 0.9806878566741943.\u001b[0m\n"
     ]
    },
    {
     "name": "stdout",
     "output_type": "stream",
     "text": [
      "Epoch 1/3\n",
      "266/266 [==============================] - 133s 501ms/step - loss: 0.1931 - accuracy: 0.9405 - val_loss: 0.0941 - val_accuracy: 0.9730\n",
      "Epoch 2/3\n",
      "266/266 [==============================] - 132s 496ms/step - loss: 0.0521 - accuracy: 0.9836 - val_loss: 0.0653 - val_accuracy: 0.9820\n",
      "Epoch 3/3\n",
      "266/266 [==============================] - 133s 498ms/step - loss: 0.0294 - accuracy: 0.9917 - val_loss: 0.0589 - val_accuracy: 0.9823\n"
     ]
    },
    {
     "name": "stderr",
     "output_type": "stream",
     "text": [
      "\u001b[32m[I 2022-10-31 05:52:14,168]\u001b[0m Trial 6 finished with value: 0.982275128364563 and parameters: {'num_conv_layers': 3, 'filters': 32, 'kernel_size': 5, 'strides': 1, 'activation': 'tanh', 'num_dense_layers': 1, 'units': 298, 'optimizer_name': 'Adam', 'learning_rate': 0.0007934015746715985}. Best is trial 6 with value: 0.982275128364563.\u001b[0m\n"
     ]
    },
    {
     "name": "stdout",
     "output_type": "stream",
     "text": [
      "Epoch 1/3\n",
      "266/266 [==============================] - 73s 274ms/step - loss: 0.2121 - accuracy: 0.9357 - val_loss: 0.1172 - val_accuracy: 0.9651\n",
      "Epoch 2/3\n",
      "266/266 [==============================] - 74s 277ms/step - loss: 0.0710 - accuracy: 0.9785 - val_loss: 0.0887 - val_accuracy: 0.9735\n",
      "Epoch 3/3\n",
      "266/266 [==============================] - 72s 269ms/step - loss: 0.0444 - accuracy: 0.9869 - val_loss: 0.0763 - val_accuracy: 0.9783\n"
     ]
    },
    {
     "name": "stderr",
     "output_type": "stream",
     "text": [
      "\u001b[32m[I 2022-10-31 05:55:53,679]\u001b[0m Trial 7 finished with value: 0.9783068895339966 and parameters: {'num_conv_layers': 2, 'filters': 32, 'kernel_size': 5, 'strides': 1, 'activation': 'tanh', 'num_dense_layers': 1, 'units': 170, 'optimizer_name': 'Adam', 'learning_rate': 0.00176576877203124}. Best is trial 6 with value: 0.982275128364563.\u001b[0m\n"
     ]
    },
    {
     "name": "stdout",
     "output_type": "stream",
     "text": [
      "Epoch 1/3\n",
      "266/266 [==============================] - 146s 547ms/step - loss: 0.2160 - accuracy: 0.9322 - val_loss: 0.0809 - val_accuracy: 0.9754\n",
      "Epoch 2/3\n",
      "266/266 [==============================] - 145s 547ms/step - loss: 0.0503 - accuracy: 0.9843 - val_loss: 0.0583 - val_accuracy: 0.9844\n",
      "Epoch 3/3\n",
      "266/266 [==============================] - 3355s 13s/step - loss: 0.0300 - accuracy: 0.9903 - val_loss: 0.0491 - val_accuracy: 0.9873\n"
     ]
    },
    {
     "name": "stderr",
     "output_type": "stream",
     "text": [
      "\u001b[32m[I 2022-10-31 06:56:42,126]\u001b[0m Trial 8 finished with value: 0.9873015880584717 and parameters: {'num_conv_layers': 3, 'filters': 64, 'kernel_size': 3, 'strides': 1, 'activation': 'relu', 'num_dense_layers': 1, 'units': 176, 'optimizer_name': 'RMSprop', 'learning_rate': 0.00048271221055016877, 'momentum': 0.2894630905829889}. Best is trial 8 with value: 0.9873015880584717.\u001b[0m\n"
     ]
    },
    {
     "name": "stdout",
     "output_type": "stream",
     "text": [
      "Epoch 1/3\n",
      "266/266 [==============================] - 38s 132ms/step - loss: 0.2790 - accuracy: 0.9160 - val_loss: 0.1394 - val_accuracy: 0.9585\n",
      "Epoch 2/3\n",
      "266/266 [==============================] - 24s 89ms/step - loss: 0.0855 - accuracy: 0.9738 - val_loss: 0.0929 - val_accuracy: 0.9746\n",
      "Epoch 3/3\n",
      "266/266 [==============================] - 27s 103ms/step - loss: 0.0481 - accuracy: 0.9852 - val_loss: 0.0784 - val_accuracy: 0.9783\n"
     ]
    },
    {
     "name": "stderr",
     "output_type": "stream",
     "text": [
      "\u001b[32m[I 2022-10-31 06:58:14,369]\u001b[0m Trial 9 finished with value: 0.9783068895339966 and parameters: {'num_conv_layers': 2, 'filters': 16, 'kernel_size': 3, 'strides': 1, 'activation': 'tanh', 'num_dense_layers': 3, 'units': 152, 'optimizer_name': 'Adam', 'learning_rate': 0.0008541051379609068}. Best is trial 8 with value: 0.9873015880584717.\u001b[0m\n"
     ]
    },
    {
     "name": "stdout",
     "output_type": "stream",
     "text": [
      "Epoch 1/3\n",
      "266/266 [==============================] - 8s 26ms/step - loss: 0.3295 - accuracy: 0.8974 - val_loss: 0.2753 - val_accuracy: 0.9156\n",
      "Epoch 2/3\n",
      "266/266 [==============================] - 4s 16ms/step - loss: 0.1679 - accuracy: 0.9525 - val_loss: 0.1761 - val_accuracy: 0.9550\n",
      "Epoch 3/3\n",
      "266/266 [==============================] - 5s 18ms/step - loss: 0.1533 - accuracy: 0.9580 - val_loss: 0.1948 - val_accuracy: 0.9503\n"
     ]
    },
    {
     "name": "stderr",
     "output_type": "stream",
     "text": [
      "\u001b[32m[I 2022-10-31 06:58:33,227]\u001b[0m Trial 10 finished with value: 0.950264573097229 and parameters: {'num_conv_layers': 3, 'filters': 16, 'kernel_size': 3, 'strides': 2, 'activation': 'relu', 'num_dense_layers': 1, 'units': 264, 'optimizer_name': 'RMSprop', 'learning_rate': 0.003804417296081093, 'momentum': 0.8472140396187644}. Best is trial 8 with value: 0.9873015880584717.\u001b[0m\n"
     ]
    },
    {
     "name": "stdout",
     "output_type": "stream",
     "text": [
      "Epoch 1/3\n",
      "266/266 [==============================] - 74s 277ms/step - loss: 0.6046 - accuracy: 0.8447 - val_loss: 0.2815 - val_accuracy: 0.9119\n",
      "Epoch 2/3\n",
      "266/266 [==============================] - 88s 331ms/step - loss: 0.2166 - accuracy: 0.9357 - val_loss: 0.2012 - val_accuracy: 0.9439\n",
      "Epoch 3/3\n",
      "266/266 [==============================] - 81s 303ms/step - loss: 0.1415 - accuracy: 0.9581 - val_loss: 0.1526 - val_accuracy: 0.9574\n"
     ]
    },
    {
     "name": "stderr",
     "output_type": "stream",
     "text": [
      "\u001b[32m[I 2022-10-31 07:02:38,380]\u001b[0m Trial 11 finished with value: 0.9574074149131775 and parameters: {'num_conv_layers': 3, 'filters': 32, 'kernel_size': 3, 'strides': 1, 'activation': 'relu', 'num_dense_layers': 1, 'units': 275, 'optimizer_name': 'RMSprop', 'learning_rate': 4.643675489841712e-05, 'momentum': 0.4408445084699992}. Best is trial 8 with value: 0.9873015880584717.\u001b[0m\n"
     ]
    },
    {
     "name": "stdout",
     "output_type": "stream",
     "text": [
      "Epoch 1/3\n",
      "266/266 [==============================] - 69s 258ms/step - loss: 0.3284 - accuracy: 0.8976 - val_loss: 0.1129 - val_accuracy: 0.9706\n",
      "Epoch 2/3\n",
      "266/266 [==============================] - 58s 217ms/step - loss: 0.0773 - accuracy: 0.9778 - val_loss: 0.0903 - val_accuracy: 0.9749\n",
      "Epoch 3/3\n",
      "266/266 [==============================] - 61s 230ms/step - loss: 0.0505 - accuracy: 0.9853 - val_loss: 0.0844 - val_accuracy: 0.9762\n"
     ]
    },
    {
     "name": "stderr",
     "output_type": "stream",
     "text": [
      "\u001b[32m[I 2022-10-31 07:05:48,785]\u001b[0m Trial 12 finished with value: 0.976190447807312 and parameters: {'num_conv_layers': 3, 'filters': 32, 'kernel_size': 3, 'strides': 1, 'activation': 'relu', 'num_dense_layers': 1, 'units': 10, 'optimizer_name': 'Adam', 'learning_rate': 0.003094827527937078}. Best is trial 8 with value: 0.9873015880584717.\u001b[0m\n"
     ]
    },
    {
     "name": "stdout",
     "output_type": "stream",
     "text": [
      "Epoch 1/3\n",
      "266/266 [==============================] - 419s 2s/step - loss: 3.0438 - accuracy: 0.1000 - val_loss: 3.4661 - val_accuracy: 0.1079\n",
      "Epoch 2/3\n",
      "266/266 [==============================] - 437s 2s/step - loss: 2.8967 - accuracy: 0.1019 - val_loss: 2.7347 - val_accuracy: 0.1037\n",
      "Epoch 3/3\n",
      "266/266 [==============================] - 390s 1s/step - loss: 2.8819 - accuracy: 0.1018 - val_loss: 2.9057 - val_accuracy: 0.1037\n"
     ]
    },
    {
     "name": "stderr",
     "output_type": "stream",
     "text": [
      "\u001b[32m[I 2022-10-31 07:26:35,496]\u001b[0m Trial 13 finished with value: 0.10370370000600815 and parameters: {'num_conv_layers': 3, 'filters': 64, 'kernel_size': 5, 'strides': 1, 'activation': 'tanh', 'num_dense_layers': 2, 'units': 324, 'optimizer_name': 'RMSprop', 'learning_rate': 0.0064133279551809195, 'momentum': 0.4466097272762934}. Best is trial 8 with value: 0.9873015880584717.\u001b[0m\n"
     ]
    },
    {
     "name": "stdout",
     "output_type": "stream",
     "text": [
      "Epoch 1/3\n",
      "266/266 [==============================] - 28s 103ms/step - loss: 0.4983 - accuracy: 0.8613 - val_loss: 0.2578 - val_accuracy: 0.9243\n",
      "Epoch 2/3\n",
      "266/266 [==============================] - 25s 93ms/step - loss: 0.1931 - accuracy: 0.9433 - val_loss: 0.1839 - val_accuracy: 0.9450\n",
      "Epoch 3/3\n",
      "266/266 [==============================] - 28s 104ms/step - loss: 0.1312 - accuracy: 0.9620 - val_loss: 0.1363 - val_accuracy: 0.9630\n"
     ]
    },
    {
     "name": "stderr",
     "output_type": "stream",
     "text": [
      "\u001b[32m[I 2022-10-31 07:27:56,736]\u001b[0m Trial 14 finished with value: 0.9629629850387573 and parameters: {'num_conv_layers': 3, 'filters': 16, 'kernel_size': 3, 'strides': 1, 'activation': 'tanh', 'num_dense_layers': 1, 'units': 220, 'optimizer_name': 'Adam', 'learning_rate': 0.0001574315196434837}. Best is trial 8 with value: 0.9873015880584717.\u001b[0m\n"
     ]
    },
    {
     "name": "stdout",
     "output_type": "stream",
     "text": [
      "Epoch 1/3\n",
      "266/266 [==============================] - 82s 307ms/step - loss: 0.1904 - accuracy: 0.9382 - val_loss: 0.0876 - val_accuracy: 0.9743\n",
      "Epoch 2/3\n",
      "266/266 [==============================] - 75s 281ms/step - loss: 0.0469 - accuracy: 0.9847 - val_loss: 0.0552 - val_accuracy: 0.9860\n",
      "Epoch 3/3\n",
      "266/266 [==============================] - 81s 304ms/step - loss: 0.0283 - accuracy: 0.9908 - val_loss: 0.0684 - val_accuracy: 0.9852\n"
     ]
    },
    {
     "name": "stderr",
     "output_type": "stream",
     "text": [
      "\u001b[32m[I 2022-10-31 07:31:56,119]\u001b[0m Trial 15 finished with value: 0.9851852059364319 and parameters: {'num_conv_layers': 2, 'filters': 32, 'kernel_size': 5, 'strides': 1, 'activation': 'relu', 'num_dense_layers': 1, 'units': 336, 'optimizer_name': 'RMSprop', 'learning_rate': 0.0021017098156836007, 'momentum': 0.17327124407330768}. Best is trial 8 with value: 0.9873015880584717.\u001b[0m\n"
     ]
    },
    {
     "name": "stdout",
     "output_type": "stream",
     "text": [
      "Epoch 1/3\n",
      "266/266 [==============================] - 269s 1s/step - loss: 0.2769 - accuracy: 0.9141 - val_loss: 0.0795 - val_accuracy: 0.9780\n",
      "Epoch 2/3\n",
      "266/266 [==============================] - 228s 857ms/step - loss: 0.0560 - accuracy: 0.9835 - val_loss: 0.0632 - val_accuracy: 0.9839\n",
      "Epoch 3/3\n",
      "266/266 [==============================] - 207s 777ms/step - loss: 0.0362 - accuracy: 0.9889 - val_loss: 0.0664 - val_accuracy: 0.9847\n"
     ]
    },
    {
     "name": "stderr",
     "output_type": "stream",
     "text": [
      "\u001b[32m[I 2022-10-31 07:43:42,627]\u001b[0m Trial 16 finished with value: 0.9846560955047607 and parameters: {'num_conv_layers': 2, 'filters': 64, 'kernel_size': 5, 'strides': 1, 'activation': 'relu', 'num_dense_layers': 2, 'units': 497, 'optimizer_name': 'RMSprop', 'learning_rate': 0.0024017961640828396, 'momentum': 0.10394547700752102}. Best is trial 8 with value: 0.9873015880584717.\u001b[0m\n"
     ]
    },
    {
     "name": "stdout",
     "output_type": "stream",
     "text": [
      "Epoch 1/3\n",
      "266/266 [==============================] - 25s 93ms/step - loss: 0.2495 - accuracy: 0.9300 - val_loss: 0.1024 - val_accuracy: 0.9661\n",
      "Epoch 2/3\n",
      "266/266 [==============================] - 22s 83ms/step - loss: 0.0575 - accuracy: 0.9818 - val_loss: 0.0713 - val_accuracy: 0.9825\n",
      "Epoch 3/3\n",
      "266/266 [==============================] - 21s 80ms/step - loss: 0.0301 - accuracy: 0.9900 - val_loss: 0.0886 - val_accuracy: 0.9788\n"
     ]
    },
    {
     "name": "stderr",
     "output_type": "stream",
     "text": [
      "\u001b[32m[I 2022-10-31 07:44:51,876]\u001b[0m Trial 17 finished with value: 0.9788359999656677 and parameters: {'num_conv_layers': 1, 'filters': 64, 'kernel_size': 3, 'strides': 1, 'activation': 'relu', 'num_dense_layers': 1, 'units': 359, 'optimizer_name': 'RMSprop', 'learning_rate': 0.003464581314940457, 'momentum': 0.30681493690337863}. Best is trial 8 with value: 0.9873015880584717.\u001b[0m\n"
     ]
    },
    {
     "name": "stdout",
     "output_type": "stream",
     "text": [
      "Epoch 1/3\n",
      "266/266 [==============================] - 9s 24ms/step - loss: 0.3493 - accuracy: 0.8890 - val_loss: 0.1143 - val_accuracy: 0.9638\n",
      "Epoch 2/3\n",
      "266/266 [==============================] - 7s 25ms/step - loss: 0.1115 - accuracy: 0.9668 - val_loss: 0.1090 - val_accuracy: 0.9648\n",
      "Epoch 3/3\n",
      "266/266 [==============================] - 5s 17ms/step - loss: 0.0851 - accuracy: 0.9737 - val_loss: 0.1395 - val_accuracy: 0.9659\n"
     ]
    },
    {
     "name": "stderr",
     "output_type": "stream",
     "text": [
      "\u001b[32m[I 2022-10-31 07:45:13,418]\u001b[0m Trial 18 finished with value: 0.9658730030059814 and parameters: {'num_conv_layers': 2, 'filters': 32, 'kernel_size': 3, 'strides': 2, 'activation': 'relu', 'num_dense_layers': 2, 'units': 188, 'optimizer_name': 'RMSprop', 'learning_rate': 0.004598567601795878, 'momentum': 0.34781565979308554}. Best is trial 8 with value: 0.9873015880584717.\u001b[0m\n"
     ]
    },
    {
     "name": "stdout",
     "output_type": "stream",
     "text": [
      "Epoch 1/3\n",
      "266/266 [==============================] - 31s 115ms/step - loss: 0.2166 - accuracy: 0.9341 - val_loss: 0.0825 - val_accuracy: 0.9733\n",
      "Epoch 2/3\n",
      "266/266 [==============================] - 33s 123ms/step - loss: 0.0521 - accuracy: 0.9833 - val_loss: 0.0547 - val_accuracy: 0.9854\n",
      "Epoch 3/3\n",
      "266/266 [==============================] - 32s 119ms/step - loss: 0.0319 - accuracy: 0.9894 - val_loss: 0.0568 - val_accuracy: 0.9847\n"
     ]
    },
    {
     "name": "stderr",
     "output_type": "stream",
     "text": [
      "\u001b[32m[I 2022-10-31 07:46:49,737]\u001b[0m Trial 19 finished with value: 0.9846560955047607 and parameters: {'num_conv_layers': 2, 'filters': 16, 'kernel_size': 5, 'strides': 1, 'activation': 'relu', 'num_dense_layers': 1, 'units': 224, 'optimizer_name': 'RMSprop', 'learning_rate': 0.0016165603676044993, 'momentum': 0.12605651216806185}. Best is trial 8 with value: 0.9873015880584717.\u001b[0m\n"
     ]
    },
    {
     "name": "stdout",
     "output_type": "stream",
     "text": [
      "Epoch 1/3\n",
      "266/266 [==============================] - 16s 58ms/step - loss: 0.2776 - accuracy: 0.9137 - val_loss: 0.1194 - val_accuracy: 0.9648\n",
      "Epoch 2/3\n",
      "266/266 [==============================] - 14s 53ms/step - loss: 0.0950 - accuracy: 0.9720 - val_loss: 0.1119 - val_accuracy: 0.9696\n",
      "Epoch 3/3\n",
      "266/266 [==============================] - 12s 44ms/step - loss: 0.0706 - accuracy: 0.9791 - val_loss: 0.1410 - val_accuracy: 0.9661\n"
     ]
    },
    {
     "name": "stderr",
     "output_type": "stream",
     "text": [
      "\u001b[32m[I 2022-10-31 07:47:32,562]\u001b[0m Trial 20 finished with value: 0.9661375880241394 and parameters: {'num_conv_layers': 1, 'filters': 64, 'kernel_size': 3, 'strides': 1, 'activation': 'relu', 'num_dense_layers': 2, 'units': 46, 'optimizer_name': 'RMSprop', 'learning_rate': 0.006120934360147073, 'momentum': 0.6281221493755591}. Best is trial 8 with value: 0.9873015880584717.\u001b[0m\n"
     ]
    },
    {
     "name": "stdout",
     "output_type": "stream",
     "text": [
      "Epoch 1/3\n",
      "266/266 [==============================] - 205s 770ms/step - loss: 0.2821 - accuracy: 0.9107 - val_loss: 0.0790 - val_accuracy: 0.9757\n",
      "Epoch 2/3\n",
      "266/266 [==============================] - 222s 833ms/step - loss: 0.0586 - accuracy: 0.9825 - val_loss: 0.0766 - val_accuracy: 0.9815\n",
      "Epoch 3/3\n",
      "266/266 [==============================] - 228s 858ms/step - loss: 0.0387 - accuracy: 0.9888 - val_loss: 0.1070 - val_accuracy: 0.9765\n"
     ]
    },
    {
     "name": "stderr",
     "output_type": "stream",
     "text": [
      "\u001b[32m[I 2022-10-31 07:58:28,783]\u001b[0m Trial 21 finished with value: 0.97645503282547 and parameters: {'num_conv_layers': 2, 'filters': 64, 'kernel_size': 5, 'strides': 1, 'activation': 'relu', 'num_dense_layers': 2, 'units': 491, 'optimizer_name': 'RMSprop', 'learning_rate': 0.0026451709662254487, 'momentum': 0.11091450612055573}. Best is trial 8 with value: 0.9873015880584717.\u001b[0m\n"
     ]
    },
    {
     "name": "stdout",
     "output_type": "stream",
     "text": [
      "Epoch 1/3\n",
      "266/266 [==============================] - 36s 136ms/step - loss: 0.1763 - accuracy: 0.9454 - val_loss: 0.0853 - val_accuracy: 0.9765\n",
      "Epoch 2/3\n",
      "266/266 [==============================] - 36s 136ms/step - loss: 0.0476 - accuracy: 0.9847 - val_loss: 0.0532 - val_accuracy: 0.9857\n",
      "Epoch 3/3\n",
      "266/266 [==============================] - 36s 134ms/step - loss: 0.0295 - accuracy: 0.9905 - val_loss: 0.0509 - val_accuracy: 0.9862\n"
     ]
    },
    {
     "name": "stderr",
     "output_type": "stream",
     "text": [
      "\u001b[32m[I 2022-10-31 08:00:18,071]\u001b[0m Trial 22 finished with value: 0.9862433671951294 and parameters: {'num_conv_layers': 2, 'filters': 16, 'kernel_size': 5, 'strides': 1, 'activation': 'relu', 'num_dense_layers': 1, 'units': 222, 'optimizer_name': 'RMSprop', 'learning_rate': 0.0014744677485877735, 'momentum': 0.20788385050575725}. Best is trial 8 with value: 0.9873015880584717.\u001b[0m\n"
     ]
    },
    {
     "name": "stdout",
     "output_type": "stream",
     "text": [
      "Epoch 1/3\n",
      "266/266 [==============================] - 36s 133ms/step - loss: 0.2082 - accuracy: 0.9357 - val_loss: 0.0847 - val_accuracy: 0.9754\n",
      "Epoch 2/3\n",
      "266/266 [==============================] - 38s 142ms/step - loss: 0.0518 - accuracy: 0.9839 - val_loss: 0.0543 - val_accuracy: 0.9841\n",
      "Epoch 3/3\n",
      "266/266 [==============================] - 33s 123ms/step - loss: 0.0319 - accuracy: 0.9898 - val_loss: 0.0623 - val_accuracy: 0.9836\n"
     ]
    },
    {
     "name": "stderr",
     "output_type": "stream",
     "text": [
      "\u001b[32m[I 2022-10-31 08:02:05,257]\u001b[0m Trial 23 finished with value: 0.9835978746414185 and parameters: {'num_conv_layers': 2, 'filters': 16, 'kernel_size': 5, 'strides': 1, 'activation': 'relu', 'num_dense_layers': 1, 'units': 230, 'optimizer_name': 'RMSprop', 'learning_rate': 0.001298593182070354, 'momentum': 0.23816241265365998}. Best is trial 8 with value: 0.9873015880584717.\u001b[0m\n"
     ]
    },
    {
     "name": "stdout",
     "output_type": "stream",
     "text": [
      "Epoch 1/3\n",
      "266/266 [==============================] - 34s 126ms/step - loss: 0.2143 - accuracy: 0.9333 - val_loss: 0.0780 - val_accuracy: 0.9733\n",
      "Epoch 2/3\n",
      "266/266 [==============================] - 37s 138ms/step - loss: 0.0570 - accuracy: 0.9823 - val_loss: 0.0658 - val_accuracy: 0.9825\n",
      "Epoch 3/3\n",
      "266/266 [==============================] - 34s 129ms/step - loss: 0.0402 - accuracy: 0.9874 - val_loss: 0.0636 - val_accuracy: 0.9852\n"
     ]
    },
    {
     "name": "stderr",
     "output_type": "stream",
     "text": [
      "\u001b[32m[I 2022-10-31 08:03:51,077]\u001b[0m Trial 24 finished with value: 0.9851852059364319 and parameters: {'num_conv_layers': 2, 'filters': 16, 'kernel_size': 5, 'strides': 1, 'activation': 'relu', 'num_dense_layers': 1, 'units': 329, 'optimizer_name': 'RMSprop', 'learning_rate': 0.00399620983922896, 'momentum': 0.3609243463736267}. Best is trial 8 with value: 0.9873015880584717.\u001b[0m\n"
     ]
    },
    {
     "name": "stdout",
     "output_type": "stream",
     "text": [
      "Epoch 1/3\n",
      "266/266 [==============================] - 9s 34ms/step - loss: 0.1763 - accuracy: 0.9444 - val_loss: 0.0911 - val_accuracy: 0.9698\n",
      "Epoch 2/3\n",
      "266/266 [==============================] - 9s 36ms/step - loss: 0.0524 - accuracy: 0.9830 - val_loss: 0.0623 - val_accuracy: 0.9817\n",
      "Epoch 3/3\n",
      "266/266 [==============================] - 8s 31ms/step - loss: 0.0315 - accuracy: 0.9901 - val_loss: 0.0622 - val_accuracy: 0.9833\n"
     ]
    },
    {
     "name": "stderr",
     "output_type": "stream",
     "text": [
      "\u001b[32m[I 2022-10-31 08:04:19,621]\u001b[0m Trial 25 finished with value: 0.9833333492279053 and parameters: {'num_conv_layers': 1, 'filters': 16, 'kernel_size': 5, 'strides': 1, 'activation': 'relu', 'num_dense_layers': 1, 'units': 183, 'optimizer_name': 'RMSprop', 'learning_rate': 0.003865980081461772, 'momentum': 0.3791421704555934}. Best is trial 8 with value: 0.9873015880584717.\u001b[0m\n"
     ]
    },
    {
     "name": "stdout",
     "output_type": "stream",
     "text": [
      "Epoch 1/3\n",
      "266/266 [==============================] - 5s 18ms/step - loss: 0.4937 - accuracy: 0.8375 - val_loss: 0.2598 - val_accuracy: 0.9183\n",
      "Epoch 2/3\n",
      "266/266 [==============================] - 4s 16ms/step - loss: 0.2327 - accuracy: 0.9300 - val_loss: 0.4272 - val_accuracy: 0.8799\n",
      "Epoch 3/3\n",
      "266/266 [==============================] - 4s 16ms/step - loss: 0.2019 - accuracy: 0.9419 - val_loss: 0.2323 - val_accuracy: 0.9333\n"
     ]
    },
    {
     "name": "stderr",
     "output_type": "stream",
     "text": [
      "\u001b[32m[I 2022-10-31 08:04:34,434]\u001b[0m Trial 26 finished with value: 0.9333333373069763 and parameters: {'num_conv_layers': 2, 'filters': 16, 'kernel_size': 5, 'strides': 2, 'activation': 'relu', 'num_dense_layers': 1, 'units': 300, 'optimizer_name': 'RMSprop', 'learning_rate': 0.009848027565415618, 'momentum': 0.5745706876148142}. Best is trial 8 with value: 0.9873015880584717.\u001b[0m\n"
     ]
    },
    {
     "name": "stdout",
     "output_type": "stream",
     "text": [
      "Epoch 1/3\n",
      "266/266 [==============================] - 36s 135ms/step - loss: 0.4157 - accuracy: 0.8587 - val_loss: 0.1276 - val_accuracy: 0.9598\n",
      "Epoch 2/3\n",
      "266/266 [==============================] - 32s 120ms/step - loss: 0.0835 - accuracy: 0.9740 - val_loss: 0.1041 - val_accuracy: 0.9730\n",
      "Epoch 3/3\n",
      "266/266 [==============================] - 37s 138ms/step - loss: 0.0631 - accuracy: 0.9813 - val_loss: 0.1073 - val_accuracy: 0.9704\n"
     ]
    },
    {
     "name": "stderr",
     "output_type": "stream",
     "text": [
      "\u001b[32m[I 2022-10-31 08:06:20,491]\u001b[0m Trial 27 finished with value: 0.970370352268219 and parameters: {'num_conv_layers': 2, 'filters': 16, 'kernel_size': 5, 'strides': 1, 'activation': 'relu', 'num_dense_layers': 1, 'units': 243, 'optimizer_name': 'RMSprop', 'learning_rate': 0.006057544527464995, 'momentum': 0.3764029993643859}. Best is trial 8 with value: 0.9873015880584717.\u001b[0m\n"
     ]
    },
    {
     "name": "stdout",
     "output_type": "stream",
     "text": [
      "Epoch 1/3\n",
      "266/266 [==============================] - 28s 105ms/step - loss: 0.3814 - accuracy: 0.8835 - val_loss: 0.1309 - val_accuracy: 0.9595\n",
      "Epoch 2/3\n",
      "266/266 [==============================] - 29s 109ms/step - loss: 0.1105 - accuracy: 0.9658 - val_loss: 0.1236 - val_accuracy: 0.9722\n",
      "Epoch 3/3\n",
      "266/266 [==============================] - 26s 99ms/step - loss: 0.0713 - accuracy: 0.9772 - val_loss: 0.1008 - val_accuracy: 0.9759\n"
     ]
    },
    {
     "name": "stderr",
     "output_type": "stream",
     "text": [
      "\u001b[32m[I 2022-10-31 08:07:45,480]\u001b[0m Trial 28 finished with value: 0.9759259223937988 and parameters: {'num_conv_layers': 3, 'filters': 16, 'kernel_size': 3, 'strides': 1, 'activation': 'relu', 'num_dense_layers': 1, 'units': 378, 'optimizer_name': 'RMSprop', 'learning_rate': 0.007777814554053828, 'momentum': 0.2720662359899245}. Best is trial 8 with value: 0.9873015880584717.\u001b[0m\n"
     ]
    },
    {
     "name": "stdout",
     "output_type": "stream",
     "text": [
      "Epoch 1/3\n",
      "266/266 [==============================] - 9s 31ms/step - loss: 0.1863 - accuracy: 0.9410 - val_loss: 0.0984 - val_accuracy: 0.9706\n",
      "Epoch 2/3\n",
      "266/266 [==============================] - 12s 46ms/step - loss: 0.0621 - accuracy: 0.9820 - val_loss: 0.0838 - val_accuracy: 0.9778\n",
      "Epoch 3/3\n",
      "266/266 [==============================] - 11s 40ms/step - loss: 0.0410 - accuracy: 0.9874 - val_loss: 0.0840 - val_accuracy: 0.9807\n"
     ]
    },
    {
     "name": "stderr",
     "output_type": "stream",
     "text": [
      "\u001b[32m[I 2022-10-31 08:08:18,083]\u001b[0m Trial 29 finished with value: 0.9806878566741943 and parameters: {'num_conv_layers': 1, 'filters': 16, 'kernel_size': 5, 'strides': 1, 'activation': 'relu', 'num_dense_layers': 2, 'units': 127, 'optimizer_name': 'RMSprop', 'learning_rate': 0.0028810887255828646, 'momentum': 0.5191365811127354}. Best is trial 8 with value: 0.9873015880584717.\u001b[0m\n"
     ]
    }
   ],
   "source": [
    "study = optuna.create_study(\n",
    "    direction='maximize',\n",
    "    study_name=study_name,\n",
    "    storage=storage_name,\n",
    "    load_if_exists=True,\n",
    ")\n",
    "\n",
    "study.optimize(objective, n_trials=30)"
   ]
  },
  {
   "cell_type": "markdown",
   "metadata": {},
   "source": [
    "## Analyze results"
   ]
  },
  {
   "cell_type": "code",
   "execution_count": 21,
   "metadata": {},
   "outputs": [
    {
     "data": {
      "text/plain": [
       "{'activation': 'relu',\n",
       " 'filters': 64,\n",
       " 'kernel_size': 3,\n",
       " 'learning_rate': 0.00048271221055016877,\n",
       " 'momentum': 0.2894630905829889,\n",
       " 'num_conv_layers': 3,\n",
       " 'num_dense_layers': 1,\n",
       " 'optimizer_name': 'RMSprop',\n",
       " 'strides': 1,\n",
       " 'units': 176}"
      ]
     },
     "execution_count": 21,
     "metadata": {},
     "output_type": "execute_result"
    }
   ],
   "source": [
    "study.best_params"
   ]
  },
  {
   "cell_type": "code",
   "execution_count": 22,
   "metadata": {},
   "outputs": [
    {
     "data": {
      "text/plain": [
       "0.9873015880584717"
      ]
     },
     "execution_count": 22,
     "metadata": {},
     "output_type": "execute_result"
    }
   ],
   "source": [
    "study.best_value"
   ]
  },
  {
   "cell_type": "code",
   "execution_count": 23,
   "metadata": {},
   "outputs": [
    {
     "data": {
      "text/plain": [
       "Text(0, 0.5, 'Accuracy')"
      ]
     },
     "execution_count": 23,
     "metadata": {},
     "output_type": "execute_result"
    },
    {
     "data": {
      "image/png": "[encoded data removed]",
      "text/plain": [
       "<Figure size 432x288 with 1 Axes>"
      ]
     },
     "metadata": {
      "needs_background": "light"
     },
     "output_type": "display_data"
    }
   ],
   "source": [
    "results = study.trials_dataframe()\n",
    "\n",
    "results['value'].sort_values().reset_index(drop=True).plot()\n",
    "plt.title('Convergence plot')\n",
    "plt.xlabel('Iteration')\n",
    "plt.ylabel('Accuracy')"
   ]
  },
  {
   "cell_type": "markdown",
   "metadata": {},
   "source": [
    "## Evaluate the model"
   ]
  },
  {
   "cell_type": "code",
   "execution_count": 24,
   "metadata": {},
   "outputs": [],
   "source": [
    "# load best model\n",
    "\n",
    "model = load_model(path_best_model)"
   ]
  },
  {
   "cell_type": "code",
   "execution_count": 25,
   "metadata": {},
   "outputs": [
    {
     "name": "stdout",
     "output_type": "stream",
     "text": [
      "Model: \"sequential_8\"\n",
      "_________________________________________________________________\n",
      " Layer (type)                Output Shape              Param #   \n",
      "=================================================================\n",
      " conv2d_17 (Conv2D)          (None, 28, 28, 64)        640       \n",
      "                                                                 \n",
      " conv2d_18 (Conv2D)          (None, 28, 28, 64)        36928     \n",
      "                                                                 \n",
      " conv2d_19 (Conv2D)          (None, 28, 28, 64)        36928     \n",
      "                                                                 \n",
      " max_pooling2d_8 (MaxPooling  (None, 14, 14, 64)       0         \n",
      " 2D)                                                             \n",
      "                                                                 \n",
      " flatten_8 (Flatten)         (None, 12544)             0         \n",
      "                                                                 \n",
      " dense_26 (Dense)            (None, 176)               2207920   \n",
      "                                                                 \n",
      " dense_27 (Dense)            (None, 10)                1770      \n",
      "                                                                 \n",
      "=================================================================\n",
      "Total params: 2,284,186\n",
      "Trainable params: 2,284,186\n",
      "Non-trainable params: 0\n",
      "_________________________________________________________________\n"
     ]
    }
   ],
   "source": [
    "model.summary()"
   ]
  },
  {
   "cell_type": "code",
   "execution_count": 26,
   "metadata": {},
   "outputs": [
    {
     "name": "stdout",
     "output_type": "stream",
     "text": [
      "132/132 [==============================] - 3s 24ms/step - loss: 0.0416 - accuracy: 0.9883\n"
     ]
    }
   ],
   "source": [
    "# make predictions in test set\n",
    "\n",
    "result = model.evaluate(x=X_test,\n",
    "                        y=y_test)"
   ]
  },
  {
   "cell_type": "code",
   "execution_count": 27,
   "metadata": {},
   "outputs": [
    {
     "name": "stdout",
     "output_type": "stream",
     "text": [
      "loss 0.04162285476922989\n",
      "accuracy 0.9883333444595337\n"
     ]
    }
   ],
   "source": [
    "# print evaluation metrics\n",
    "\n",
    "for name, value in zip(model.metrics_names, result):\n",
    "    print(name, value)"
   ]
  },
  {
   "cell_type": "markdown",
   "metadata": {},
   "source": [
    "### Confusion matrix"
   ]
  },
  {
   "cell_type": "code",
   "execution_count": 28,
   "metadata": {},
   "outputs": [
    {
     "data": {
      "text/plain": [
       "array([[415,   0,   0,   1,   1,   0,   2,   0,   3,   0],\n",
       "       [  0, 471,   0,   0,   0,   0,   1,   1,   0,   0],\n",
       "       [  0,   2, 404,   0,   0,   0,   1,   0,   2,   0],\n",
       "       [  0,   0,   1, 419,   0,   2,   1,   3,   0,   0],\n",
       "       [  1,   2,   0,   0, 425,   0,   1,   0,   0,   0],\n",
       "       [  0,   0,   0,   1,   0, 378,   2,   0,   1,   0],\n",
       "       [  0,   0,   0,   0,   2,   0, 409,   0,   0,   1],\n",
       "       [  0,   1,   2,   0,   0,   1,   0, 465,   0,   0],\n",
       "       [  0,   1,   0,   0,   0,   1,   5,   0, 377,   0],\n",
       "       [  1,   0,   0,   0,   2,   0,   0,   2,   1, 388]])"
      ]
     },
     "execution_count": 28,
     "metadata": {},
     "output_type": "execute_result"
    }
   ],
   "source": [
    "# Predict the values from the validation dataset\n",
    "y_pred = model.predict(X_test)\n",
    "\n",
    "# Convert predictions classes to one hot vectors \n",
    "y_pred_classes = np.argmax(y_pred, axis = 1)\n",
    "\n",
    "# Convert validation observations to one hot vectors\n",
    "y_true = np.argmax(y_test, axis = 1)\n",
    "\n",
    "# compute the confusion matrix\n",
    "cm = confusion_matrix(y_true, y_pred_classes) \n",
    "\n",
    "cm"
   ]
  },
  {
   "cell_type": "code",
   "execution_count": 29,
   "metadata": {},
   "outputs": [
    {
     "data": {
      "text/plain": [
       "Text(0.5, 13.421126458070283, 'Predicted label')"
      ]
     },
     "execution_count": 29,
     "metadata": {},
     "output_type": "execute_result"
    },
    {
     "data": {
      "image/png": "[encoded data removed]",
      "text/plain": [
       "<Figure size 432x288 with 2 Axes>"
      ]
     },
     "metadata": {
      "needs_background": "light"
     },
     "output_type": "display_data"
    }
   ],
   "source": [
    "# let's make it more colourful\n",
    "classes = 10\n",
    "\n",
    "plt.imshow(cm, interpolation='nearest', cmap=plt.cm.Blues)\n",
    "plt.title('Confusion matrix')\n",
    "plt.colorbar()\n",
    "tick_marks = np.arange(classes)\n",
    "plt.xticks(tick_marks, range(classes), rotation=45)\n",
    "plt.yticks(tick_marks, range(classes))\n",
    "\n",
    "for i, j in itertools.product(range(cm.shape[0]), range(cm.shape[1])):\n",
    "    plt.text(j, i, cm[i, j],\n",
    "             horizontalalignment=\"center\",\n",
    "             color=\"white\" if cm[i, j] > 100 else \"black\",\n",
    "            )\n",
    "\n",
    "plt.tight_layout()\n",
    "plt.ylabel('True label')\n",
    "plt.xlabel('Predicted label')"
   ]
  },
  {
   "cell_type": "code",
   "execution_count": null,
   "metadata": {},
   "outputs": [],
   "source": []
  }
 ],
 "metadata": {
  "kernelspec": {
   "display_name": "Python 3.9.13 ('hyperparameter_optimization_for_machine_learning')",
   "language": "python",
   "name": "python3"
  },
  "language_info": {
   "codemirror_mode": {
    "name": "ipython",
    "version": 3
   },
   "file_extension": ".py",
   "mimetype": "text/x-python",
   "name": "python",
   "nbconvert_exporter": "python",
   "pygments_lexer": "ipython3",
   "version": "3.9.13"
  },
  "orig_nbformat": 4,
  "vscode": {
   "interpreter": {
    "hash": "2f33e3a0ecdca2dfa9e05d6e5730c703bfe1984a713822542070e9abfcf88fe9"
   }
  }
 },
 "nbformat": 4,
 "nbformat_minor": 2
}
